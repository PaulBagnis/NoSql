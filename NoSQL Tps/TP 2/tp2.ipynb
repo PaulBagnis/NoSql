{
 "metadata": {
  "language_info": {
   "codemirror_mode": {
    "name": "ipython",
    "version": 3
   },
   "file_extension": ".py",
   "mimetype": "text/x-python",
   "name": "python",
   "nbconvert_exporter": "python",
   "pygments_lexer": "ipython3",
   "version": "3.8.5-final"
  },
  "orig_nbformat": 2,
  "kernelspec": {
   "name": "python3",
   "display_name": "Python 3",
   "language": "python"
  }
 },
 "nbformat": 4,
 "nbformat_minor": 2,
 "cells": [
  {
   "source": [
    "pip install pymongo"
   ],
   "cell_type": "code",
   "metadata": {},
   "execution_count": 1,
   "outputs": [
    {
     "output_type": "stream",
     "name": "stdout",
     "text": [
      "Requirement already satisfied: pymongo in /home/frantkich/.local/lib/python3.8/site-packages (3.11.2)\n",
      "Note: you may need to restart the kernel to use updated packages.\n"
     ]
    }
   ]
  },
  {
   "cell_type": "code",
   "execution_count": 2,
   "metadata": {},
   "outputs": [],
   "source": [
    "import pymongo\n",
    "from pymongo import MongoClient\n",
    "import json\n",
    "from pathlib import Path\n",
    "\n",
    "def get_client():\n",
    "    try:\n",
    "        client = MongoClient(host = \"mongodb://localhost:27017/\")\n",
    "    except:\n",
    "        print (\"connection error\")\n",
    "    return client"
   ]
  },
  {
   "cell_type": "code",
   "execution_count": 3,
   "metadata": {},
   "outputs": [],
   "source": [
    "client = get_client()\n",
    "\n",
    "db = client[\"gym\"]\n",
    "\n",
    "gym = db[\"Gymnases\"]\n",
    "sp = db[\"Sportifs\"]"
   ]
  },
  {
   "source": [
    "1.1) Afficher toutes les collections de la base"
   ],
   "cell_type": "markdown",
   "metadata": {}
  },
  {
   "cell_type": "code",
   "execution_count": 4,
   "metadata": {},
   "outputs": [
    {
     "output_type": "stream",
     "name": "stdout",
     "text": [
      "['Gymnases', 'Sportifs']\n"
     ]
    }
   ],
   "source": [
    "\n",
    "print(db.list_collection_names())"
   ]
  },
  {
   "source": [
    "1.2) Compter le nombre de documents ds chacune des collections"
   ],
   "cell_type": "markdown",
   "metadata": {}
  },
  {
   "cell_type": "code",
   "execution_count": 5,
   "metadata": {},
   "outputs": [
    {
     "output_type": "stream",
     "name": "stdout",
     "text": [
      "Taille de la collection Gymnase : 28\nTaille de la collection Sportifs : 150\n"
     ]
    }
   ],
   "source": [
    "print('Taille de la collection Gymnase : {}'.format(gym.find().count()))\n",
    "print('Taille de la collection Sportifs : {}'.format(sp.find().count()))"
   ]
  },
  {
   "source": [
    "1.2) Afficher un document de chacune des collections"
   ],
   "cell_type": "markdown",
   "metadata": {}
  },
  {
   "source": [
    "2) On cherche le (ou les) conseiller(s) s’appelant \"KERVADEC\" ?"
   ],
   "cell_type": "markdown",
   "metadata": {}
  },
  {
   "cell_type": "code",
   "execution_count": 6,
   "metadata": {},
   "outputs": [
    {
     "output_type": "stream",
     "name": "stdout",
     "text": [
      "{'_id': '566eec5f662b388eba464204', 'IdSportif': 2, 'Nom': 'KERVADEC', 'Prenom': 'Yann', 'Sexe': 'M', 'Age': 28, 'IdSportifConseiller': 1, 'Sports': {'Jouer': ['Basket ball', 'Volley ball', 'Ping pong', 'Football'], 'Arbitrer': ['Hockey', 'Football'], 'Entrainer': ['Basket ball', 'Volley ball', 'Hand ball', 'Tennis', 'Hockey', 'Badmington', 'Ping pong', 'Boxe']}}\n"
     ]
    }
   ],
   "source": [
    "request = sp.find({\n",
    "    \"IdSportifConseiller\" : 1, \n",
    "    \"Nom\" : \"KERVADEC\"\n",
    "})\n",
    "\n",
    "for element in request :\n",
    "    print(element)"
   ]
  },
  {
   "source": [
    "3) On cherche les sportifs qui ont ou bien 32 ans ou 40 ans ?"
   ],
   "cell_type": "markdown",
   "metadata": {}
  },
  {
   "cell_type": "code",
   "execution_count": 7,
   "metadata": {},
   "outputs": [
    {
     "output_type": "stream",
     "name": "stdout",
     "text": [
      "{'_id': '566eec5f662b388eba464206', 'IdSportif': 4, 'Nom': 'DORLEANS', 'Prenom': 'Jean-michel', 'Sexe': 'M', 'Age': 32, 'IdSportifConseiller': 1, 'Sports': {'Jouer': ['Volley ball', 'Football'], 'Arbitrer': ['Basket ball', 'Volley ball', 'Ping pong', 'Boxe'], 'Entrainer': ['Basket ball', 'Ping pong', 'Boxe']}}\n{'_id': '566eec5f662b388eba46421d', 'IdSportif': 28, 'Nom': 'RABAHI', 'Prenom': 'Rabah', 'Sexe': 'M', 'Age': 40, 'IdSportifConseiller': 4, 'Sports': {'Jouer': ['Basket ball', 'Volley ball', 'Hand ball', 'Ping pong', 'Football']}}\n{'_id': '566eec60662b388eba46423d', 'IdSportif': 60, 'Nom': 'TIZEGHAT', 'Prenom': 'Benamar', 'Sexe': 'M', 'Age': 32, 'IdSportifConseiller': 3, 'Sports': {'Jouer': ['Hand ball', 'Tennis', 'Football'], 'Arbitrer': 'Volley ball', 'Entrainer': ['Volley ball', 'Tennis', 'Ping pong']}}\n{'_id': '566eec60662b388eba46423f', 'IdSportif': 62, 'Nom': 'BAZOUD', 'Prenom': 'Jérôme', 'Sexe': 'M', 'Age': 32, 'IdSportifConseiller': 3, 'Sports': {'Jouer': 'Football'}}\n{'_id': '566eec60662b388eba464253', 'IdSportif': 82, 'Nom': 'HOUEL', 'Prenom': 'Jean-louis', 'Sexe': 'M', 'Age': 40, 'IdSportifConseiller': 14, 'Sports': {'Jouer': 'Football'}}\n{'_id': '566eec60662b388eba464264', 'IdSportif': 99, 'Nom': 'BONE', 'Prenom': 'Guy', 'Sexe': 'M', 'Age': 32, 'Sports': {'Jouer': 'Football'}}\n"
     ]
    }
   ],
   "source": [
    "request = sp.find({\n",
    "    \"$or\" : [\n",
    "        {\"Age\" : 32}, \n",
    "        {\"Age\" : 40}\n",
    "    ]\n",
    "})\n",
    "\n",
    "for element in request :\n",
    "    print(element)"
   ]
  },
  {
   "source": [
    "4) On cherche les sportifs jouant au Basket-ball ?"
   ],
   "cell_type": "markdown",
   "metadata": {}
  },
  {
   "cell_type": "code",
   "execution_count": 8,
   "metadata": {},
   "outputs": [
    {
     "output_type": "stream",
     "name": "stdout",
     "text": [
      "{'_id': '566eec5f662b388eba464204', 'IdSportif': 2, 'Nom': 'KERVADEC', 'Prenom': 'Yann', 'Sexe': 'M', 'Age': 28, 'IdSportifConseiller': 1, 'Sports': {'Jouer': ['Basket ball', 'Volley ball', 'Ping pong', 'Football'], 'Arbitrer': ['Hockey', 'Football'], 'Entrainer': ['Basket ball', 'Volley ball', 'Hand ball', 'Tennis', 'Hockey', 'Badmington', 'Ping pong', 'Boxe']}}\n{'_id': '566eec5f662b388eba464207', 'IdSportif': 5, 'Nom': 'COMES', 'Prenom': 'Sylvie', 'Sexe': 'F', 'Age': 22, 'IdSportifConseiller': 1, 'Sports': {'Jouer': ['Basket ball', 'Volley ball', 'Badmington', 'Ping pong'], 'Arbitrer': 'Ping pong'}}\n{'_id': '566eec5f662b388eba464208', 'IdSportif': 6, 'Nom': 'RETALDI', 'Prenom': 'Sophie', 'Sexe': 'F', 'Age': 30, 'IdSportifConseiller': 3, 'Sports': {'Jouer': ['Basket ball', 'Volley ball', 'Hand ball', 'Ping pong'], 'Arbitrer': ['Basket ball', 'Hockey', 'Ping pong'], 'Entrainer': ['Hockey', 'Ping pong', 'Boxe']}}\n{'_id': '566eec5f662b388eba46420f', 'IdSportif': 14, 'Nom': 'CAILLIOT', 'Prenom': 'Stéphanie', 'Sexe': 'F', 'Age': 24, 'IdSportifConseiller': 1, 'Sports': {'Jouer': ['Basket ball', 'Volley ball', 'Ping pong']}}\n{'_id': '566eec5f662b388eba464215', 'IdSportif': 20, 'Nom': 'TIENER', 'Prenom': 'Thomas', 'Sexe': 'M', 'Age': 25, 'IdSportifConseiller': 2, 'Sports': {'Jouer': ['Basket ball', 'Volley ball', 'Hand ball', 'Ping pong', 'Football'], 'Arbitrer': 'Volley ball'}}\n{'_id': '566eec5f662b388eba464217', 'IdSportif': 22, 'Nom': 'LEDUFAUD', 'Prenom': 'Pierre', 'Sexe': 'M', 'Age': 25, 'IdSportifConseiller': 3, 'Sports': {'Jouer': ['Basket ball', 'Volley ball', 'Ping pong', 'Football']}}\n{'_id': '566eec5f662b388eba464219', 'IdSportif': 24, 'Nom': 'LEJEUNE', 'Prenom': 'Sylvaine', 'Sexe': 'F', 'Age': 23, 'IdSportifConseiller': 7, 'Sports': {'Jouer': ['Basket ball', 'Volley ball', 'Badmington', 'Ping pong']}}\n{'_id': '566eec5f662b388eba46421d', 'IdSportif': 28, 'Nom': 'RABAHI', 'Prenom': 'Rabah', 'Sexe': 'M', 'Age': 40, 'IdSportifConseiller': 4, 'Sports': {'Jouer': ['Basket ball', 'Volley ball', 'Hand ball', 'Ping pong', 'Football']}}\n{'_id': '566eec5f662b388eba464221', 'IdSportif': 32, 'Nom': 'VAN CAUTER', 'Prenom': 'Vincent', 'Sexe': 'M', 'Age': 23, 'IdSportifConseiller': 3, 'Sports': {'Jouer': ['Basket ball', 'Volley ball', 'Hand ball', 'Badmington', 'Ping pong', 'Football'], 'Arbitrer': 'Ping pong', 'Entrainer': 'Ping pong'}}\n{'_id': '566eec60662b388eba464224', 'IdSportif': 35, 'Nom': 'TANQUE', 'Prenom': 'Yann', 'Sexe': 'M', 'Age': 24, 'IdSportifConseiller': 4, 'Sports': {'Jouer': ['Basket ball', 'Volley ball', 'Hand ball', 'Ping pong', 'Football'], 'Arbitrer': 'Badmington', 'Entrainer': ['Badmington', 'Ping pong']}}\n{'_id': '566eec60662b388eba464225', 'IdSportif': 36, 'Nom': 'DJELOUDANE', 'Prenom': 'Zinedine', 'Sexe': 'M', 'Age': 28, 'IdSportifConseiller': 1, 'Sports': {'Jouer': ['Basket ball', 'Volley ball', 'Ping pong', 'Football'], 'Entrainer': 'Badmington'}}\n{'_id': '566eec60662b388eba464229', 'IdSportif': 40, 'Nom': 'VALIN', 'Prenom': 'Yann', 'Sexe': 'M', 'Age': 23, 'IdSportifConseiller': 2, 'Sports': {'Jouer': ['Basket ball', 'Hand ball', 'Badmington', 'Ping pong', 'Football'], 'Entrainer': ['Badmington', 'Ping pong']}}\n{'_id': '566eec60662b388eba46422d', 'IdSportif': 44, 'Nom': 'ADIBO', 'Prenom': 'Senamé', 'Sexe': 'M', 'Age': 28, 'IdSportifConseiller': 21, 'Sports': {'Jouer': ['Basket ball', 'Ping pong', 'Football']}}\n{'_id': '566eec60662b388eba464231', 'IdSportif': 48, 'Nom': 'HEDDI', 'Prenom': 'Zohra', 'Sexe': 'F', 'Age': 23, 'IdSportifConseiller': 2, 'Sports': {'Jouer': ['Basket ball', 'Badmington', 'Ping pong'], 'Entrainer': 'Badmington'}}\n{'_id': '566eec60662b388eba464232', 'IdSportif': 49, 'Nom': 'JOUVE', 'Prenom': 'Sandra', 'Sexe': 'F', 'Age': 24, 'IdSportifConseiller': 5, 'Sports': {'Jouer': ['Basket ball', 'Ping pong']}}\n{'_id': '566eec60662b388eba464233', 'IdSportif': 50, 'Nom': 'KALOMBO', 'Prenom': 'Yannick', 'Sexe': 'M', 'Age': 22, 'IdSportifConseiller': 2, 'Sports': {'Jouer': ['Basket ball', 'Badmington', 'Ping pong', 'Football'], 'Entrainer': 'Badmington'}}\n{'_id': '566eec60662b388eba464234', 'IdSportif': 51, 'Nom': 'LOPEZ', 'Prenom': 'Thibaud', 'Sexe': 'M', 'Age': 24, 'IdSportifConseiller': 5, 'Sports': {'Jouer': ['Basket ball', 'Hand ball', 'Ping pong', 'Football']}}\n{'_id': '566eec60662b388eba464235', 'IdSportif': 52, 'Nom': 'DANDOIS', 'Prenom': 'Régis', 'Sexe': 'M', 'Age': 22, 'IdSportifConseiller': 5, 'Sports': {'Jouer': ['Basket ball', 'Badmington', 'Ping pong', 'Football']}}\n{'_id': '566eec60662b388eba464236', 'IdSportif': 53, 'Nom': 'DEMMER', 'Prenom': 'Thomas', 'Sexe': 'M', 'Age': 22, 'IdSportifConseiller': 1, 'Sports': {'Jouer': ['Basket ball', 'Badmington', 'Ping pong', 'Football']}}\n{'_id': '566eec60662b388eba464239', 'IdSportif': 56, 'Nom': 'GUERRAOUI', 'Prenom': 'Zohra', 'Sexe': 'F', 'Age': 25, 'IdSportifConseiller': 1, 'Sports': {'Jouer': ['Basket ball', 'Ping pong'], 'Entrainer': 'Badmington'}}\n{'_id': '566eec60662b388eba46423b', 'IdSportif': 58, 'Nom': 'GUIGUI', 'Prenom': 'Vincent', 'Sexe': 'M', 'Age': 23, 'IdSportifConseiller': 4, 'Sports': {'Jouer': ['Basket ball', 'Badmington', 'Ping pong', 'Football'], 'Entrainer': ['Volley ball', 'Tennis']}}\n{'_id': '566eec60662b388eba46423c', 'IdSportif': 59, 'Nom': 'CLERICE', 'Prenom': 'Stéphanie', 'Sexe': 'F', 'Age': 23, 'Sports': {'Jouer': ['Basket ball', 'Badmington', 'Ping pong'], 'Arbitrer': 'Tennis', 'Entrainer': ['Volley ball', 'Tennis']}}\n{'_id': '566eec60662b388eba464240', 'IdSportif': 63, 'Nom': 'AMAND', 'Prenom': 'Patrick', 'Sexe': 'M', 'Age': 30, 'IdSportifConseiller': 1, 'Sports': {'Jouer': ['Basket ball', 'Ping pong', 'Football']}}\n{'_id': '566eec60662b388eba464246', 'IdSportif': 69, 'Nom': 'MARIE', 'Prenom': 'Paule', 'Sexe': 'F', 'Age': 25, 'IdSportifConseiller': 7, 'Sports': {'Jouer': ['Basket ball', 'Hand ball', 'Ping pong']}}\n{'_id': '566eec60662b388eba46424e', 'IdSportif': 77, 'Nom': 'HEON', 'Prenom': 'Philippe', 'Sexe': 'M', 'Age': 30, 'IdSportifConseiller': 1, 'Sports': {'Jouer': ['Basket ball', 'Ping pong', 'Football']}}\n{'_id': '566eec60662b388eba464251', 'IdSportif': 80, 'Nom': 'HOCHET', 'Prenom': 'Pierre', 'Sexe': 'M', 'Age': 30, 'IdSportifConseiller': 1, 'Sports': {'Jouer': ['Basket ball', 'Ping pong', 'Football']}}\n{'_id': '566eec60662b388eba464256', 'IdSportif': 85, 'Nom': 'HAMARD', 'Prenom': 'Romain', 'Sexe': 'M', 'Age': 30, 'IdSportifConseiller': 2, 'Sports': {'Jouer': ['Basket ball', 'Ping pong', 'Football']}}\n{'_id': '566eec60662b388eba464259', 'IdSportif': 88, 'Nom': 'LEJEUNE', 'Prenom': 'Richard', 'Sexe': 'M', 'Age': 30, 'IdSportifConseiller': 8, 'Sports': {'Jouer': ['Basket ball', 'Ping pong', 'Football']}}\n{'_id': '566eec60662b388eba46425c', 'IdSportif': 91, 'Nom': 'LECHEVALIER', 'Prenom': 'Patrick', 'Sexe': 'M', 'Age': 30, 'IdSportifConseiller': 98, 'Sports': {'Jouer': ['Basket ball', 'Ping pong', 'Football']}}\n{'_id': '566eec60662b388eba46425f', 'IdSportif': 94, 'Nom': 'LEROUX', 'Prenom': 'Paule', 'Sexe': 'M', 'Age': 36, 'IdSportifConseiller': 4, 'Sports': {'Jouer': ['Basket ball', 'Hand ball', 'Ping pong', 'Football'], 'Arbitrer': 'Basket ball'}}\n{'_id': '566eec60662b388eba464263', 'IdSportif': 98, 'Nom': 'RICHARD', 'Prenom': 'William', 'Sexe': 'M', 'Age': 30, 'IdSportifConseiller': 2, 'Sports': {'Jouer': ['Basket ball', 'Hand ball', 'Ping pong', 'Football'], 'Arbitrer': 'Basket ball'}}\n{'_id': '566eec60662b388eba46426a', 'IdSportif': 105, 'Nom': 'STILO', 'Prenom': 'Philippe', 'Sexe': 'M', 'Age': 30, 'IdSportifConseiller': 3, 'Sports': {'Jouer': ['Basket ball', 'Hand ball', 'Ping pong', 'Football'], 'Arbitrer': 'Basket ball'}}\n{'_id': '566eec60662b388eba46426d', 'IdSportif': 108, 'Nom': 'LAURENCE', 'Prenom': 'Serge', 'Sexe': 'M', 'Age': 30, 'IdSportifConseiller': 4, 'Sports': {'Jouer': ['Basket ball', 'Ping pong', 'Football']}}\n{'_id': '566eec60662b388eba46426e', 'IdSportif': 109, 'Nom': 'SAUVAGE', 'Prenom': 'Patrick', 'Sexe': 'M', 'Age': 30, 'IdSportifConseiller': 5, 'Sports': {'Jouer': ['Basket ball', 'Hand ball', 'Ping pong', 'Football']}}\n{'_id': '566eec60662b388eba464277', 'IdSportif': 118, 'Nom': 'FROMENT', 'Prenom': 'Philippe', 'Sexe': 'M', 'Age': 30, 'IdSportifConseiller': 2, 'Sports': {'Jouer': ['Basket ball', 'Ping pong', 'Football']}}\n{'_id': '566eec60662b388eba46427c', 'IdSportif': 123, 'Nom': 'LETHIMONNIER', 'Prenom': 'Victor', 'Sexe': 'M', 'Age': 30, 'IdSportifConseiller': 6, 'Sports': {'Jouer': ['Basket ball', 'Hand ball', 'Ping pong', 'Football']}}\n{'_id': '566eec60662b388eba46427e', 'IdSportif': 125, 'Nom': 'JALON', 'Prenom': 'Patrick', 'Sexe': 'M', 'Age': 30, 'IdSportifConseiller': 2, 'Sports': {'Jouer': ['Basket ball', 'Ping pong', 'Football']}}\n{'_id': '566eec60662b388eba464282', 'IdSportif': 129, 'Nom': 'DABON', 'Prenom': 'Richard', 'Sexe': 'M', 'Age': 30, 'IdSportifConseiller': 3, 'Sports': {'Jouer': ['Basket ball', 'Ping pong', 'Football']}}\n{'_id': '566eec60662b388eba464285', 'IdSportif': 132, 'Nom': 'DORON', 'Prenom': 'Yannick', 'Sexe': 'M', 'Age': 30, 'IdSportifConseiller': 1, 'Sports': {'Jouer': ['Basket ball', 'Ping pong', 'Football']}}\n{'_id': '566eec60662b388eba464296', 'IdSportif': 149, 'Nom': 'BELZ', 'Prenom': 'Sylvianne', 'Sexe': 'F', 'Age': 27, 'IdSportifConseiller': 7, 'Sports': {'Jouer': 'Basket ball', 'Arbitrer': 'Basket ball', 'Entrainer': 'Basket ball'}}\n{'_id': '566eec60662b388eba464298', 'IdSportif': 151, 'Nom': 'HENRY', 'Prenom': 'Maël', 'Sexe': 'M', 'Age': 25, 'IdSportifConseiller': 2, 'Sports': {'Jouer': ['Basket ball', 'Hand ball'], 'Arbitrer': ['Basket ball', 'Hand ball'], 'Entrainer': ['Basket ball', 'Hand ball']}}\n"
     ]
    }
   ],
   "source": [
    "request = sp.find({\n",
    "    \"Sports.Jouer\" : \"Basket ball\"\n",
    "})\n",
    "\n",
    "for element in request :\n",
    "    print(element)"
   ]
  },
  {
   "source": [
    "5) On cherche les sportifs ayant au moins 32 ans, ou de sexe féminin ?"
   ],
   "cell_type": "markdown",
   "metadata": {}
  },
  {
   "cell_type": "code",
   "execution_count": 9,
   "metadata": {},
   "outputs": [
    {
     "output_type": "stream",
     "name": "stdout",
     "text": [
      "{'_id': '566eec5f662b388eba464205', 'IdSportif': 3, 'Nom': 'HUE', 'Prenom': 'Pascale', 'Sexe': 'F', 'Age': 25, 'IdSportifConseiller': 1, 'Sports': {'Jouer': ['Volley ball', 'Ping pong'], 'Arbitrer': ['Volley ball', 'Badmington', 'Ping pong'], 'Entrainer': ['Basket ball', 'Volley ball', 'Hand ball', 'Badmington']}}\n{'_id': '566eec5f662b388eba464206', 'IdSportif': 4, 'Nom': 'DORLEANS', 'Prenom': 'Jean-michel', 'Sexe': 'M', 'Age': 32, 'IdSportifConseiller': 1, 'Sports': {'Jouer': ['Volley ball', 'Football'], 'Arbitrer': ['Basket ball', 'Volley ball', 'Ping pong', 'Boxe'], 'Entrainer': ['Basket ball', 'Ping pong', 'Boxe']}}\n{'_id': '566eec5f662b388eba464207', 'IdSportif': 5, 'Nom': 'COMES', 'Prenom': 'Sylvie', 'Sexe': 'F', 'Age': 22, 'IdSportifConseiller': 1, 'Sports': {'Jouer': ['Basket ball', 'Volley ball', 'Badmington', 'Ping pong'], 'Arbitrer': 'Ping pong'}}\n{'_id': '566eec5f662b388eba464208', 'IdSportif': 6, 'Nom': 'RETALDI', 'Prenom': 'Sophie', 'Sexe': 'F', 'Age': 30, 'IdSportifConseiller': 3, 'Sports': {'Jouer': ['Basket ball', 'Volley ball', 'Hand ball', 'Ping pong'], 'Arbitrer': ['Basket ball', 'Hockey', 'Ping pong'], 'Entrainer': ['Hockey', 'Ping pong', 'Boxe']}}\n{'_id': '566eec5f662b388eba46420a', 'IdSportif': 9, 'Nom': 'ANTUNES', 'Prenom': 'Gaêlle', 'Sexe': 'F', 'Age': 23, 'IdSportifConseiller': 4, 'Sports': {'Jouer': ['Volley ball', 'Tennis', 'Badmington']}}\n{'_id': '566eec5f662b388eba46420f', 'IdSportif': 14, 'Nom': 'CAILLIOT', 'Prenom': 'Stéphanie', 'Sexe': 'F', 'Age': 24, 'IdSportifConseiller': 1, 'Sports': {'Jouer': ['Basket ball', 'Volley ball', 'Ping pong']}}\n{'_id': '566eec5f662b388eba464213', 'IdSportif': 18, 'Nom': 'HOSNI', 'Prenom': 'Leila', 'Sexe': 'F', 'Age': 25, 'IdSportifConseiller': 5, 'Sports': {'Jouer': 'Volley ball'}}\n{'_id': '566eec5f662b388eba464219', 'IdSportif': 24, 'Nom': 'LEJEUNE', 'Prenom': 'Sylvaine', 'Sexe': 'F', 'Age': 23, 'IdSportifConseiller': 7, 'Sports': {'Jouer': ['Basket ball', 'Volley ball', 'Badmington', 'Ping pong']}}\n{'_id': '566eec5f662b388eba46421b', 'IdSportif': 26, 'Nom': 'MICHEL', 'Prenom': 'Frédérique', 'Sexe': 'F', 'Age': 23, 'IdSportifConseiller': 3, 'Sports': {'Jouer': ['Volley ball', 'Hand ball', 'Tennis', 'Badmington']}}\n{'_id': '566eec5f662b388eba46421e', 'IdSportif': 29, 'Nom': 'ROUSSEL', 'Prenom': 'Nadège', 'Sexe': 'F', 'Age': 22, 'IdSportifConseiller': 5, 'Sports': {'Jouer': ['Volley ball', 'Hand ball', 'Badmington', 'Ping pong'], 'Arbitrer': 'Ping pong', 'Entrainer': 'Ping pong'}}\n{'_id': '566eec60662b388eba464226', 'IdSportif': 37, 'Nom': 'LAZZARI', 'Prenom': 'Magali', 'Sexe': 'F', 'Age': 25, 'IdSportifConseiller': 44, 'Sports': {'Jouer': 'Volley ball'}}\n{'_id': '566eec60662b388eba46422a', 'IdSportif': 41, 'Nom': 'DELOVINA', 'Prenom': 'Elina', 'Sexe': 'F', 'Age': 22, 'IdSportifConseiller': 7, 'Sports': {'Jouer': ['Tennis', 'Badmington']}}\n{'_id': '566eec60662b388eba46422c', 'IdSportif': 43, 'Nom': 'MATHIEU', 'Prenom': 'Denise', 'Sexe': 'F', 'Age': 23, 'IdSportifConseiller': 6, 'Sports': {'Jouer': ['Hand ball', 'Tennis', 'Badmington']}}\n{'_id': '566eec60662b388eba464230', 'IdSportif': 47, 'Nom': 'GROEN', 'Prenom': 'Céline', 'Sexe': 'F', 'Age': 25, 'IdSportifConseiller': 2, 'Sports': {'Jouer': 'Tennis'}}\n{'_id': '566eec60662b388eba464231', 'IdSportif': 48, 'Nom': 'HEDDI', 'Prenom': 'Zohra', 'Sexe': 'F', 'Age': 23, 'IdSportifConseiller': 2, 'Sports': {'Jouer': ['Basket ball', 'Badmington', 'Ping pong'], 'Entrainer': 'Badmington'}}\n{'_id': '566eec60662b388eba464232', 'IdSportif': 49, 'Nom': 'JOUVE', 'Prenom': 'Sandra', 'Sexe': 'F', 'Age': 24, 'IdSportifConseiller': 5, 'Sports': {'Jouer': ['Basket ball', 'Ping pong']}}\n{'_id': '566eec60662b388eba464239', 'IdSportif': 56, 'Nom': 'GUERRAOUI', 'Prenom': 'Zohra', 'Sexe': 'F', 'Age': 25, 'IdSportifConseiller': 1, 'Sports': {'Jouer': ['Basket ball', 'Ping pong'], 'Entrainer': 'Badmington'}}\n{'_id': '566eec60662b388eba46423c', 'IdSportif': 59, 'Nom': 'CLERICE', 'Prenom': 'Stéphanie', 'Sexe': 'F', 'Age': 23, 'Sports': {'Jouer': ['Basket ball', 'Badmington', 'Ping pong'], 'Arbitrer': 'Tennis', 'Entrainer': ['Volley ball', 'Tennis']}}\n{'_id': '566eec60662b388eba46423d', 'IdSportif': 60, 'Nom': 'TIZEGHAT', 'Prenom': 'Benamar', 'Sexe': 'M', 'Age': 32, 'IdSportifConseiller': 3, 'Sports': {'Jouer': ['Hand ball', 'Tennis', 'Football'], 'Arbitrer': 'Volley ball', 'Entrainer': ['Volley ball', 'Tennis', 'Ping pong']}}\n{'_id': '566eec60662b388eba46423f', 'IdSportif': 62, 'Nom': 'BAZOUD', 'Prenom': 'Jérôme', 'Sexe': 'M', 'Age': 32, 'IdSportifConseiller': 3, 'Sports': {'Jouer': 'Football'}}\n{'_id': '566eec60662b388eba464241', 'IdSportif': 64, 'Nom': 'LANOE', 'Prenom': 'Françoise', 'Sexe': 'F', 'Age': 30, 'IdSportifConseiller': 2, 'Sports': {'Jouer': 'Tennis'}}\n{'_id': '566eec60662b388eba464244', 'IdSportif': 67, 'Nom': 'VONTHRON', 'Prenom': 'Dominique', 'Sexe': 'F', 'Age': 26, 'IdSportifConseiller': 2, 'Sports': {'Jouer': ['Hand ball', 'Tennis']}}\n{'_id': '566eec60662b388eba464245', 'IdSportif': 68, 'Nom': 'REGNAULD', 'Prenom': 'Jeanne', 'Sexe': 'F', 'Age': 30, 'IdSportifConseiller': 2, 'Sports': {'Jouer': 'Hand ball'}}\n{'_id': '566eec60662b388eba464246', 'IdSportif': 69, 'Nom': 'MARIE', 'Prenom': 'Paule', 'Sexe': 'F', 'Age': 25, 'IdSportifConseiller': 7, 'Sports': {'Jouer': ['Basket ball', 'Hand ball', 'Ping pong']}}\n{'_id': '566eec60662b388eba46424c', 'IdSportif': 75, 'Nom': 'SARRAZIN', 'Prenom': 'Noëlle', 'Sexe': 'F', 'Age': 39, 'IdSportifConseiller': 1, 'Sports': {'Jouer': ['Hand ball', 'Ping pong']}}\n{'_id': '566eec60662b388eba46424d', 'IdSportif': 76, 'Nom': 'HALGATTE', 'Prenom': 'Claude', 'Sexe': 'F', 'Age': 30, 'IdSportifConseiller': 21, 'Sports': {'Jouer': 'Tennis'}}\n{'_id': '566eec60662b388eba464252', 'IdSportif': 81, 'Nom': 'DROULLON', 'Prenom': 'Joëlle', 'Sexe': 'F', 'Age': 30, 'IdSportifConseiller': 1}\n{'_id': '566eec60662b388eba464264', 'IdSportif': 99, 'Nom': 'BONE', 'Prenom': 'Guy', 'Sexe': 'M', 'Age': 32, 'Sports': {'Jouer': 'Football'}}\n{'_id': '566eec60662b388eba464269', 'IdSportif': 104, 'Nom': 'SEHIER', 'Prenom': 'Dominique', 'Sexe': 'F', 'Age': 30, 'IdSportifConseiller': 1, 'Sports': {'Jouer': ['Hand ball', 'Tennis']}}\n{'_id': '566eec60662b388eba464273', 'IdSportif': 114, 'Nom': 'MICHEL', 'Prenom': 'Danielle', 'Sexe': 'F', 'Age': 22, 'IdSportifConseiller': 5, 'Sports': {'Jouer': ['Hand ball', 'Tennis', 'Badmington']}}\n{'_id': '566eec60662b388eba464275', 'IdSportif': 116, 'Nom': 'BELUAU', 'Prenom': 'Gilberte', 'Sexe': 'F', 'Age': 30, 'IdSportifConseiller': 8}\n{'_id': '566eec60662b388eba464276', 'IdSportif': 117, 'Nom': 'FERREIRA', 'Prenom': 'Martine', 'Sexe': 'F', 'Age': 30, 'IdSportifConseiller': 2}\n{'_id': '566eec60662b388eba46427b', 'IdSportif': 122, 'Nom': 'BECQUET', 'Prenom': 'Erika', 'Sexe': 'F', 'Age': 30, 'IdSportifConseiller': 6, 'Sports': {'Jouer': 'Tennis'}}\n{'_id': '566eec60662b388eba46427d', 'IdSportif': 124, 'Nom': 'SWERTVAEGER', 'Prenom': 'Michelle', 'Sexe': 'F', 'Age': 30, 'IdSportifConseiller': 2, 'Sports': {'Jouer': 'Hand ball'}}\n{'_id': '566eec60662b388eba464284', 'IdSportif': 131, 'Nom': 'GALLOIS', 'Prenom': 'Michelle', 'Sexe': 'F', 'Age': 30, 'IdSportifConseiller': 2}\n{'_id': '566eec60662b388eba464289', 'IdSportif': 136, 'Nom': 'LABOULAIS', 'Prenom': 'Chloé', 'Sexe': 'F', 'Age': 26, 'IdSportifConseiller': 2, 'Sports': {'Jouer': 'Tennis'}}\n{'_id': '566eec60662b388eba46428a', 'IdSportif': 137, 'Nom': 'DUDOUIT', 'Prenom': 'Chloé', 'Sexe': 'F', 'Age': 26, 'IdSportifConseiller': 2, 'Sports': {'Jouer': 'Tennis'}}\n{'_id': '566eec60662b388eba46428b', 'IdSportif': 138, 'Nom': 'MADELAINE', 'Prenom': 'Chloé', 'Sexe': 'F', 'Age': 26, 'IdSportifConseiller': 1, 'Sports': {'Jouer': ['Hand ball', 'Tennis']}}\n{'_id': '566eec60662b388eba46428c', 'IdSportif': 139, 'Nom': 'BESNARD', 'Prenom': 'Chloé', 'Sexe': 'F', 'Age': 26, 'IdSportifConseiller': 4, 'Sports': {'Jouer': 'Tennis'}}\n{'_id': '566eec60662b388eba46428d', 'IdSportif': 140, 'Nom': 'BELZ', 'Prenom': 'Chloé', 'Sexe': 'F', 'Age': 26, 'IdSportifConseiller': 7, 'Sports': {'Jouer': 'Tennis'}}\n{'_id': '566eec60662b388eba46428e', 'IdSportif': 141, 'Nom': 'BONNET', 'Prenom': 'Chloé', 'Sexe': 'F', 'Age': 26, 'IdSportifConseiller': 5, 'Sports': {'Jouer': 'Tennis'}}\n{'_id': '566eec60662b388eba46428f', 'IdSportif': 142, 'Nom': 'CORNET', 'Prenom': 'Chloé', 'Sexe': 'F', 'Age': 26, 'IdSportifConseiller': 1, 'Sports': {'Jouer': 'Tennis'}}\n{'_id': '566eec60662b388eba464290', 'IdSportif': 143, 'Nom': 'BEUZELIN', 'Prenom': 'Chloé', 'Sexe': 'F', 'Age': 26, 'IdSportifConseiller': 5, 'Sports': {'Jouer': 'Tennis'}}\n{'_id': '566eec60662b388eba464291', 'IdSportif': 144, 'Nom': 'GRANDIDIER', 'Prenom': 'Chloé', 'Sexe': 'F', 'Age': 26, 'IdSportifConseiller': 2, 'Sports': {'Jouer': 'Tennis'}}\n{'_id': '566eec60662b388eba464292', 'IdSportif': 145, 'Nom': 'LENEVEU', 'Prenom': 'Marie', 'Sexe': 'F', 'Age': 25, 'IdSportifConseiller': 2}\n{'_id': '566eec60662b388eba464294', 'IdSportif': 147, 'Nom': 'CLERICE', 'Prenom': 'Alice', 'Sexe': 'F', 'Age': 25, 'IdSportifConseiller': 2}\n{'_id': '566eec60662b388eba464295', 'IdSportif': 148, 'Nom': 'COMES', 'Prenom': 'Marie', 'Sexe': 'F', 'Age': 27, 'IdSportifConseiller': 1}\n{'_id': '566eec60662b388eba464296', 'IdSportif': 149, 'Nom': 'BELZ', 'Prenom': 'Sylvianne', 'Sexe': 'F', 'Age': 27, 'IdSportifConseiller': 7, 'Sports': {'Jouer': 'Basket ball', 'Arbitrer': 'Basket ball', 'Entrainer': 'Basket ball'}}\n"
     ]
    }
   ],
   "source": [
    "request = sp.find({\n",
    "    \"$or\" : [\n",
    "        {\"Age\" : 32}, \n",
    "        {\"Sexe\" : \"F\"}\n",
    "    ]\n",
    "})\n",
    "\n",
    "for element in request :\n",
    "    print(element)"
   ]
  },
  {
   "source": [
    "6) Trouver le nombre de sportifs de sexe féminin dans la base ?"
   ],
   "cell_type": "markdown",
   "metadata": {}
  },
  {
   "cell_type": "code",
   "execution_count": 10,
   "metadata": {},
   "outputs": [
    {
     "output_type": "stream",
     "name": "stdout",
     "text": [
      "44\n"
     ]
    }
   ],
   "source": [
    "request = sp.find({\n",
    "    \"Sexe\" : \"F\"\n",
    "})\n",
    "print(request.count())"
   ]
  },
  {
   "source": [
    "7) Quels sont les sportifs (identifiant, nom et prénom) qui ont entre 20 et 30 ans ?"
   ],
   "cell_type": "markdown",
   "metadata": {}
  },
  {
   "cell_type": "code",
   "execution_count": 11,
   "metadata": {},
   "outputs": [
    {
     "output_type": "stream",
     "name": "stdout",
     "text": [
      "{'_id': '566eec5f662b388eba464204', 'Nom': 'KERVADEC', 'Prenom': 'Yann'}\n{'_id': '566eec5f662b388eba464205', 'Nom': 'HUE', 'Prenom': 'Pascale'}\n{'_id': '566eec5f662b388eba464207', 'Nom': 'COMES', 'Prenom': 'Sylvie'}\n{'_id': '566eec5f662b388eba464209', 'Nom': 'GOMEZ', 'Prenom': 'Diego'}\n{'_id': '566eec5f662b388eba46420a', 'Nom': 'ANTUNES', 'Prenom': 'Gaêlle'}\n{'_id': '566eec5f662b388eba46420b', 'Nom': 'BLANDET', 'Prenom': 'Arnaud'}\n{'_id': '566eec5f662b388eba46420c', 'Nom': 'BONNET', 'Prenom': 'Christophe'}\n{'_id': '566eec5f662b388eba46420d', 'Nom': 'BORREL', 'Prenom': 'Benoît'}\n{'_id': '566eec5f662b388eba46420e', 'Nom': 'BOYON', 'Prenom': 'Julien'}\n{'_id': '566eec5f662b388eba46420f', 'Nom': 'CAILLIOT', 'Prenom': 'Stéphanie'}\n{'_id': '566eec5f662b388eba464210', 'Nom': 'CHAMPENOIS', 'Prenom': 'Cédric'}\n{'_id': '566eec5f662b388eba464211', 'Nom': 'COLAS', 'Prenom': 'Michaël'}\n{'_id': '566eec5f662b388eba464212', 'Nom': 'COLOMB', 'Prenom': 'Michaël'}\n{'_id': '566eec5f662b388eba464213', 'Nom': 'HOSNI', 'Prenom': 'Leila'}\n{'_id': '566eec5f662b388eba464214', 'Nom': 'TESTEMONT', 'Prenom': 'Laurent'}\n{'_id': '566eec5f662b388eba464215', 'Nom': 'TIENER', 'Prenom': 'Thomas'}\n{'_id': '566eec5f662b388eba464216', 'Nom': 'LE BOUCHER', 'Prenom': 'Denis'}\n{'_id': '566eec5f662b388eba464217', 'Nom': 'LEDUFAUD', 'Prenom': 'Pierre'}\n{'_id': '566eec5f662b388eba464218', 'Nom': 'LEGRAND', 'Prenom': 'David'}\n{'_id': '566eec5f662b388eba464219', 'Nom': 'LEJEUNE', 'Prenom': 'Sylvaine'}\n{'_id': '566eec5f662b388eba46421a', 'Nom': 'MARTORA', 'Prenom': 'Fabrice'}\n{'_id': '566eec5f662b388eba46421b', 'Nom': 'MICHEL', 'Prenom': 'Frédérique'}\n{'_id': '566eec5f662b388eba46421c', 'Nom': 'NIELLEZ', 'Prenom': 'Christophe'}\n{'_id': '566eec5f662b388eba46421e', 'Nom': 'ROUSSEL', 'Prenom': 'Nadège'}\n{'_id': '566eec5f662b388eba46421f', 'Nom': 'SCHINK', 'Prenom': 'Nicolas'}\n{'_id': '566eec5f662b388eba464220', 'Nom': 'STEMPUT', 'Prenom': 'Mathieu'}\n{'_id': '566eec5f662b388eba464221', 'Nom': 'VAN CAUTER', 'Prenom': 'Vincent'}\n{'_id': '566eec60662b388eba464222', 'Nom': 'RAMPNOUX', 'Prenom': 'Jean françois'}\n{'_id': '566eec60662b388eba464223', 'Nom': 'LHERPINIERE', 'Prenom': 'Olivier'}\n{'_id': '566eec60662b388eba464224', 'Nom': 'TANQUE', 'Prenom': 'Yann'}\n{'_id': '566eec60662b388eba464225', 'Nom': 'DJELOUDANE', 'Prenom': 'Zinedine'}\n{'_id': '566eec60662b388eba464226', 'Nom': 'LAZZARI', 'Prenom': 'Magali'}\n{'_id': '566eec60662b388eba464227', 'Nom': 'VASSEMON', 'Prenom': 'Laurent'}\n{'_id': '566eec60662b388eba464228', 'Nom': 'MOREL', 'Prenom': 'Mathieu'}\n{'_id': '566eec60662b388eba464229', 'Nom': 'VALIN', 'Prenom': 'Yann'}\n{'_id': '566eec60662b388eba46422a', 'Nom': 'DELOVINA', 'Prenom': 'Elina'}\n{'_id': '566eec60662b388eba46422b', 'Nom': 'LEHOUX', 'Prenom': 'Bruno'}\n{'_id': '566eec60662b388eba46422c', 'Nom': 'MATHIEU', 'Prenom': 'Denise'}\n{'_id': '566eec60662b388eba46422d', 'Nom': 'ADIBO', 'Prenom': 'Senamé'}\n{'_id': '566eec60662b388eba46422e', 'Nom': 'CHAVANT', 'Prenom': 'Christophe'}\n{'_id': '566eec60662b388eba46422f', 'Nom': 'DAUXIAN', 'Prenom': 'Cédric'}\n{'_id': '566eec60662b388eba464230', 'Nom': 'GROEN', 'Prenom': 'Céline'}\n{'_id': '566eec60662b388eba464231', 'Nom': 'HEDDI', 'Prenom': 'Zohra'}\n{'_id': '566eec60662b388eba464232', 'Nom': 'JOUVE', 'Prenom': 'Sandra'}\n{'_id': '566eec60662b388eba464233', 'Nom': 'KALOMBO', 'Prenom': 'Yannick'}\n{'_id': '566eec60662b388eba464234', 'Nom': 'LOPEZ', 'Prenom': 'Thibaud'}\n{'_id': '566eec60662b388eba464235', 'Nom': 'DANDOIS', 'Prenom': 'Régis'}\n{'_id': '566eec60662b388eba464236', 'Nom': 'DEMMER', 'Prenom': 'Thomas'}\n{'_id': '566eec60662b388eba464237', 'Nom': 'ELKABBADJ', 'Prenom': 'Mohammed'}\n{'_id': '566eec60662b388eba464238', 'Nom': 'FEROLDI', 'Prenom': 'Olivier'}\n{'_id': '566eec60662b388eba464239', 'Nom': 'GUERRAOUI', 'Prenom': 'Zohra'}\n{'_id': '566eec60662b388eba46423a', 'Nom': 'BOISSEAU', 'Prenom': 'Eric'}\n{'_id': '566eec60662b388eba46423b', 'Nom': 'GUIGUI', 'Prenom': 'Vincent'}\n{'_id': '566eec60662b388eba46423c', 'Nom': 'CLERICE', 'Prenom': 'Stéphanie'}\n{'_id': '566eec60662b388eba46423e', 'Nom': 'LAZARRE', 'Prenom': 'Jean'}\n{'_id': '566eec60662b388eba464244', 'Nom': 'VONTHRON', 'Prenom': 'Dominique'}\n{'_id': '566eec60662b388eba464246', 'Nom': 'MARIE', 'Prenom': 'Paule'}\n{'_id': '566eec60662b388eba464249', 'Nom': 'MARTEL', 'Prenom': 'Bernard'}\n{'_id': '566eec60662b388eba464255', 'Nom': 'SALLAÏ', 'Prenom': 'Miloud'}\n{'_id': '566eec60662b388eba46425d', 'Nom': 'HERVIEU', 'Prenom': 'Jean-François'}\n{'_id': '566eec60662b388eba464273', 'Nom': 'MICHEL', 'Prenom': 'Danielle'}\n{'_id': '566eec60662b388eba464289', 'Nom': 'LABOULAIS', 'Prenom': 'Chloé'}\n{'_id': '566eec60662b388eba46428a', 'Nom': 'DUDOUIT', 'Prenom': 'Chloé'}\n{'_id': '566eec60662b388eba46428b', 'Nom': 'MADELAINE', 'Prenom': 'Chloé'}\n{'_id': '566eec60662b388eba46428c', 'Nom': 'BESNARD', 'Prenom': 'Chloé'}\n{'_id': '566eec60662b388eba46428d', 'Nom': 'BELZ', 'Prenom': 'Chloé'}\n{'_id': '566eec60662b388eba46428e', 'Nom': 'BONNET', 'Prenom': 'Chloé'}\n{'_id': '566eec60662b388eba46428f', 'Nom': 'CORNET', 'Prenom': 'Chloé'}\n{'_id': '566eec60662b388eba464290', 'Nom': 'BEUZELIN', 'Prenom': 'Chloé'}\n{'_id': '566eec60662b388eba464291', 'Nom': 'GRANDIDIER', 'Prenom': 'Chloé'}\n{'_id': '566eec60662b388eba464292', 'Nom': 'LENEVEU', 'Prenom': 'Marie'}\n{'_id': '566eec60662b388eba464293', 'Nom': 'DABON', 'Prenom': 'Rick'}\n{'_id': '566eec60662b388eba464294', 'Nom': 'CLERICE', 'Prenom': 'Alice'}\n{'_id': '566eec60662b388eba464295', 'Nom': 'COMES', 'Prenom': 'Marie'}\n{'_id': '566eec60662b388eba464296', 'Nom': 'BELZ', 'Prenom': 'Sylvianne'}\n{'_id': '566eec60662b388eba464297', 'Nom': 'BELZ', 'Prenom': 'Paul'}\n{'_id': '566eec60662b388eba464298', 'Nom': 'HENRY', 'Prenom': 'Maël'}\n"
     ]
    }
   ],
   "source": [
    "request = sp.find({\n",
    "    \"Age\" : {\n",
    "        \"$gte\" : 20, \n",
    "        \"$lt\" : 30\n",
    "    }\n",
    "},{\n",
    "    \"Nom\": 1, \n",
    "    \"Prenom\" : 1\n",
    "})\n",
    "\n",
    "for element in request :\n",
    "    print(element)"
   ]
  },
  {
   "source": [
    "8) Quels sont les sportifs (identifiant et nom) qui pratiquent du hand ball ?"
   ],
   "cell_type": "markdown",
   "metadata": {}
  },
  {
   "cell_type": "code",
   "execution_count": 12,
   "metadata": {},
   "outputs": [
    {
     "output_type": "stream",
     "name": "stdout",
     "text": [
      "{'_id': '566eec5f662b388eba464208', 'Nom': 'RETALDI', 'Prenom': 'Sophie'}\n{'_id': '566eec5f662b388eba464214', 'Nom': 'TESTEMONT', 'Prenom': 'Laurent'}\n{'_id': '566eec5f662b388eba464215', 'Nom': 'TIENER', 'Prenom': 'Thomas'}\n{'_id': '566eec5f662b388eba46421a', 'Nom': 'MARTORA', 'Prenom': 'Fabrice'}\n{'_id': '566eec5f662b388eba46421b', 'Nom': 'MICHEL', 'Prenom': 'Frédérique'}\n{'_id': '566eec5f662b388eba46421c', 'Nom': 'NIELLEZ', 'Prenom': 'Christophe'}\n{'_id': '566eec5f662b388eba46421d', 'Nom': 'RABAHI', 'Prenom': 'Rabah'}\n{'_id': '566eec5f662b388eba46421e', 'Nom': 'ROUSSEL', 'Prenom': 'Nadège'}\n{'_id': '566eec5f662b388eba46421f', 'Nom': 'SCHINK', 'Prenom': 'Nicolas'}\n{'_id': '566eec5f662b388eba464220', 'Nom': 'STEMPUT', 'Prenom': 'Mathieu'}\n{'_id': '566eec5f662b388eba464221', 'Nom': 'VAN CAUTER', 'Prenom': 'Vincent'}\n{'_id': '566eec60662b388eba464222', 'Nom': 'RAMPNOUX', 'Prenom': 'Jean françois'}\n{'_id': '566eec60662b388eba464223', 'Nom': 'LHERPINIERE', 'Prenom': 'Olivier'}\n{'_id': '566eec60662b388eba464224', 'Nom': 'TANQUE', 'Prenom': 'Yann'}\n{'_id': '566eec60662b388eba464227', 'Nom': 'VASSEMON', 'Prenom': 'Laurent'}\n{'_id': '566eec60662b388eba464228', 'Nom': 'MOREL', 'Prenom': 'Mathieu'}\n{'_id': '566eec60662b388eba464229', 'Nom': 'VALIN', 'Prenom': 'Yann'}\n{'_id': '566eec60662b388eba46422c', 'Nom': 'MATHIEU', 'Prenom': 'Denise'}\n{'_id': '566eec60662b388eba464234', 'Nom': 'LOPEZ', 'Prenom': 'Thibaud'}\n{'_id': '566eec60662b388eba46423d', 'Nom': 'TIZEGHAT', 'Prenom': 'Benamar'}\n{'_id': '566eec60662b388eba464244', 'Nom': 'VONTHRON', 'Prenom': 'Dominique'}\n{'_id': '566eec60662b388eba464245', 'Nom': 'REGNAULD', 'Prenom': 'Jeanne'}\n{'_id': '566eec60662b388eba464246', 'Nom': 'MARIE', 'Prenom': 'Paule'}\n{'_id': '566eec60662b388eba464249', 'Nom': 'MARTEL', 'Prenom': 'Bernard'}\n{'_id': '566eec60662b388eba46424c', 'Nom': 'SARRAZIN', 'Prenom': 'Noëlle'}\n{'_id': '566eec60662b388eba464254', 'Nom': 'LEROUX', 'Prenom': 'André'}\n{'_id': '566eec60662b388eba464255', 'Nom': 'SALLAÏ', 'Prenom': 'Miloud'}\n{'_id': '566eec60662b388eba46425a', 'Nom': 'RIQUIER', 'Prenom': 'Jean-pierre'}\n{'_id': '566eec60662b388eba46425f', 'Nom': 'LEROUX', 'Prenom': 'Paule'}\n{'_id': '566eec60662b388eba464263', 'Nom': 'RICHARD', 'Prenom': 'William'}\n{'_id': '566eec60662b388eba464265', 'Nom': 'LESOIF', 'Prenom': 'Jacques'}\n{'_id': '566eec60662b388eba464266', 'Nom': 'SWERTVAEGER', 'Prenom': 'Eric'}\n{'_id': '566eec60662b388eba464269', 'Nom': 'SEHIER', 'Prenom': 'Dominique'}\n{'_id': '566eec60662b388eba46426a', 'Nom': 'STILO', 'Prenom': 'Philippe'}\n{'_id': '566eec60662b388eba46426e', 'Nom': 'SAUVAGE', 'Prenom': 'Patrick'}\n{'_id': '566eec60662b388eba46426f', 'Nom': 'ROULLAND', 'Prenom': 'Christian'}\n{'_id': '566eec60662b388eba464270', 'Nom': 'LESIEUR', 'Prenom': 'Michel'}\n{'_id': '566eec60662b388eba464271', 'Nom': 'LUYCKX', 'Prenom': 'Gérard'}\n{'_id': '566eec60662b388eba464273', 'Nom': 'MICHEL', 'Prenom': 'Danielle'}\n{'_id': '566eec60662b388eba46427c', 'Nom': 'LETHIMONNIER', 'Prenom': 'Victor'}\n{'_id': '566eec60662b388eba46427d', 'Nom': 'SWERTVAEGER', 'Prenom': 'Michelle'}\n{'_id': '566eec60662b388eba464288', 'Nom': 'MANCEL', 'Prenom': 'Jean-luc'}\n{'_id': '566eec60662b388eba46428b', 'Nom': 'MADELAINE', 'Prenom': 'Chloé'}\n{'_id': '566eec60662b388eba464298', 'Nom': 'HENRY', 'Prenom': 'Maël'}\n"
     ]
    }
   ],
   "source": [
    "request = sp.find({\n",
    "    \"Sports.Jouer\" : \"Hand ball\"\n",
    "},{\n",
    "    \"Nom\": 1, \n",
    "    \"Prenom\" : 1\n",
    "})\n",
    "\n",
    "for element in request :\n",
    "    print(element)"
   ]
  },
  {
   "source": [
    "9) Quels sont les gymnases de “Villetaneuse” ou de “Sarcelles” qui ont une surface de plus de 400 m2 ?"
   ],
   "cell_type": "markdown",
   "metadata": {}
  },
  {
   "cell_type": "code",
   "execution_count": 13,
   "metadata": {},
   "outputs": [
    {
     "output_type": "stream",
     "name": "stdout",
     "text": [
      "{'_id': '566eec69662b388eba46429c', 'IdGymnase': 4, 'NomGymnase': 'PAUL ELUARD', 'Adresse': 'Allée J.B. Lulli', 'Ville': 'SARCELLES', 'Surface': 500, 'Seances': [{'IdSportifEntraineur': 149, 'Jour': 'Vendredi', 'Horaire': 10.0, 'Duree': 30, 'Libelle': 'Basket ball'}, {'IdSportifEntraineur': 6, 'Jour': 'mercredi', 'Horaire': 19.0, 'Duree': 60, 'Libelle': 'Hockey'}]}\n{'_id': '566eec69662b388eba46429d', 'IdGymnase': 5, 'NomGymnase': 'BRASSENS', 'Adresse': '153 square Loliot', 'Ville': 'SARCELLES', 'Surface': 620, 'Seances': [{'IdSportifEntraineur': 57, 'Jour': 'lundi', 'Horaire': 16.3, 'Duree': 90, 'Libelle': 'Volley ball'}, {'IdSportifEntraineur': 6, 'Jour': 'jeudi', 'Horaire': 19.0, 'Duree': 60, 'Libelle': 'Hockey'}]}\n{'_id': '566eec69662b388eba4642a1', 'IdGymnase': 9, 'NomGymnase': 'CAMUS', 'Adresse': '3 esplanade des quatrans', 'Ville': 'SARCELLES', 'Surface': 620, 'Seances': [{'IdSportifEntraineur': 6, 'Jour': 'samedi', 'Horaire': 19.0, 'Duree': 60, 'Libelle': 'Hockey'}]}\n{'_id': '566eec69662b388eba4642a8', 'IdGymnase': 16, 'NomGymnase': 'SAMOURAI', 'Adresse': '4 Allée des pendules', 'Ville': 'SARCELLES', 'Surface': 600, 'Seances': [{'IdSportifEntraineur': 57, 'Jour': 'lundi', 'Horaire': 16.3, 'Duree': 90, 'Libelle': 'Volley ball'}, {'IdSportifEntraineur': 60, 'Jour': 'Lundi', 'Horaire': 17.0, 'Duree': 60, 'Libelle': 'Volley ball'}, {'IdSportifEntraineur': 60, 'Jour': 'Lundi', 'Horaire': 18.0, 'Duree': 60, 'Libelle': 'Volley ball'}, {'IdSportifEntraineur': 60, 'Jour': 'lundi', 'Horaire': 19.0, 'Duree': 60, 'Libelle': 'Volley ball'}, {'IdSportifEntraineur': 60, 'Jour': 'Lundi', 'Horaire': 20.0, 'Duree': 60, 'Libelle': 'Volley ball'}, {'IdSportifEntraineur': 6, 'Jour': 'mercredi', 'Horaire': 19.0, 'Duree': 60, 'Libelle': 'Hockey'}]}\n{'_id': '566eec69662b388eba4642ac', 'IdGymnase': 20, 'NomGymnase': 'LUMIERES', 'Adresse': '78 rue Vendôme', 'Ville': 'SARCELLES', 'Surface': 400, 'Seances': [{'IdSportifEntraineur': 6, 'Jour': 'mercredi', 'Horaire': 19.0, 'Duree': 60, 'Libelle': 'Hockey'}]}\n{'_id': '566eec69662b388eba4642b1', 'IdGymnase': 25, 'NomGymnase': 'DOLTO', 'Adresse': '3 square Plaisir', 'Ville': 'VILLETANEUSE', 'Surface': 620, 'Seances': [{'IdSportifEntraineur': 149, 'Jour': 'Dimanche', 'Horaire': 18.0, 'Duree': 60, 'Libelle': 'Basket ball'}]}\n{'_id': '566eec69662b388eba4642b2', 'IdGymnase': 26, 'NomGymnase': 'MERMOZ', 'Adresse': '41 rue des ponts', 'Ville': 'VILLETANEUSE', 'Surface': 600}\n{'_id': '566eec69662b388eba4642b3', 'IdGymnase': 27, 'NomGymnase': 'PASCAL', 'Adresse': '20 rue de la pirogue', 'Ville': 'VILLETANEUSE', 'Surface': 350, 'Seances': [{'IdSportifEntraineur': 57, 'Jour': 'jeudi', 'Horaire': 10.0, 'Duree': 90, 'Libelle': 'Volley ball'}, {'IdSportifEntraineur': 7, 'Jour': 'mercredi', 'Horaire': 14.0, 'Duree': 120, 'Libelle': 'Hockey'}, {'IdSportifEntraineur': 7, 'Jour': 'mercredi', 'Horaire': 17.0, 'Duree': 90, 'Libelle': 'Hockey'}]}\n"
     ]
    }
   ],
   "source": [
    "request = gym.find({\n",
    "    \"Ville\" : { \"$in\" : [\"VILLETANEUSE\", \"SARCELLES\"]}\n",
    "})\n",
    "\n",
    "for element in request :\n",
    "    print(element)"
   ]
  },
  {
   "source": [
    "10) Dans quels gymnases peut-on jouer au hockey le mercredi après 15H ?"
   ],
   "cell_type": "markdown",
   "metadata": {}
  },
  {
   "cell_type": "code",
   "execution_count": 14,
   "metadata": {},
   "outputs": [
    {
     "output_type": "stream",
     "name": "stdout",
     "text": [
      "{'_id': '566eec69662b388eba464299', 'IdGymnase': 1, 'NomGymnase': 'PAUL ELUARD', 'Adresse': '2 rue des pépines', 'Ville': 'STAINS', 'Surface': 200, 'Seances': [{'IdSportifEntraineur': 149, 'Jour': 'Samedi', 'Horaire': 9.0, 'Duree': 60, 'Libelle': 'Basket ball'}, {'IdSportifEntraineur': 1, 'Jour': 'Lundi', 'Horaire': 9.0, 'Duree': 60, 'Libelle': 'Hand ball'}, {'IdSportifEntraineur': 1, 'Jour': 'Lundi', 'Horaire': 10.0, 'Duree': 60, 'Libelle': 'Hand ball'}, {'IdSportifEntraineur': 1, 'Jour': 'Lundi', 'Horaire': 11.3, 'Duree': 60, 'Libelle': 'Hand ball'}, {'IdSportifEntraineur': 1, 'Jour': 'Lundi', 'Horaire': 14.0, 'Duree': 90, 'Libelle': 'Hand ball'}, {'IdSportifEntraineur': 1, 'Jour': 'lundi', 'Horaire': 17.3, 'Duree': 120, 'Libelle': 'Hand ball'}, {'IdSportifEntraineur': 1, 'Jour': 'Lundi', 'Horaire': 19.3, 'Duree': 120, 'Libelle': 'Hand ball'}, {'IdSportifEntraineur': 2, 'Jour': 'Dimanche', 'Horaire': 17.3, 'Duree': 120, 'Libelle': 'Hand ball'}, {'IdSportifEntraineur': 2, 'Jour': 'Dimanche', 'Horaire': 19.3, 'Duree': 120, 'Libelle': 'Hand ball'}, {'IdSportifEntraineur': 2, 'Jour': 'mardi', 'Horaire': 17.3, 'Duree': 120, 'Libelle': 'Hand ball'}, {'IdSportifEntraineur': 2, 'Jour': 'mercredi', 'Horaire': 17.3, 'Duree': 120, 'Libelle': 'Hand ball'}, {'IdSportifEntraineur': 2, 'Jour': 'Samedi', 'Horaire': 15.3, 'Duree': 60, 'Libelle': 'Hand ball'}, {'IdSportifEntraineur': 2, 'Jour': 'Samedi', 'Horaire': 16.3, 'Duree': 60, 'Libelle': 'Hand ball'}, {'IdSportifEntraineur': 2, 'Jour': 'Samedi', 'Horaire': 17.3, 'Duree': 120, 'Libelle': 'Hand ball'}, {'IdSportifEntraineur': 3, 'Jour': 'jeudi', 'Horaire': 20.0, 'Duree': 30, 'Libelle': 'Hand ball'}, {'IdSportifEntraineur': 3, 'Jour': 'lundi', 'Horaire': 14.0, 'Duree': 60, 'Libelle': 'Hand ball'}, {'IdSportifEntraineur': 3, 'Jour': 'lundi', 'Horaire': 18.0, 'Duree': 30, 'Libelle': 'Hand ball'}, {'IdSportifEntraineur': 3, 'Jour': 'lundi', 'Horaire': 19.0, 'Duree': 30, 'Libelle': 'Hand ball'}, {'IdSportifEntraineur': 3, 'Jour': 'lundi', 'Horaire': 20.0, 'Duree': 30, 'Libelle': 'Hand ball'}, {'IdSportifEntraineur': 7, 'Jour': 'mercredi', 'Horaire': 17.0, 'Duree': 90, 'Libelle': 'Hockey'}]}\n{'_id': '566eec69662b388eba46429c', 'IdGymnase': 4, 'NomGymnase': 'PAUL ELUARD', 'Adresse': 'Allée J.B. Lulli', 'Ville': 'SARCELLES', 'Surface': 500, 'Seances': [{'IdSportifEntraineur': 149, 'Jour': 'Vendredi', 'Horaire': 10.0, 'Duree': 30, 'Libelle': 'Basket ball'}, {'IdSportifEntraineur': 6, 'Jour': 'mercredi', 'Horaire': 19.0, 'Duree': 60, 'Libelle': 'Hockey'}]}\n{'_id': '566eec69662b388eba4642a5', 'IdGymnase': 13, 'NomGymnase': 'RAVEL', 'Adresse': 'Place aux pommes', 'Ville': 'STAINS', 'Surface': 200, 'Seances': [{'IdSportifEntraineur': 60, 'Jour': 'dimanche', 'Horaire': 19.0, 'Duree': 60, 'Libelle': 'Volley ball'}, {'IdSportifEntraineur': 6, 'Jour': 'mercredi', 'Horaire': 20.0, 'Duree': 60, 'Libelle': 'Hockey'}, {'IdSportifEntraineur': 7, 'Jour': 'lundi', 'Horaire': 17.0, 'Duree': 90, 'Libelle': 'Hockey'}]}\n{'_id': '566eec69662b388eba4642a8', 'IdGymnase': 16, 'NomGymnase': 'SAMOURAI', 'Adresse': '4 Allée des pendules', 'Ville': 'SARCELLES', 'Surface': 600, 'Seances': [{'IdSportifEntraineur': 57, 'Jour': 'lundi', 'Horaire': 16.3, 'Duree': 90, 'Libelle': 'Volley ball'}, {'IdSportifEntraineur': 60, 'Jour': 'Lundi', 'Horaire': 17.0, 'Duree': 60, 'Libelle': 'Volley ball'}, {'IdSportifEntraineur': 60, 'Jour': 'Lundi', 'Horaire': 18.0, 'Duree': 60, 'Libelle': 'Volley ball'}, {'IdSportifEntraineur': 60, 'Jour': 'lundi', 'Horaire': 19.0, 'Duree': 60, 'Libelle': 'Volley ball'}, {'IdSportifEntraineur': 60, 'Jour': 'Lundi', 'Horaire': 20.0, 'Duree': 60, 'Libelle': 'Volley ball'}, {'IdSportifEntraineur': 6, 'Jour': 'mercredi', 'Horaire': 19.0, 'Duree': 60, 'Libelle': 'Hockey'}]}\n{'_id': '566eec69662b388eba4642aa', 'IdGymnase': 18, 'NomGymnase': 'PABLO NERUDA', 'Adresse': '6 rue saint Jean', 'Ville': 'PIERREFITTE', 'Surface': 450, 'Seances': [{'IdSportifEntraineur': 57, 'Jour': 'lundi', 'Horaire': 16.3, 'Duree': 90, 'Libelle': 'Volley ball'}, {'IdSportifEntraineur': 60, 'Jour': 'mardi', 'Horaire': 19.0, 'Duree': 60, 'Libelle': 'Volley ball'}, {'IdSportifEntraineur': 7, 'Jour': 'mercredi', 'Horaire': 14.0, 'Duree': 120, 'Libelle': 'Hockey'}, {'IdSportifEntraineur': 7, 'Jour': 'mercredi', 'Horaire': 16.0, 'Duree': 90, 'Libelle': 'Hockey'}]}\n{'_id': '566eec69662b388eba4642ac', 'IdGymnase': 20, 'NomGymnase': 'LUMIERES', 'Adresse': '78 rue Vendôme', 'Ville': 'SARCELLES', 'Surface': 400, 'Seances': [{'IdSportifEntraineur': 6, 'Jour': 'mercredi', 'Horaire': 19.0, 'Duree': 60, 'Libelle': 'Hockey'}]}\n{'_id': '566eec69662b388eba4642ad', 'IdGymnase': 21, 'NomGymnase': 'SIMON', 'Adresse': '8 bvd général de Gaulle', 'Ville': 'STAINS', 'Surface': 400, 'Seances': [{'IdSportifEntraineur': 57, 'Jour': 'lundi', 'Horaire': 16.3, 'Duree': 30, 'Libelle': 'Volley ball'}, {'IdSportifEntraineur': 60, 'Jour': 'mardi', 'Horaire': 19.0, 'Duree': 60, 'Libelle': 'Volley ball'}, {'IdSportifEntraineur': 7, 'Jour': 'mercredi', 'Horaire': 17.0, 'Duree': 30, 'Libelle': 'Hockey'}]}\n{'_id': '566eec69662b388eba4642b3', 'IdGymnase': 27, 'NomGymnase': 'PASCAL', 'Adresse': '20 rue de la pirogue', 'Ville': 'VILLETANEUSE', 'Surface': 350, 'Seances': [{'IdSportifEntraineur': 57, 'Jour': 'jeudi', 'Horaire': 10.0, 'Duree': 90, 'Libelle': 'Volley ball'}, {'IdSportifEntraineur': 7, 'Jour': 'mercredi', 'Horaire': 14.0, 'Duree': 120, 'Libelle': 'Hockey'}, {'IdSportifEntraineur': 7, 'Jour': 'mercredi', 'Horaire': 17.0, 'Duree': 90, 'Libelle': 'Hockey'}]}\n"
     ]
    }
   ],
   "source": [
    "request = gym.find({ \n",
    "    \"$and\" : [\n",
    "        {\"Seances.Libelle\" : \"Hockey\"}, \n",
    "        {\"Seances.Jour\" : \"mercredi\"},\n",
    "        {\"Seances.Horaire\" : {\"$gte\" : 15} }\n",
    "    ]\n",
    "})\n",
    "\n",
    "for element in request :\n",
    "    print(element)"
   ]
  },
  {
   "source": [
    "11) Quels sportifs (identifiant et nom) ne pratiquent aucun sport ?"
   ],
   "cell_type": "markdown",
   "metadata": {}
  },
  {
   "cell_type": "code",
   "execution_count": 15,
   "metadata": {},
   "outputs": [
    {
     "output_type": "stream",
     "name": "stdout",
     "text": [
      "{'_id': '566eec60662b388eba464252', 'Nom': 'DROULLON'}\n{'_id': '566eec60662b388eba464275', 'Nom': 'BELUAU'}\n{'_id': '566eec60662b388eba464276', 'Nom': 'FERREIRA'}\n{'_id': '566eec60662b388eba464284', 'Nom': 'GALLOIS'}\n{'_id': '566eec60662b388eba464292', 'Nom': 'LENEVEU'}\n{'_id': '566eec60662b388eba464293', 'Nom': 'DABON'}\n{'_id': '566eec60662b388eba464294', 'Nom': 'CLERICE'}\n{'_id': '566eec60662b388eba464295', 'Nom': 'COMES'}\n{'_id': '566eec60662b388eba464297', 'Nom': 'BELZ'}\n"
     ]
    }
   ],
   "source": [
    "request = sp.find({\n",
    "    \"Sports.Jouer\" : { \"$exists\": False }\n",
    "},{\n",
    "    \"Nom\": 1\n",
    "})\n",
    "\n",
    "for element in request :\n",
    "    print(element)"
   ]
  },
  {
   "source": [
    "120 Quels gymnases n’ont pas de séances le dimanche ?"
   ],
   "cell_type": "markdown",
   "metadata": {}
  },
  {
   "cell_type": "code",
   "execution_count": 16,
   "metadata": {},
   "outputs": [
    {
     "output_type": "stream",
     "name": "stdout",
     "text": [
      "{'_id': '566eec69662b388eba464299', 'IdGymnase': 1, 'NomGymnase': 'PAUL ELUARD', 'Adresse': '2 rue des pépines', 'Ville': 'STAINS', 'Surface': 200, 'Seances': [{'IdSportifEntraineur': 149, 'Jour': 'Samedi', 'Horaire': 9.0, 'Duree': 60, 'Libelle': 'Basket ball'}, {'IdSportifEntraineur': 1, 'Jour': 'Lundi', 'Horaire': 9.0, 'Duree': 60, 'Libelle': 'Hand ball'}, {'IdSportifEntraineur': 1, 'Jour': 'Lundi', 'Horaire': 10.0, 'Duree': 60, 'Libelle': 'Hand ball'}, {'IdSportifEntraineur': 1, 'Jour': 'Lundi', 'Horaire': 11.3, 'Duree': 60, 'Libelle': 'Hand ball'}, {'IdSportifEntraineur': 1, 'Jour': 'Lundi', 'Horaire': 14.0, 'Duree': 90, 'Libelle': 'Hand ball'}, {'IdSportifEntraineur': 1, 'Jour': 'lundi', 'Horaire': 17.3, 'Duree': 120, 'Libelle': 'Hand ball'}, {'IdSportifEntraineur': 1, 'Jour': 'Lundi', 'Horaire': 19.3, 'Duree': 120, 'Libelle': 'Hand ball'}, {'IdSportifEntraineur': 2, 'Jour': 'Dimanche', 'Horaire': 17.3, 'Duree': 120, 'Libelle': 'Hand ball'}, {'IdSportifEntraineur': 2, 'Jour': 'Dimanche', 'Horaire': 19.3, 'Duree': 120, 'Libelle': 'Hand ball'}, {'IdSportifEntraineur': 2, 'Jour': 'mardi', 'Horaire': 17.3, 'Duree': 120, 'Libelle': 'Hand ball'}, {'IdSportifEntraineur': 2, 'Jour': 'mercredi', 'Horaire': 17.3, 'Duree': 120, 'Libelle': 'Hand ball'}, {'IdSportifEntraineur': 2, 'Jour': 'Samedi', 'Horaire': 15.3, 'Duree': 60, 'Libelle': 'Hand ball'}, {'IdSportifEntraineur': 2, 'Jour': 'Samedi', 'Horaire': 16.3, 'Duree': 60, 'Libelle': 'Hand ball'}, {'IdSportifEntraineur': 2, 'Jour': 'Samedi', 'Horaire': 17.3, 'Duree': 120, 'Libelle': 'Hand ball'}, {'IdSportifEntraineur': 3, 'Jour': 'jeudi', 'Horaire': 20.0, 'Duree': 30, 'Libelle': 'Hand ball'}, {'IdSportifEntraineur': 3, 'Jour': 'lundi', 'Horaire': 14.0, 'Duree': 60, 'Libelle': 'Hand ball'}, {'IdSportifEntraineur': 3, 'Jour': 'lundi', 'Horaire': 18.0, 'Duree': 30, 'Libelle': 'Hand ball'}, {'IdSportifEntraineur': 3, 'Jour': 'lundi', 'Horaire': 19.0, 'Duree': 30, 'Libelle': 'Hand ball'}, {'IdSportifEntraineur': 3, 'Jour': 'lundi', 'Horaire': 20.0, 'Duree': 30, 'Libelle': 'Hand ball'}, {'IdSportifEntraineur': 7, 'Jour': 'mercredi', 'Horaire': 17.0, 'Duree': 90, 'Libelle': 'Hockey'}]}\n{'_id': '566eec69662b388eba46429b', 'IdGymnase': 3, 'NomGymnase': 'SAINT EXUPERY', 'Adresse': '47 bvd des brumes', 'Ville': 'PIERREFITTE', 'Surface': 400, 'Seances': [{'IdSportifEntraineur': 149, 'Jour': 'Mercredi', 'Horaire': 11.0, 'Duree': 30, 'Libelle': 'Basket ball'}, {'IdSportifEntraineur': 57, 'Jour': 'lundi', 'Horaire': 16.3, 'Duree': 90, 'Libelle': 'Volley ball'}, {'IdSportifEntraineur': 60, 'Jour': 'jeudi', 'Horaire': 19.0, 'Duree': 60, 'Libelle': 'Volley ball'}]}\n{'_id': '566eec69662b388eba46429c', 'IdGymnase': 4, 'NomGymnase': 'PAUL ELUARD', 'Adresse': 'Allée J.B. Lulli', 'Ville': 'SARCELLES', 'Surface': 500, 'Seances': [{'IdSportifEntraineur': 149, 'Jour': 'Vendredi', 'Horaire': 10.0, 'Duree': 30, 'Libelle': 'Basket ball'}, {'IdSportifEntraineur': 6, 'Jour': 'mercredi', 'Horaire': 19.0, 'Duree': 60, 'Libelle': 'Hockey'}]}\n{'_id': '566eec69662b388eba46429d', 'IdGymnase': 5, 'NomGymnase': 'BRASSENS', 'Adresse': '153 square Loliot', 'Ville': 'SARCELLES', 'Surface': 620, 'Seances': [{'IdSportifEntraineur': 57, 'Jour': 'lundi', 'Horaire': 16.3, 'Duree': 90, 'Libelle': 'Volley ball'}, {'IdSportifEntraineur': 6, 'Jour': 'jeudi', 'Horaire': 19.0, 'Duree': 60, 'Libelle': 'Hockey'}]}\n{'_id': '566eec69662b388eba46429e', 'IdGymnase': 6, 'NomGymnase': 'VERLAINE', 'Adresse': '14 bvd Serrault', 'Ville': 'STAINS', 'Surface': 400, 'Seances': [{'IdSportifEntraineur': 6, 'Jour': 'vendredi', 'Horaire': 19.0, 'Duree': 60, 'Libelle': 'Hockey'}, {'IdSportifEntraineur': 7, 'Jour': 'jeudi', 'Horaire': 17.0, 'Duree': 90, 'Libelle': 'Hockey'}]}\n{'_id': '566eec69662b388eba46429f', 'IdGymnase': 7, 'NomGymnase': 'JULES FERRY', 'Adresse': '45 rue de la gare', 'Ville': 'PIERREFITTE', 'Surface': 360}\n{'_id': '566eec69662b388eba4642a1', 'IdGymnase': 9, 'NomGymnase': 'CAMUS', 'Adresse': '3 esplanade des quatrans', 'Ville': 'SARCELLES', 'Surface': 620, 'Seances': [{'IdSportifEntraineur': 6, 'Jour': 'samedi', 'Horaire': 19.0, 'Duree': 60, 'Libelle': 'Hockey'}]}\n{'_id': '566eec69662b388eba4642a3', 'IdGymnase': 11, 'NomGymnase': 'LAMARTINE', 'Adresse': '7 rue de la souris verte', 'Ville': 'PIERREFITTE', 'Surface': 300}\n{'_id': '566eec69662b388eba4642a7', 'IdGymnase': 15, 'NomGymnase': 'BREL', 'Adresse': '4 rue de la miséricorde', 'Ville': 'PIERREFITTE', 'Surface': 400, 'Seances': [{'IdSportifEntraineur': 57, 'Jour': 'lundi', 'Horaire': 16.3, 'Duree': 90, 'Libelle': 'Volley ball'}]}\n{'_id': '566eec69662b388eba4642a8', 'IdGymnase': 16, 'NomGymnase': 'SAMOURAI', 'Adresse': '4 Allée des pendules', 'Ville': 'SARCELLES', 'Surface': 600, 'Seances': [{'IdSportifEntraineur': 57, 'Jour': 'lundi', 'Horaire': 16.3, 'Duree': 90, 'Libelle': 'Volley ball'}, {'IdSportifEntraineur': 60, 'Jour': 'Lundi', 'Horaire': 17.0, 'Duree': 60, 'Libelle': 'Volley ball'}, {'IdSportifEntraineur': 60, 'Jour': 'Lundi', 'Horaire': 18.0, 'Duree': 60, 'Libelle': 'Volley ball'}, {'IdSportifEntraineur': 60, 'Jour': 'lundi', 'Horaire': 19.0, 'Duree': 60, 'Libelle': 'Volley ball'}, {'IdSportifEntraineur': 60, 'Jour': 'Lundi', 'Horaire': 20.0, 'Duree': 60, 'Libelle': 'Volley ball'}, {'IdSportifEntraineur': 6, 'Jour': 'mercredi', 'Horaire': 19.0, 'Duree': 60, 'Libelle': 'Hockey'}]}\n{'_id': '566eec69662b388eba4642aa', 'IdGymnase': 18, 'NomGymnase': 'PABLO NERUDA', 'Adresse': '6 rue saint Jean', 'Ville': 'PIERREFITTE', 'Surface': 450, 'Seances': [{'IdSportifEntraineur': 57, 'Jour': 'lundi', 'Horaire': 16.3, 'Duree': 90, 'Libelle': 'Volley ball'}, {'IdSportifEntraineur': 60, 'Jour': 'mardi', 'Horaire': 19.0, 'Duree': 60, 'Libelle': 'Volley ball'}, {'IdSportifEntraineur': 7, 'Jour': 'mercredi', 'Horaire': 14.0, 'Duree': 120, 'Libelle': 'Hockey'}, {'IdSportifEntraineur': 7, 'Jour': 'mercredi', 'Horaire': 16.0, 'Duree': 90, 'Libelle': 'Hockey'}]}\n{'_id': '566eec69662b388eba4642ac', 'IdGymnase': 20, 'NomGymnase': 'LUMIERES', 'Adresse': '78 rue Vendôme', 'Ville': 'SARCELLES', 'Surface': 400, 'Seances': [{'IdSportifEntraineur': 6, 'Jour': 'mercredi', 'Horaire': 19.0, 'Duree': 60, 'Libelle': 'Hockey'}]}\n{'_id': '566eec69662b388eba4642ad', 'IdGymnase': 21, 'NomGymnase': 'SIMON', 'Adresse': '8 bvd général de Gaulle', 'Ville': 'STAINS', 'Surface': 400, 'Seances': [{'IdSportifEntraineur': 57, 'Jour': 'lundi', 'Horaire': 16.3, 'Duree': 30, 'Libelle': 'Volley ball'}, {'IdSportifEntraineur': 60, 'Jour': 'mardi', 'Horaire': 19.0, 'Duree': 60, 'Libelle': 'Volley ball'}, {'IdSportifEntraineur': 7, 'Jour': 'mercredi', 'Horaire': 17.0, 'Duree': 30, 'Libelle': 'Hockey'}]}\n{'_id': '566eec69662b388eba4642ae', 'IdGymnase': 22, 'NomGymnase': 'BARBARA', 'Adresse': '45  rue du bossu', 'Ville': 'SAINT DENIS', 'Surface': 500, 'Seances': [{'IdSportifEntraineur': 57, 'Jour': 'mardi', 'Horaire': 10.0, 'Duree': 30, 'Libelle': 'Volley ball'}]}\n{'_id': '566eec69662b388eba4642af', 'IdGymnase': 23, 'NomGymnase': 'ARAGON', 'Adresse': '10 Bvd Lenoir', 'Ville': 'SAINT DENIS', 'Surface': 520}\n{'_id': '566eec69662b388eba4642b0', 'IdGymnase': 24, 'NomGymnase': 'BELFEGOR', 'Adresse': 'Place de Gaulle', 'Ville': 'SAINT DENIS', 'Surface': 450, 'Seances': [{'IdSportifEntraineur': 149, 'Jour': 'Jeudi', 'Horaire': 9.0, 'Duree': 90, 'Libelle': 'Basket ball'}, {'IdSportifEntraineur': 57, 'Jour': 'mercredi', 'Horaire': 10.0, 'Duree': 90, 'Libelle': 'Volley ball'}]}\n{'_id': '566eec69662b388eba4642b1', 'IdGymnase': 25, 'NomGymnase': 'DOLTO', 'Adresse': '3 square Plaisir', 'Ville': 'VILLETANEUSE', 'Surface': 620, 'Seances': [{'IdSportifEntraineur': 149, 'Jour': 'Dimanche', 'Horaire': 18.0, 'Duree': 60, 'Libelle': 'Basket ball'}]}\n{'_id': '566eec69662b388eba4642b2', 'IdGymnase': 26, 'NomGymnase': 'MERMOZ', 'Adresse': '41 rue des ponts', 'Ville': 'VILLETANEUSE', 'Surface': 600}\n{'_id': '566eec69662b388eba4642b3', 'IdGymnase': 27, 'NomGymnase': 'PASCAL', 'Adresse': '20 rue de la pirogue', 'Ville': 'VILLETANEUSE', 'Surface': 350, 'Seances': [{'IdSportifEntraineur': 57, 'Jour': 'jeudi', 'Horaire': 10.0, 'Duree': 90, 'Libelle': 'Volley ball'}, {'IdSportifEntraineur': 7, 'Jour': 'mercredi', 'Horaire': 14.0, 'Duree': 120, 'Libelle': 'Hockey'}, {'IdSportifEntraineur': 7, 'Jour': 'mercredi', 'Horaire': 17.0, 'Duree': 90, 'Libelle': 'Hockey'}]}\n"
     ]
    }
   ],
   "source": [
    "request = gym.find({\n",
    "    \"Seances.Jour\" : {\"$ne\" : \"dimanche\"}\n",
    "})\n",
    "\n",
    "for element in request :\n",
    "    print(element)"
   ]
  },
  {
   "source": [
    "13) Quels gymnases ne proposent que des séances de basket ball ou de volley ball ?"
   ],
   "cell_type": "markdown",
   "metadata": {}
  },
  {
   "cell_type": "code",
   "execution_count": 17,
   "metadata": {},
   "outputs": [
    {
     "output_type": "stream",
     "name": "stdout",
     "text": [
      "{'_id': '566eec69662b388eba46429a', 'IdGymnase': 2, 'NomGymnase': 'ARAGON', 'Adresse': 'Place du Chartres', 'Ville': 'MONTMORENCY', 'Surface': 450, 'Seances': [{'IdSportifEntraineur': 57, 'Jour': 'dimanche', 'Horaire': 17.0, 'Duree': 60, 'Libelle': 'Volley ball'}]}\n{'_id': '566eec69662b388eba46429b', 'IdGymnase': 3, 'NomGymnase': 'SAINT EXUPERY', 'Adresse': '47 bvd des brumes', 'Ville': 'PIERREFITTE', 'Surface': 400, 'Seances': [{'IdSportifEntraineur': 149, 'Jour': 'Mercredi', 'Horaire': 11.0, 'Duree': 30, 'Libelle': 'Basket ball'}, {'IdSportifEntraineur': 57, 'Jour': 'lundi', 'Horaire': 16.3, 'Duree': 90, 'Libelle': 'Volley ball'}, {'IdSportifEntraineur': 60, 'Jour': 'jeudi', 'Horaire': 19.0, 'Duree': 60, 'Libelle': 'Volley ball'}]}\n{'_id': '566eec69662b388eba4642a4', 'IdGymnase': 12, 'NomGymnase': 'MOZART', 'Adresse': '6 Allée Rosana', 'Ville': 'MONTMORENCY', 'Surface': 480, 'Seances': [{'IdSportifEntraineur': 57, 'Jour': 'dimanche', 'Horaire': 17.0, 'Duree': 60, 'Libelle': 'Volley ball'}]}\n{'_id': '566eec69662b388eba4642a6', 'IdGymnase': 14, 'NomGymnase': 'CHOPIN', 'Adresse': '23 rue Carafelli', 'Ville': 'MONTMORENCY', 'Surface': 500, 'Seances': [{'IdSportifEntraineur': 149, 'Jour': 'Mardi', 'Horaire': 10.0, 'Duree': 60, 'Libelle': 'Basket ball'}, {'IdSportifEntraineur': 57, 'Jour': 'dimanche', 'Horaire': 17.0, 'Duree': 60, 'Libelle': 'Volley ball'}]}\n{'_id': '566eec69662b388eba4642a7', 'IdGymnase': 15, 'NomGymnase': 'BREL', 'Adresse': '4 rue de la miséricorde', 'Ville': 'PIERREFITTE', 'Surface': 400, 'Seances': [{'IdSportifEntraineur': 57, 'Jour': 'lundi', 'Horaire': 16.3, 'Duree': 90, 'Libelle': 'Volley ball'}]}\n{'_id': '566eec69662b388eba4642ab', 'IdGymnase': 19, 'NomGymnase': 'COCTEAU', 'Adresse': '45 bis rue du moulin rouge', 'Ville': 'MONTMORENCY', 'Surface': 500, 'Seances': [{'IdSportifEntraineur': 57, 'Jour': 'dimanche', 'Horaire': 17.0, 'Duree': 60, 'Libelle': 'Volley ball'}]}\n{'_id': '566eec69662b388eba4642ae', 'IdGymnase': 22, 'NomGymnase': 'BARBARA', 'Adresse': '45  rue du bossu', 'Ville': 'SAINT DENIS', 'Surface': 500, 'Seances': [{'IdSportifEntraineur': 57, 'Jour': 'mardi', 'Horaire': 10.0, 'Duree': 30, 'Libelle': 'Volley ball'}]}\n{'_id': '566eec69662b388eba4642b0', 'IdGymnase': 24, 'NomGymnase': 'BELFEGOR', 'Adresse': 'Place de Gaulle', 'Ville': 'SAINT DENIS', 'Surface': 450, 'Seances': [{'IdSportifEntraineur': 149, 'Jour': 'Jeudi', 'Horaire': 9.0, 'Duree': 90, 'Libelle': 'Basket ball'}, {'IdSportifEntraineur': 57, 'Jour': 'mercredi', 'Horaire': 10.0, 'Duree': 90, 'Libelle': 'Volley ball'}]}\n{'_id': '566eec69662b388eba4642b1', 'IdGymnase': 25, 'NomGymnase': 'DOLTO', 'Adresse': '3 square Plaisir', 'Ville': 'VILLETANEUSE', 'Surface': 620, 'Seances': [{'IdSportifEntraineur': 149, 'Jour': 'Dimanche', 'Horaire': 18.0, 'Duree': 60, 'Libelle': 'Basket ball'}]}\n"
     ]
    }
   ],
   "source": [
    "request = gym.find({\n",
    "    'Seances.Libelle' : {\n",
    "        '$in' : ['Volley ball', 'Basket ball'], \n",
    "        '$nin' : ['Hockey', 'Badminton', 'Football', 'Tennis', 'Hand ball']\n",
    "    }\n",
    "})\n",
    "\n",
    "for element in request:\n",
    "    print(element)"
   ]
  },
  {
   "source": [
    "14)\tQuels sont les entraîneurs qui sont aussi joueurs ?\n"
   ],
   "cell_type": "markdown",
   "metadata": {}
  },
  {
   "cell_type": "code",
   "execution_count": 18,
   "metadata": {},
   "outputs": [
    {
     "output_type": "stream",
     "name": "stdout",
     "text": [
      "{'_id': '566eec5f662b388eba464203', 'IdSportif': 1, 'Nom': 'BOUTAHAR', 'Prenom': 'Abderahim', 'Sexe': 'm', 'Age': 30, 'Sports': {'Jouer': ['Volley ball', 'Tennis', 'Football'], 'Arbitrer': ['Basket ball', 'Volley ball', 'Hockey'], 'Entrainer': ['Basket ball', 'Volley ball', 'Hand ball', 'Hockey', 'Badmington']}}\n{'_id': '566eec5f662b388eba464204', 'IdSportif': 2, 'Nom': 'KERVADEC', 'Prenom': 'Yann', 'Sexe': 'M', 'Age': 28, 'IdSportifConseiller': 1, 'Sports': {'Jouer': ['Basket ball', 'Volley ball', 'Ping pong', 'Football'], 'Arbitrer': ['Hockey', 'Football'], 'Entrainer': ['Basket ball', 'Volley ball', 'Hand ball', 'Tennis', 'Hockey', 'Badmington', 'Ping pong', 'Boxe']}}\n{'_id': '566eec5f662b388eba464205', 'IdSportif': 3, 'Nom': 'HUE', 'Prenom': 'Pascale', 'Sexe': 'F', 'Age': 25, 'IdSportifConseiller': 1, 'Sports': {'Jouer': ['Volley ball', 'Ping pong'], 'Arbitrer': ['Volley ball', 'Badmington', 'Ping pong'], 'Entrainer': ['Basket ball', 'Volley ball', 'Hand ball', 'Badmington']}}\n{'_id': '566eec5f662b388eba464206', 'IdSportif': 4, 'Nom': 'DORLEANS', 'Prenom': 'Jean-michel', 'Sexe': 'M', 'Age': 32, 'IdSportifConseiller': 1, 'Sports': {'Jouer': ['Volley ball', 'Football'], 'Arbitrer': ['Basket ball', 'Volley ball', 'Ping pong', 'Boxe'], 'Entrainer': ['Basket ball', 'Ping pong', 'Boxe']}}\n{'_id': '566eec5f662b388eba464208', 'IdSportif': 6, 'Nom': 'RETALDI', 'Prenom': 'Sophie', 'Sexe': 'F', 'Age': 30, 'IdSportifConseiller': 3, 'Sports': {'Jouer': ['Basket ball', 'Volley ball', 'Hand ball', 'Ping pong'], 'Arbitrer': ['Basket ball', 'Hockey', 'Ping pong'], 'Entrainer': ['Hockey', 'Ping pong', 'Boxe']}}\n{'_id': '566eec5f662b388eba464209', 'IdSportif': 7, 'Nom': 'GOMEZ', 'Prenom': 'Diego', 'Sexe': 'M', 'Age': 25, 'IdSportifConseiller': 2, 'Sports': {'Jouer': ['Volley ball', 'Tennis', 'Football'], 'Arbitrer': ['Volley ball', 'Hand ball', 'Hockey'], 'Entrainer': ['Volley ball', 'Hand ball', 'Hockey', 'Badmington']}}\n{'_id': '566eec5f662b388eba46421e', 'IdSportif': 29, 'Nom': 'ROUSSEL', 'Prenom': 'Nadège', 'Sexe': 'F', 'Age': 22, 'IdSportifConseiller': 5, 'Sports': {'Jouer': ['Volley ball', 'Hand ball', 'Badmington', 'Ping pong'], 'Arbitrer': 'Ping pong', 'Entrainer': 'Ping pong'}}\n{'_id': '566eec5f662b388eba46421f', 'IdSportif': 30, 'Nom': 'SCHINK', 'Prenom': 'Nicolas', 'Sexe': 'M', 'Age': 24, 'IdSportifConseiller': 4, 'Sports': {'Jouer': ['Volley ball', 'Hand ball', 'Ping pong', 'Football'], 'Entrainer': 'Ping pong'}}\n{'_id': '566eec5f662b388eba464220', 'IdSportif': 31, 'Nom': 'STEMPUT', 'Prenom': 'Mathieu', 'Sexe': 'M', 'Age': 22, 'IdSportifConseiller': 2, 'Sports': {'Jouer': ['Volley ball', 'Hand ball', 'Badmington', 'Football'], 'Entrainer': 'Ping pong'}}\n{'_id': '566eec5f662b388eba464221', 'IdSportif': 32, 'Nom': 'VAN CAUTER', 'Prenom': 'Vincent', 'Sexe': 'M', 'Age': 23, 'IdSportifConseiller': 3, 'Sports': {'Jouer': ['Basket ball', 'Volley ball', 'Hand ball', 'Badmington', 'Ping pong', 'Football'], 'Arbitrer': 'Ping pong', 'Entrainer': 'Ping pong'}}\n{'_id': '566eec60662b388eba464224', 'IdSportif': 35, 'Nom': 'TANQUE', 'Prenom': 'Yann', 'Sexe': 'M', 'Age': 24, 'IdSportifConseiller': 4, 'Sports': {'Jouer': ['Basket ball', 'Volley ball', 'Hand ball', 'Ping pong', 'Football'], 'Arbitrer': 'Badmington', 'Entrainer': ['Badmington', 'Ping pong']}}\n{'_id': '566eec60662b388eba464225', 'IdSportif': 36, 'Nom': 'DJELOUDANE', 'Prenom': 'Zinedine', 'Sexe': 'M', 'Age': 28, 'IdSportifConseiller': 1, 'Sports': {'Jouer': ['Basket ball', 'Volley ball', 'Ping pong', 'Football'], 'Entrainer': 'Badmington'}}\n{'_id': '566eec60662b388eba464227', 'IdSportif': 38, 'Nom': 'VASSEMON', 'Prenom': 'Laurent', 'Sexe': 'M', 'Age': 24, 'IdSportifConseiller': 1, 'Sports': {'Jouer': ['Hand ball', 'Badmington', 'Football'], 'Entrainer': 'Ping pong'}}\n{'_id': '566eec60662b388eba464229', 'IdSportif': 40, 'Nom': 'VALIN', 'Prenom': 'Yann', 'Sexe': 'M', 'Age': 23, 'IdSportifConseiller': 2, 'Sports': {'Jouer': ['Basket ball', 'Hand ball', 'Badmington', 'Ping pong', 'Football'], 'Entrainer': ['Badmington', 'Ping pong']}}\n{'_id': '566eec60662b388eba464231', 'IdSportif': 48, 'Nom': 'HEDDI', 'Prenom': 'Zohra', 'Sexe': 'F', 'Age': 23, 'IdSportifConseiller': 2, 'Sports': {'Jouer': ['Basket ball', 'Badmington', 'Ping pong'], 'Entrainer': 'Badmington'}}\n{'_id': '566eec60662b388eba464233', 'IdSportif': 50, 'Nom': 'KALOMBO', 'Prenom': 'Yannick', 'Sexe': 'M', 'Age': 22, 'IdSportifConseiller': 2, 'Sports': {'Jouer': ['Basket ball', 'Badmington', 'Ping pong', 'Football'], 'Entrainer': 'Badmington'}}\n{'_id': '566eec60662b388eba464239', 'IdSportif': 56, 'Nom': 'GUERRAOUI', 'Prenom': 'Zohra', 'Sexe': 'F', 'Age': 25, 'IdSportifConseiller': 1, 'Sports': {'Jouer': ['Basket ball', 'Ping pong'], 'Entrainer': 'Badmington'}}\n{'_id': '566eec60662b388eba46423a', 'IdSportif': 57, 'Nom': 'BOISSEAU', 'Prenom': 'Eric', 'Sexe': 'M', 'Age': 25, 'IdSportifConseiller': 1, 'Sports': {'Jouer': ['Tennis', 'Football'], 'Entrainer': ['Volley ball', 'Tennis']}}\n{'_id': '566eec60662b388eba46423b', 'IdSportif': 58, 'Nom': 'GUIGUI', 'Prenom': 'Vincent', 'Sexe': 'M', 'Age': 23, 'IdSportifConseiller': 4, 'Sports': {'Jouer': ['Basket ball', 'Badmington', 'Ping pong', 'Football'], 'Entrainer': ['Volley ball', 'Tennis']}}\n{'_id': '566eec60662b388eba46423c', 'IdSportif': 59, 'Nom': 'CLERICE', 'Prenom': 'Stéphanie', 'Sexe': 'F', 'Age': 23, 'Sports': {'Jouer': ['Basket ball', 'Badmington', 'Ping pong'], 'Arbitrer': 'Tennis', 'Entrainer': ['Volley ball', 'Tennis']}}\n{'_id': '566eec60662b388eba46423d', 'IdSportif': 60, 'Nom': 'TIZEGHAT', 'Prenom': 'Benamar', 'Sexe': 'M', 'Age': 32, 'IdSportifConseiller': 3, 'Sports': {'Jouer': ['Hand ball', 'Tennis', 'Football'], 'Arbitrer': 'Volley ball', 'Entrainer': ['Volley ball', 'Tennis', 'Ping pong']}}\n{'_id': '566eec60662b388eba46423e', 'IdSportif': 61, 'Nom': 'LAZARRE', 'Prenom': 'Jean', 'Sexe': 'M', 'Age': 27, 'IdSportifConseiller': 7, 'Sports': {'Jouer': 'Football', 'Entrainer': ['Volley ball', 'Tennis']}}\n{'_id': '566eec60662b388eba464296', 'IdSportif': 149, 'Nom': 'BELZ', 'Prenom': 'Sylvianne', 'Sexe': 'F', 'Age': 27, 'IdSportifConseiller': 7, 'Sports': {'Jouer': 'Basket ball', 'Arbitrer': 'Basket ball', 'Entrainer': 'Basket ball'}}\n{'_id': '566eec60662b388eba464298', 'IdSportif': 151, 'Nom': 'HENRY', 'Prenom': 'Maël', 'Sexe': 'M', 'Age': 25, 'IdSportifConseiller': 2, 'Sports': {'Jouer': ['Basket ball', 'Hand ball'], 'Arbitrer': ['Basket ball', 'Hand ball'], 'Entrainer': ['Basket ball', 'Hand ball']}}\n"
     ]
    }
   ],
   "source": [
    "request = sp.find({\n",
    "    'Sports.Jouer' : { \"$exists\": True },\n",
    "    'Sports.Entrainer' : { \"$exists\": True } \n",
    "})\n",
    "\n",
    "for element in request :\n",
    "    print(element)"
   ]
  },
  {
   "source": [
    "15)\tQuels sont les sportifs qui sont des conseillers ?\n"
   ],
   "cell_type": "markdown",
   "metadata": {}
  },
  {
   "cell_type": "code",
   "execution_count": 19,
   "metadata": {},
   "outputs": [
    {
     "output_type": "stream",
     "name": "stdout",
     "text": [
      "{'_id': '566eec5f662b388eba464203', 'IdSportif': 1, 'Nom': 'BOUTAHAR', 'Prenom': 'Abderahim', 'Sexe': 'm', 'Age': 30, 'Sports': {'Jouer': ['Volley ball', 'Tennis', 'Football'], 'Arbitrer': ['Basket ball', 'Volley ball', 'Hockey'], 'Entrainer': ['Basket ball', 'Volley ball', 'Hand ball', 'Hockey', 'Badmington']}}\n{'_id': '566eec5f662b388eba464204', 'IdSportif': 2, 'Nom': 'KERVADEC', 'Prenom': 'Yann', 'Sexe': 'M', 'Age': 28, 'IdSportifConseiller': 1, 'Sports': {'Jouer': ['Basket ball', 'Volley ball', 'Ping pong', 'Football'], 'Arbitrer': ['Hockey', 'Football'], 'Entrainer': ['Basket ball', 'Volley ball', 'Hand ball', 'Tennis', 'Hockey', 'Badmington', 'Ping pong', 'Boxe']}}\n{'_id': '566eec5f662b388eba464205', 'IdSportif': 3, 'Nom': 'HUE', 'Prenom': 'Pascale', 'Sexe': 'F', 'Age': 25, 'IdSportifConseiller': 1, 'Sports': {'Jouer': ['Volley ball', 'Ping pong'], 'Arbitrer': ['Volley ball', 'Badmington', 'Ping pong'], 'Entrainer': ['Basket ball', 'Volley ball', 'Hand ball', 'Badmington']}}\n{'_id': '566eec5f662b388eba464206', 'IdSportif': 4, 'Nom': 'DORLEANS', 'Prenom': 'Jean-michel', 'Sexe': 'M', 'Age': 32, 'IdSportifConseiller': 1, 'Sports': {'Jouer': ['Volley ball', 'Football'], 'Arbitrer': ['Basket ball', 'Volley ball', 'Ping pong', 'Boxe'], 'Entrainer': ['Basket ball', 'Ping pong', 'Boxe']}}\n{'_id': '566eec5f662b388eba464207', 'IdSportif': 5, 'Nom': 'COMES', 'Prenom': 'Sylvie', 'Sexe': 'F', 'Age': 22, 'IdSportifConseiller': 1, 'Sports': {'Jouer': ['Basket ball', 'Volley ball', 'Badmington', 'Ping pong'], 'Arbitrer': 'Ping pong'}}\n{'_id': '566eec5f662b388eba464208', 'IdSportif': 6, 'Nom': 'RETALDI', 'Prenom': 'Sophie', 'Sexe': 'F', 'Age': 30, 'IdSportifConseiller': 3, 'Sports': {'Jouer': ['Basket ball', 'Volley ball', 'Hand ball', 'Ping pong'], 'Arbitrer': ['Basket ball', 'Hockey', 'Ping pong'], 'Entrainer': ['Hockey', 'Ping pong', 'Boxe']}}\n{'_id': '566eec5f662b388eba464209', 'IdSportif': 7, 'Nom': 'GOMEZ', 'Prenom': 'Diego', 'Sexe': 'M', 'Age': 25, 'IdSportifConseiller': 2, 'Sports': {'Jouer': ['Volley ball', 'Tennis', 'Football'], 'Arbitrer': ['Volley ball', 'Hand ball', 'Hockey'], 'Entrainer': ['Volley ball', 'Hand ball', 'Hockey', 'Badmington']}}\n{'_id': '566eec5f662b388eba46420a', 'IdSportif': 9, 'Nom': 'ANTUNES', 'Prenom': 'Gaêlle', 'Sexe': 'F', 'Age': 23, 'IdSportifConseiller': 4, 'Sports': {'Jouer': ['Volley ball', 'Tennis', 'Badmington']}}\n{'_id': '566eec5f662b388eba46420f', 'IdSportif': 14, 'Nom': 'CAILLIOT', 'Prenom': 'Stéphanie', 'Sexe': 'F', 'Age': 24, 'IdSportifConseiller': 1, 'Sports': {'Jouer': ['Basket ball', 'Volley ball', 'Ping pong']}}\n{'_id': '566eec5f662b388eba464216', 'IdSportif': 21, 'Nom': 'LE BOUCHER', 'Prenom': 'Denis', 'Sexe': 'M', 'Age': 22, 'IdSportifConseiller': 2, 'Sports': {'Jouer': ['Volley ball', 'Tennis', 'Badmington', 'Football']}}\n{'_id': '566eec60662b388eba46422d', 'IdSportif': 44, 'Nom': 'ADIBO', 'Prenom': 'Senamé', 'Sexe': 'M', 'Age': 28, 'IdSportifConseiller': 21, 'Sports': {'Jouer': ['Basket ball', 'Ping pong', 'Football']}}\n{'_id': '566eec60662b388eba464263', 'IdSportif': 98, 'Nom': 'RICHARD', 'Prenom': 'William', 'Sexe': 'M', 'Age': 30, 'IdSportifConseiller': 2, 'Sports': {'Jouer': ['Basket ball', 'Hand ball', 'Ping pong', 'Football'], 'Arbitrer': 'Basket ball'}}\n"
     ]
    }
   ],
   "source": [
    "request = sp.find({\n",
    "    'Sports.Jouer' : { \"$exists\": True },\n",
    "    'IdSportif' : { '$in' : sp.find({ \n",
    "        'IdSportifConseiller' : { \"$exists\": True }\n",
    "    }).distinct('IdSportifConseiller')}\n",
    "})\n",
    "\n",
    "for element in request :\n",
    "    print(element)"
   ]
  },
  {
   "source": [
    "16)\tPour le sportif “Kervadec” quel est le nom de son conseiller ?"
   ],
   "cell_type": "markdown",
   "metadata": {}
  },
  {
   "cell_type": "code",
   "execution_count": 39,
   "metadata": {},
   "outputs": [
    {
     "output_type": "stream",
     "name": "stdout",
     "text": [
      "{'_id': '566eec5f662b388eba464203', 'IdSportif': 1, 'Nom': 'BOUTAHAR', 'Prenom': 'Abderahim', 'Sexe': 'm', 'Age': 30, 'Sports': {'Jouer': ['Volley ball', 'Tennis', 'Football'], 'Arbitrer': ['Basket ball', 'Volley ball', 'Hockey'], 'Entrainer': ['Basket ball', 'Volley ball', 'Hand ball', 'Hockey', 'Badmington']}}\n"
     ]
    }
   ],
   "source": [
    "request = sp.find({\n",
    "    'IdSportif' : sp.find({\n",
    "        'Nom' : \"KERVADEC\"\n",
    "    })[0]['IdSportifConseiller']\n",
    "})\n",
    "\n",
    "for element in request :\n",
    "    print(element)"
   ]
  },
  {
   "source": [
    "17)\tQuels entraîneurs entraînent du hand ball et du basket ball ?"
   ],
   "cell_type": "markdown",
   "metadata": {}
  },
  {
   "cell_type": "code",
   "execution_count": 40,
   "metadata": {},
   "outputs": [
    {
     "output_type": "stream",
     "name": "stdout",
     "text": [
      "{'_id': '566eec5f662b388eba464203', 'IdSportif': 1, 'Nom': 'BOUTAHAR', 'Prenom': 'Abderahim', 'Sexe': 'm', 'Age': 30, 'Sports': {'Jouer': ['Volley ball', 'Tennis', 'Football'], 'Arbitrer': ['Basket ball', 'Volley ball', 'Hockey'], 'Entrainer': ['Basket ball', 'Volley ball', 'Hand ball', 'Hockey', 'Badmington']}}\n{'_id': '566eec5f662b388eba464204', 'IdSportif': 2, 'Nom': 'KERVADEC', 'Prenom': 'Yann', 'Sexe': 'M', 'Age': 28, 'IdSportifConseiller': 1, 'Sports': {'Jouer': ['Basket ball', 'Volley ball', 'Ping pong', 'Football'], 'Arbitrer': ['Hockey', 'Football'], 'Entrainer': ['Basket ball', 'Volley ball', 'Hand ball', 'Tennis', 'Hockey', 'Badmington', 'Ping pong', 'Boxe']}}\n{'_id': '566eec5f662b388eba464205', 'IdSportif': 3, 'Nom': 'HUE', 'Prenom': 'Pascale', 'Sexe': 'F', 'Age': 25, 'IdSportifConseiller': 1, 'Sports': {'Jouer': ['Volley ball', 'Ping pong'], 'Arbitrer': ['Volley ball', 'Badmington', 'Ping pong'], 'Entrainer': ['Basket ball', 'Volley ball', 'Hand ball', 'Badmington']}}\n{'_id': '566eec5f662b388eba464206', 'IdSportif': 4, 'Nom': 'DORLEANS', 'Prenom': 'Jean-michel', 'Sexe': 'M', 'Age': 32, 'IdSportifConseiller': 1, 'Sports': {'Jouer': ['Volley ball', 'Football'], 'Arbitrer': ['Basket ball', 'Volley ball', 'Ping pong', 'Boxe'], 'Entrainer': ['Basket ball', 'Ping pong', 'Boxe']}}\n{'_id': '566eec5f662b388eba464209', 'IdSportif': 7, 'Nom': 'GOMEZ', 'Prenom': 'Diego', 'Sexe': 'M', 'Age': 25, 'IdSportifConseiller': 2, 'Sports': {'Jouer': ['Volley ball', 'Tennis', 'Football'], 'Arbitrer': ['Volley ball', 'Hand ball', 'Hockey'], 'Entrainer': ['Volley ball', 'Hand ball', 'Hockey', 'Badmington']}}\n{'_id': '566eec60662b388eba464296', 'IdSportif': 149, 'Nom': 'BELZ', 'Prenom': 'Sylvianne', 'Sexe': 'F', 'Age': 27, 'IdSportifConseiller': 7, 'Sports': {'Jouer': 'Basket ball', 'Arbitrer': 'Basket ball', 'Entrainer': 'Basket ball'}}\n{'_id': '566eec60662b388eba464298', 'IdSportif': 151, 'Nom': 'HENRY', 'Prenom': 'Maël', 'Sexe': 'M', 'Age': 25, 'IdSportifConseiller': 2, 'Sports': {'Jouer': ['Basket ball', 'Hand ball'], 'Arbitrer': ['Basket ball', 'Hand ball'], 'Entrainer': ['Basket ball', 'Hand ball']}}\n"
     ]
    }
   ],
   "source": [
    "request = sp.find({\n",
    "    'Sports.Entrainer' : { '$in' : ['Hand ball', 'Basket ball']}\n",
    "})\n",
    "\n",
    "for element in request :\n",
    "    print(element)"
   ]
  },
  {
   "source": [
    "18)\tQuels sportifs n’ont pas de conseillers ?"
   ],
   "cell_type": "markdown",
   "metadata": {}
  },
  {
   "cell_type": "code",
   "execution_count": 43,
   "metadata": {},
   "outputs": [
    {
     "output_type": "stream",
     "name": "stdout",
     "text": [
      "{'_id': '566eec5f662b388eba464203', 'IdSportif': 1, 'Nom': 'BOUTAHAR', 'Prenom': 'Abderahim', 'Sexe': 'm', 'Age': 30, 'Sports': {'Jouer': ['Volley ball', 'Tennis', 'Football'], 'Arbitrer': ['Basket ball', 'Volley ball', 'Hockey'], 'Entrainer': ['Basket ball', 'Volley ball', 'Hand ball', 'Hockey', 'Badmington']}}\n{'_id': '566eec60662b388eba46422e', 'IdSportif': 45, 'Nom': 'CHAVANT', 'Prenom': 'Christophe', 'Sexe': 'M', 'Age': 25, 'Sports': {'Jouer': ['Tennis', 'Football']}}\n{'_id': '566eec60662b388eba46423c', 'IdSportif': 59, 'Nom': 'CLERICE', 'Prenom': 'Stéphanie', 'Sexe': 'F', 'Age': 23, 'Sports': {'Jouer': ['Basket ball', 'Badmington', 'Ping pong'], 'Arbitrer': 'Tennis', 'Entrainer': ['Volley ball', 'Tennis']}}\n{'_id': '566eec60662b388eba464242', 'IdSportif': 65, 'Nom': 'CHESNIER', 'Prenom': 'Marc', 'Sexe': 'M', 'Age': 30, 'Sports': {'Jouer': 'Football'}}\n{'_id': '566eec60662b388eba46424f', 'IdSportif': 78, 'Nom': 'CHAUVIN', 'Prenom': 'Julien', 'Sexe': 'M', 'Age': 30, 'Sports': {'Jouer': 'Football'}}\n{'_id': '566eec60662b388eba46425a', 'IdSportif': 89, 'Nom': 'RIQUIER', 'Prenom': 'Jean-pierre', 'Sexe': 'M', 'Age': 30, 'Sports': {'Jouer': ['Hand ball', 'Football']}}\n{'_id': '566eec60662b388eba464262', 'IdSportif': 97, 'Nom': 'BONHOMME', 'Prenom': 'Bruno', 'Sexe': 'M', 'Age': 30, 'Sports': {'Jouer': ['Tennis', 'Football']}}\n{'_id': '566eec60662b388eba464264', 'IdSportif': 99, 'Nom': 'BONE', 'Prenom': 'Guy', 'Sexe': 'M', 'Age': 32, 'Sports': {'Jouer': 'Football'}}\n"
     ]
    }
   ],
   "source": [
    "request = sp.find({\n",
    "    'IdSportifConseiller' : { '$exists' : False }\n",
    "})\n",
    "\n",
    "for element in request :\n",
    "    print(element)"
   ]
  },
  {
   "source": [
    "19) Votre propre Qry : la plus intéressante et/ou la plus complexe..."
   ],
   "cell_type": "markdown",
   "metadata": {}
  },
  {
   "cell_type": "code",
   "execution_count": 44,
   "metadata": {
    "tags": [
     "outputPrepend"
    ]
   },
   "outputs": [
    {
     "output_type": "stream",
     "name": "stdout",
     "text": [
      "portifConseiller': 4, 'Sports': {'Jouer': ['Tennis', 'Football']}}\n{'_id': '566eec60662b388eba464230', 'IdSportif': 47, 'Nom': 'GROEN', 'Prenom': 'Céline', 'Sexe': 'F', 'Age': 25, 'IdSportifConseiller': 2, 'Sports': {'Jouer': 'Tennis'}}\n{'_id': '566eec60662b388eba464231', 'IdSportif': 48, 'Nom': 'HEDDI', 'Prenom': 'Zohra', 'Sexe': 'F', 'Age': 23, 'IdSportifConseiller': 2, 'Sports': {'Jouer': ['Basket ball', 'Badmington', 'Ping pong'], 'Entrainer': 'Badmington'}}\n{'_id': '566eec60662b388eba464232', 'IdSportif': 49, 'Nom': 'JOUVE', 'Prenom': 'Sandra', 'Sexe': 'F', 'Age': 24, 'IdSportifConseiller': 5, 'Sports': {'Jouer': ['Basket ball', 'Ping pong']}}\n{'_id': '566eec60662b388eba464233', 'IdSportif': 50, 'Nom': 'KALOMBO', 'Prenom': 'Yannick', 'Sexe': 'M', 'Age': 22, 'IdSportifConseiller': 2, 'Sports': {'Jouer': ['Basket ball', 'Badmington', 'Ping pong', 'Football'], 'Entrainer': 'Badmington'}}\n{'_id': '566eec60662b388eba464234', 'IdSportif': 51, 'Nom': 'LOPEZ', 'Prenom': 'Thibaud', 'Sexe': 'M', 'Age': 24, 'IdSportifConseiller': 5, 'Sports': {'Jouer': ['Basket ball', 'Hand ball', 'Ping pong', 'Football']}}\n{'_id': '566eec60662b388eba464235', 'IdSportif': 52, 'Nom': 'DANDOIS', 'Prenom': 'Régis', 'Sexe': 'M', 'Age': 22, 'IdSportifConseiller': 5, 'Sports': {'Jouer': ['Basket ball', 'Badmington', 'Ping pong', 'Football']}}\n{'_id': '566eec60662b388eba464236', 'IdSportif': 53, 'Nom': 'DEMMER', 'Prenom': 'Thomas', 'Sexe': 'M', 'Age': 22, 'IdSportifConseiller': 1, 'Sports': {'Jouer': ['Basket ball', 'Badmington', 'Ping pong', 'Football']}}\n{'_id': '566eec60662b388eba464237', 'IdSportif': 54, 'Nom': 'ELKABBADJ', 'Prenom': 'Mohammed', 'Sexe': 'M', 'Age': 23, 'IdSportifConseiller': 2, 'Sports': {'Jouer': ['Badmington', 'Ping pong', 'Football']}}\n{'_id': '566eec60662b388eba464238', 'IdSportif': 55, 'Nom': 'FEROLDI', 'Prenom': 'Olivier', 'Sexe': 'M', 'Age': 23, 'IdSportifConseiller': 2, 'Sports': {'Jouer': ['Badmington', 'Ping pong', 'Football']}}\n{'_id': '566eec60662b388eba464239', 'IdSportif': 56, 'Nom': 'GUERRAOUI', 'Prenom': 'Zohra', 'Sexe': 'F', 'Age': 25, 'IdSportifConseiller': 1, 'Sports': {'Jouer': ['Basket ball', 'Ping pong'], 'Entrainer': 'Badmington'}}\n{'_id': '566eec60662b388eba46423a', 'IdSportif': 57, 'Nom': 'BOISSEAU', 'Prenom': 'Eric', 'Sexe': 'M', 'Age': 25, 'IdSportifConseiller': 1, 'Sports': {'Jouer': ['Tennis', 'Football'], 'Entrainer': ['Volley ball', 'Tennis']}}\n{'_id': '566eec60662b388eba46423b', 'IdSportif': 58, 'Nom': 'GUIGUI', 'Prenom': 'Vincent', 'Sexe': 'M', 'Age': 23, 'IdSportifConseiller': 4, 'Sports': {'Jouer': ['Basket ball', 'Badmington', 'Ping pong', 'Football'], 'Entrainer': ['Volley ball', 'Tennis']}}\n{'_id': '566eec60662b388eba46423c', 'IdSportif': 59, 'Nom': 'CLERICE', 'Prenom': 'Stéphanie', 'Sexe': 'F', 'Age': 23, 'Sports': {'Jouer': ['Basket ball', 'Badmington', 'Ping pong'], 'Arbitrer': 'Tennis', 'Entrainer': ['Volley ball', 'Tennis']}}\n{'_id': '566eec60662b388eba46423d', 'IdSportif': 60, 'Nom': 'TIZEGHAT', 'Prenom': 'Benamar', 'Sexe': 'M', 'Age': 32, 'IdSportifConseiller': 3, 'Sports': {'Jouer': ['Hand ball', 'Tennis', 'Football'], 'Arbitrer': 'Volley ball', 'Entrainer': ['Volley ball', 'Tennis', 'Ping pong']}}\n{'_id': '566eec60662b388eba46423e', 'IdSportif': 61, 'Nom': 'LAZARRE', 'Prenom': 'Jean', 'Sexe': 'M', 'Age': 27, 'IdSportifConseiller': 7, 'Sports': {'Jouer': 'Football', 'Entrainer': ['Volley ball', 'Tennis']}}\n{'_id': '566eec60662b388eba46423f', 'IdSportif': 62, 'Nom': 'BAZOUD', 'Prenom': 'Jérôme', 'Sexe': 'M', 'Age': 32, 'IdSportifConseiller': 3, 'Sports': {'Jouer': 'Football'}}\n{'_id': '566eec60662b388eba464240', 'IdSportif': 63, 'Nom': 'AMAND', 'Prenom': 'Patrick', 'Sexe': 'M', 'Age': 30, 'IdSportifConseiller': 1, 'Sports': {'Jouer': ['Basket ball', 'Ping pong', 'Football']}}\n{'_id': '566eec60662b388eba464241', 'IdSportif': 64, 'Nom': 'LANOE', 'Prenom': 'Françoise', 'Sexe': 'F', 'Age': 30, 'IdSportifConseiller': 2, 'Sports': {'Jouer': 'Tennis'}}\n{'_id': '566eec60662b388eba464242', 'IdSportif': 65, 'Nom': 'CHESNIER', 'Prenom': 'Marc', 'Sexe': 'M', 'Age': 30, 'Sports': {'Jouer': 'Football'}}\n{'_id': '566eec60662b388eba464243', 'IdSportif': 66, 'Nom': 'DURIEU', 'Prenom': 'Loïc', 'Sexe': 'M', 'Age': 30, 'IdSportifConseiller': 2, 'Sports': {'Jouer': 'Football'}}\n{'_id': '566eec60662b388eba464244', 'IdSportif': 67, 'Nom': 'VONTHRON', 'Prenom': 'Dominique', 'Sexe': 'F', 'Age': 26, 'IdSportifConseiller': 2, 'Sports': {'Jouer': ['Hand ball', 'Tennis']}}\n{'_id': '566eec60662b388eba464245', 'IdSportif': 68, 'Nom': 'REGNAULD', 'Prenom': 'Jeanne', 'Sexe': 'F', 'Age': 30, 'IdSportifConseiller': 2, 'Sports': {'Jouer': 'Hand ball'}}\n{'_id': '566eec60662b388eba464246', 'IdSportif': 69, 'Nom': 'MARIE', 'Prenom': 'Paule', 'Sexe': 'F', 'Age': 25, 'IdSportifConseiller': 7, 'Sports': {'Jouer': ['Basket ball', 'Hand ball', 'Ping pong']}}\n{'_id': '566eec60662b388eba464247', 'IdSportif': 70, 'Nom': 'BELLAMY', 'Prenom': 'Norbert', 'Sexe': 'M', 'Age': 30, 'IdSportifConseiller': 9, 'Sports': {'Jouer': ['Ping pong', 'Football']}}\n{'_id': '566eec60662b388eba464248', 'IdSportif': 71, 'Nom': 'DELAROCHE', 'Prenom': 'Bertrand', 'Sexe': 'M', 'Age': 30, 'IdSportifConseiller': 8, 'Sports': {'Jouer': ['Tennis', 'Football']}}\n{'_id': '566eec60662b388eba464249', 'IdSportif': 72, 'Nom': 'MARTEL', 'Prenom': 'Bernard', 'Sexe': 'M', 'Age': 22, 'IdSportifConseiller': 8, 'Sports': {'Jouer': ['Hand ball', 'Tennis', 'Badmington', 'Football']}}\n{'_id': '566eec60662b388eba46424a', 'IdSportif': 73, 'Nom': 'DALLIER', 'Prenom': 'Didier', 'Sexe': 'M', 'Age': 30, 'IdSportifConseiller': 6, 'Sports': {'Jouer': ['Tennis', 'Football']}}\n{'_id': '566eec60662b388eba46424b', 'IdSportif': 74, 'Nom': 'AUVRAY', 'Prenom': 'Alain', 'Sexe': 'M', 'Age': 30, 'IdSportifConseiller': 5, 'Sports': {'Jouer': ['Tennis', 'Football']}}\n{'_id': '566eec60662b388eba46424c', 'IdSportif': 75, 'Nom': 'SARRAZIN', 'Prenom': 'Noëlle', 'Sexe': 'F', 'Age': 39, 'IdSportifConseiller': 1, 'Sports': {'Jouer': ['Hand ball', 'Ping pong']}}\n{'_id': '566eec60662b388eba46424d', 'IdSportif': 76, 'Nom': 'HALGATTE', 'Prenom': 'Claude', 'Sexe': 'F', 'Age': 30, 'IdSportifConseiller': 21, 'Sports': {'Jouer': 'Tennis'}}\n{'_id': '566eec60662b388eba46424e', 'IdSportif': 77, 'Nom': 'HEON', 'Prenom': 'Philippe', 'Sexe': 'M', 'Age': 30, 'IdSportifConseiller': 1, 'Sports': {'Jouer': ['Basket ball', 'Ping pong', 'Football']}}\n{'_id': '566eec60662b388eba46424f', 'IdSportif': 78, 'Nom': 'CHAUVIN', 'Prenom': 'Julien', 'Sexe': 'M', 'Age': 30, 'Sports': {'Jouer': 'Football'}}\n{'_id': '566eec60662b388eba464250', 'IdSportif': 79, 'Nom': 'HENRY', 'Prenom': 'Jacky', 'Sexe': 'M', 'Age': 30, 'IdSportifConseiller': 2, 'Sports': {'Jouer': 'Football'}}\n{'_id': '566eec60662b388eba464251', 'IdSportif': 80, 'Nom': 'HOCHET', 'Prenom': 'Pierre', 'Sexe': 'M', 'Age': 30, 'IdSportifConseiller': 1, 'Sports': {'Jouer': ['Basket ball', 'Ping pong', 'Football']}}\n{'_id': '566eec60662b388eba464252', 'IdSportif': 81, 'Nom': 'DROULLON', 'Prenom': 'Joëlle', 'Sexe': 'F', 'Age': 30, 'IdSportifConseiller': 1}\n{'_id': '566eec60662b388eba464253', 'IdSportif': 82, 'Nom': 'HOUEL', 'Prenom': 'Jean-louis', 'Sexe': 'M', 'Age': 40, 'IdSportifConseiller': 14, 'Sports': {'Jouer': 'Football'}}\n{'_id': '566eec60662b388eba464254', 'IdSportif': 83, 'Nom': 'LEROUX', 'Prenom': 'André', 'Sexe': 'M', 'Age': 30, 'IdSportifConseiller': 4, 'Sports': {'Jouer': ['Hand ball', 'Tennis', 'Football']}}\n{'_id': '566eec60662b388eba464255', 'IdSportif': 84, 'Nom': 'SALLAÏ', 'Prenom': 'Miloud', 'Sexe': 'M', 'Age': 28, 'IdSportifConseiller': 2, 'Sports': {'Jouer': ['Hand ball', 'Football']}}\n{'_id': '566eec60662b388eba464256', 'IdSportif': 85, 'Nom': 'HAMARD', 'Prenom': 'Romain', 'Sexe': 'M', 'Age': 30, 'IdSportifConseiller': 2, 'Sports': {'Jouer': ['Basket ball', 'Ping pong', 'Football']}}\n{'_id': '566eec60662b388eba464257', 'IdSportif': 86, 'Nom': 'GALLOT', 'Prenom': 'Bernard', 'Sexe': 'M', 'Age': 30, 'IdSportifConseiller': 2, 'Sports': {'Jouer': ['Tennis', 'Football']}}\n{'_id': '566eec60662b388eba464258', 'IdSportif': 87, 'Nom': 'COUESBOT', 'Prenom': 'Daniel', 'Sexe': 'M', 'Age': 30, 'IdSportifConseiller': 2, 'Sports': {'Jouer': ['Tennis', 'Football']}}\n{'_id': '566eec60662b388eba464259', 'IdSportif': 88, 'Nom': 'LEJEUNE', 'Prenom': 'Richard', 'Sexe': 'M', 'Age': 30, 'IdSportifConseiller': 8, 'Sports': {'Jouer': ['Basket ball', 'Ping pong', 'Football']}}\n{'_id': '566eec60662b388eba46425a', 'IdSportif': 89, 'Nom': 'RIQUIER', 'Prenom': 'Jean-pierre', 'Sexe': 'M', 'Age': 30, 'Sports': {'Jouer': ['Hand ball', 'Football']}}\n{'_id': '566eec60662b388eba46425b', 'IdSportif': 90, 'Nom': 'DUREL', 'Prenom': 'Eric', 'Sexe': 'M', 'Age': 30, 'IdSportifConseiller': 2, 'Sports': {'Jouer': ['Tennis', 'Football']}}\n{'_id': '566eec60662b388eba46425c', 'IdSportif': 91, 'Nom': 'LECHEVALIER', 'Prenom': 'Patrick', 'Sexe': 'M', 'Age': 30, 'IdSportifConseiller': 98, 'Sports': {'Jouer': ['Basket ball', 'Ping pong', 'Football']}}\n{'_id': '566eec60662b388eba46425d', 'IdSportif': 92, 'Nom': 'HERVIEU', 'Prenom': 'Jean-François', 'Sexe': 'M', 'Age': 22, 'IdSportifConseiller': 5, 'Sports': {'Jouer': ['Badmington', 'Football']}}\n{'_id': '566eec60662b388eba46425e', 'IdSportif': 93, 'Nom': 'CAUCHARD', 'Prenom': 'Georges', 'Sexe': 'M', 'Age': 30, 'IdSportifConseiller': 2, 'Sports': {'Jouer': 'Football'}}\n{'_id': '566eec60662b388eba46425f', 'IdSportif': 94, 'Nom': 'LEROUX', 'Prenom': 'Paule', 'Sexe': 'M', 'Age': 36, 'IdSportifConseiller': 4, 'Sports': {'Jouer': ['Basket ball', 'Hand ball', 'Ping pong', 'Football'], 'Arbitrer': 'Basket ball'}}\n{'_id': '566eec60662b388eba464260', 'IdSportif': 95, 'Nom': 'EUSTACHE', 'Prenom': 'Marcel', 'Sexe': 'M', 'Age': 30, 'IdSportifConseiller': 2, 'Sports': {'Jouer': 'Football'}}\n{'_id': '566eec60662b388eba464261', 'IdSportif': 96, 'Nom': 'JANY', 'Prenom': 'Claude', 'Sexe': 'M', 'Age': 30, 'IdSportifConseiller': 2, 'Sports': {'Jouer': ['Tennis', 'Football']}}\n{'_id': '566eec60662b388eba464262', 'IdSportif': 97, 'Nom': 'BONHOMME', 'Prenom': 'Bruno', 'Sexe': 'M', 'Age': 30, 'Sports': {'Jouer': ['Tennis', 'Football']}}\n{'_id': '566eec60662b388eba464263', 'IdSportif': 98, 'Nom': 'RICHARD', 'Prenom': 'William', 'Sexe': 'M', 'Age': 30, 'IdSportifConseiller': 2, 'Sports': {'Jouer': ['Basket ball', 'Hand ball', 'Ping pong', 'Football'], 'Arbitrer': 'Basket ball'}}\n{'_id': '566eec60662b388eba464264', 'IdSportif': 99, 'Nom': 'BONE', 'Prenom': 'Guy', 'Sexe': 'M', 'Age': 32, 'Sports': {'Jouer': 'Football'}}\n{'_id': '566eec60662b388eba464265', 'IdSportif': 100, 'Nom': 'LESOIF', 'Prenom': 'Jacques', 'Sexe': 'M', 'Age': 30, 'IdSportifConseiller': 9, 'Sports': {'Jouer': ['Hand ball', 'Football']}}\n{'_id': '566eec60662b388eba464266', 'IdSportif': 101, 'Nom': 'SWERTVAEGER', 'Prenom': 'Eric', 'Sexe': 'M', 'Age': 30, 'IdSportifConseiller': 5, 'Sports': {'Jouer': ['Hand ball', 'Tennis', 'Football']}}\n{'_id': '566eec60662b388eba464267', 'IdSportif': 102, 'Nom': 'DUVAL', 'Prenom': 'Alain', 'Sexe': 'M', 'Age': 30, 'IdSportifConseiller': 2, 'Sports': {'Jouer': ['Tennis', 'Football']}}\n{'_id': '566eec60662b388eba464268', 'IdSportif': 103, 'Nom': 'LEMENOREL', 'Prenom': 'Claude', 'Sexe': 'M', 'Age': 30, 'IdSportifConseiller': 4, 'Sports': {'Jouer': ['Tennis', 'Football']}}\n{'_id': '566eec60662b388eba464269', 'IdSportif': 104, 'Nom': 'SEHIER', 'Prenom': 'Dominique', 'Sexe': 'F', 'Age': 30, 'IdSportifConseiller': 1, 'Sports': {'Jouer': ['Hand ball', 'Tennis']}}\n{'_id': '566eec60662b388eba46426a', 'IdSportif': 105, 'Nom': 'STILO', 'Prenom': 'Philippe', 'Sexe': 'M', 'Age': 30, 'IdSportifConseiller': 3, 'Sports': {'Jouer': ['Basket ball', 'Hand ball', 'Ping pong', 'Football'], 'Arbitrer': 'Basket ball'}}\n{'_id': '566eec60662b388eba46426b', 'IdSportif': 106, 'Nom': 'LE BANNARD', 'Prenom': 'Gérard', 'Sexe': 'M', 'Age': 30, 'IdSportifConseiller': 1, 'Sports': {'Jouer': 'Football'}}\n{'_id': '566eec60662b388eba46426c', 'IdSportif': 107, 'Nom': 'BORNE', 'Prenom': 'Jean-Yves', 'Sexe': 'M', 'Age': 30, 'IdSportifConseiller': 9, 'Sports': {'Jouer': 'Football'}}\n{'_id': '566eec60662b388eba46426d', 'IdSportif': 108, 'Nom': 'LAURENCE', 'Prenom': 'Serge', 'Sexe': 'M', 'Age': 30, 'IdSportifConseiller': 4, 'Sports': {'Jouer': ['Basket ball', 'Ping pong', 'Football']}}\n{'_id': '566eec60662b388eba46426e', 'IdSportif': 109, 'Nom': 'SAUVAGE', 'Prenom': 'Patrick', 'Sexe': 'M', 'Age': 30, 'IdSportifConseiller': 5, 'Sports': {'Jouer': ['Basket ball', 'Hand ball', 'Ping pong', 'Football']}}\n{'_id': '566eec60662b388eba46426f', 'IdSportif': 110, 'Nom': 'ROULLAND', 'Prenom': 'Christian', 'Sexe': 'M', 'Age': 30, 'IdSportifConseiller': 4, 'Sports': {'Jouer': ['Hand ball', 'Tennis', 'Football']}}\n{'_id': '566eec60662b388eba464270', 'IdSportif': 111, 'Nom': 'LESIEUR', 'Prenom': 'Michel', 'Sexe': 'M', 'Age': 30, 'IdSportifConseiller': 8, 'Sports': {'Jouer': ['Hand ball', 'Football']}}\n{'_id': '566eec60662b388eba464271', 'IdSportif': 112, 'Nom': 'LUYCKX', 'Prenom': 'Gérard', 'Sexe': 'M', 'Age': 30, 'IdSportifConseiller': 2, 'Sports': {'Jouer': ['Hand ball', 'Football']}}\n{'_id': '566eec60662b388eba464272', 'IdSportif': 113, 'Nom': 'AVICE', 'Prenom': 'Benoît', 'Sexe': 'M', 'Age': 30, 'IdSportifConseiller': 2, 'Sports': {'Jouer': ['Tennis', 'Football']}}\n{'_id': '566eec60662b388eba464273', 'IdSportif': 114, 'Nom': 'MICHEL', 'Prenom': 'Danielle', 'Sexe': 'F', 'Age': 22, 'IdSportifConseiller': 5, 'Sports': {'Jouer': ['Hand ball', 'Tennis', 'Badmington']}}\n{'_id': '566eec60662b388eba464274', 'IdSportif': 115, 'Nom': 'LEMOUSSU', 'Prenom': 'Laurent', 'Sexe': 'M', 'Age': 30, 'IdSportifConseiller': 1, 'Sports': {'Jouer': 'Football'}}\n{'_id': '566eec60662b388eba464275', 'IdSportif': 116, 'Nom': 'BELUAU', 'Prenom': 'Gilberte', 'Sexe': 'F', 'Age': 30, 'IdSportifConseiller': 8}\n{'_id': '566eec60662b388eba464276', 'IdSportif': 117, 'Nom': 'FERREIRA', 'Prenom': 'Martine', 'Sexe': 'F', 'Age': 30, 'IdSportifConseiller': 2}\n{'_id': '566eec60662b388eba464277', 'IdSportif': 118, 'Nom': 'FROMENT', 'Prenom': 'Philippe', 'Sexe': 'M', 'Age': 30, 'IdSportifConseiller': 2, 'Sports': {'Jouer': ['Basket ball', 'Ping pong', 'Football']}}\n{'_id': '566eec60662b388eba464278', 'IdSportif': 119, 'Nom': 'GUITON', 'Prenom': 'Jean-paul', 'Sexe': 'M', 'Age': 30, 'IdSportifConseiller': 1, 'Sports': {'Jouer': 'Football'}}\n{'_id': '566eec60662b388eba464279', 'IdSportif': 120, 'Nom': 'LECOMTE', 'Prenom': 'Christian', 'Sexe': 'M', 'Age': 30, 'IdSportifConseiller': 6, 'Sports': {'Jouer': ['Tennis', 'Football']}}\n{'_id': '566eec60662b388eba46427a', 'IdSportif': 121, 'Nom': 'HUET', 'Prenom': 'Loïc', 'Sexe': 'M', 'Age': 30, 'IdSportifConseiller': 5, 'Sports': {'Jouer': 'Football'}}\n{'_id': '566eec60662b388eba46427b', 'IdSportif': 122, 'Nom': 'BECQUET', 'Prenom': 'Erika', 'Sexe': 'F', 'Age': 30, 'IdSportifConseiller': 6, 'Sports': {'Jouer': 'Tennis'}}\n{'_id': '566eec60662b388eba46427c', 'IdSportif': 123, 'Nom': 'LETHIMONNIER', 'Prenom': 'Victor', 'Sexe': 'M', 'Age': 30, 'IdSportifConseiller': 6, 'Sports': {'Jouer': ['Basket ball', 'Hand ball', 'Ping pong', 'Football']}}\n{'_id': '566eec60662b388eba46427d', 'IdSportif': 124, 'Nom': 'SWERTVAEGER', 'Prenom': 'Michelle', 'Sexe': 'F', 'Age': 30, 'IdSportifConseiller': 2, 'Sports': {'Jouer': 'Hand ball'}}\n{'_id': '566eec60662b388eba46427e', 'IdSportif': 125, 'Nom': 'JALON', 'Prenom': 'Patrick', 'Sexe': 'M', 'Age': 30, 'IdSportifConseiller': 2, 'Sports': {'Jouer': ['Basket ball', 'Ping pong', 'Football']}}\n{'_id': '566eec60662b388eba46427f', 'IdSportif': 126, 'Nom': 'DEBOUT', 'Prenom': 'Eric', 'Sexe': 'M', 'Age': 30, 'IdSportifConseiller': 5, 'Sports': {'Jouer': ['Tennis', 'Football']}}\n{'_id': '566eec60662b388eba464280', 'IdSportif': 127, 'Nom': 'GASTELLIER', 'Prenom': 'Charles', 'Sexe': 'M', 'Age': 30, 'IdSportifConseiller': 2, 'Sports': {'Jouer': ['Tennis', 'Football']}}\n{'_id': '566eec60662b388eba464281', 'IdSportif': 128, 'Nom': 'GIRONIE', 'Prenom': 'André', 'Sexe': 'M', 'Age': 30, 'IdSportifConseiller': 1, 'Sports': {'Jouer': ['Tennis', 'Football']}}\n{'_id': '566eec60662b388eba464282', 'IdSportif': 129, 'Nom': 'DABON', 'Prenom': 'Richard', 'Sexe': 'M', 'Age': 30, 'IdSportifConseiller': 3, 'Sports': {'Jouer': ['Basket ball', 'Ping pong', 'Football']}}\n{'_id': '566eec60662b388eba464283', 'IdSportif': 130, 'Nom': 'LECHAUVE', 'Prenom': 'Jean-Claude', 'Sexe': 'M', 'Age': 30, 'IdSportifConseiller': 5, 'Sports': {'Jouer': 'Football'}}\n{'_id': '566eec60662b388eba464284', 'IdSportif': 131, 'Nom': 'GALLOIS', 'Prenom': 'Michelle', 'Sexe': 'F', 'Age': 30, 'IdSportifConseiller': 2}\n{'_id': '566eec60662b388eba464285', 'IdSportif': 132, 'Nom': 'DORON', 'Prenom': 'Yannick', 'Sexe': 'M', 'Age': 30, 'IdSportifConseiller': 1, 'Sports': {'Jouer': ['Basket ball', 'Ping pong', 'Football']}}\n{'_id': '566eec60662b388eba464286', 'IdSportif': 133, 'Nom': 'LENEVEU', 'Prenom': 'Julien', 'Sexe': 'M', 'Age': 30, 'IdSportifConseiller': 2, 'Sports': {'Jouer': 'Football'}}\n{'_id': '566eec60662b388eba464287', 'IdSportif': 134, 'Nom': 'LERICHE', 'Prenom': 'Harry', 'Sexe': 'M', 'Age': 30, 'IdSportifConseiller': 5, 'Sports': {'Jouer': 'Football'}}\n{'_id': '566eec60662b388eba464288', 'IdSportif': 135, 'Nom': 'MANCEL', 'Prenom': 'Jean-luc', 'Sexe': 'M', 'Age': 30, 'IdSportifConseiller': 4, 'Sports': {'Jouer': ['Hand ball', 'Football']}}\n{'_id': '566eec60662b388eba464289', 'IdSportif': 136, 'Nom': 'LABOULAIS', 'Prenom': 'Chloé', 'Sexe': 'F', 'Age': 26, 'IdSportifConseiller': 2, 'Sports': {'Jouer': 'Tennis'}}\n{'_id': '566eec60662b388eba46428a', 'IdSportif': 137, 'Nom': 'DUDOUIT', 'Prenom': 'Chloé', 'Sexe': 'F', 'Age': 26, 'IdSportifConseiller': 2, 'Sports': {'Jouer': 'Tennis'}}\n{'_id': '566eec60662b388eba46428b', 'IdSportif': 138, 'Nom': 'MADELAINE', 'Prenom': 'Chloé', 'Sexe': 'F', 'Age': 26, 'IdSportifConseiller': 1, 'Sports': {'Jouer': ['Hand ball', 'Tennis']}}\n{'_id': '566eec60662b388eba46428c', 'IdSportif': 139, 'Nom': 'BESNARD', 'Prenom': 'Chloé', 'Sexe': 'F', 'Age': 26, 'IdSportifConseiller': 4, 'Sports': {'Jouer': 'Tennis'}}\n{'_id': '566eec60662b388eba46428d', 'IdSportif': 140, 'Nom': 'BELZ', 'Prenom': 'Chloé', 'Sexe': 'F', 'Age': 26, 'IdSportifConseiller': 7, 'Sports': {'Jouer': 'Tennis'}}\n{'_id': '566eec60662b388eba46428e', 'IdSportif': 141, 'Nom': 'BONNET', 'Prenom': 'Chloé', 'Sexe': 'F', 'Age': 26, 'IdSportifConseiller': 5, 'Sports': {'Jouer': 'Tennis'}}\n{'_id': '566eec60662b388eba46428f', 'IdSportif': 142, 'Nom': 'CORNET', 'Prenom': 'Chloé', 'Sexe': 'F', 'Age': 26, 'IdSportifConseiller': 1, 'Sports': {'Jouer': 'Tennis'}}\n{'_id': '566eec60662b388eba464290', 'IdSportif': 143, 'Nom': 'BEUZELIN', 'Prenom': 'Chloé', 'Sexe': 'F', 'Age': 26, 'IdSportifConseiller': 5, 'Sports': {'Jouer': 'Tennis'}}\n{'_id': '566eec60662b388eba464291', 'IdSportif': 144, 'Nom': 'GRANDIDIER', 'Prenom': 'Chloé', 'Sexe': 'F', 'Age': 26, 'IdSportifConseiller': 2, 'Sports': {'Jouer': 'Tennis'}}\n{'_id': '566eec60662b388eba464292', 'IdSportif': 145, 'Nom': 'LENEVEU', 'Prenom': 'Marie', 'Sexe': 'F', 'Age': 25, 'IdSportifConseiller': 2}\n{'_id': '566eec60662b388eba464293', 'IdSportif': 146, 'Nom': 'DABON', 'Prenom': 'Rick', 'Sexe': 'M', 'Age': 25, 'IdSportifConseiller': 3}\n{'_id': '566eec60662b388eba464294', 'IdSportif': 147, 'Nom': 'CLERICE', 'Prenom': 'Alice', 'Sexe': 'F', 'Age': 25, 'IdSportifConseiller': 2}\n{'_id': '566eec60662b388eba464295', 'IdSportif': 148, 'Nom': 'COMES', 'Prenom': 'Marie', 'Sexe': 'F', 'Age': 27, 'IdSportifConseiller': 1}\n{'_id': '566eec60662b388eba464296', 'IdSportif': 149, 'Nom': 'BELZ', 'Prenom': 'Sylvianne', 'Sexe': 'F', 'Age': 27, 'IdSportifConseiller': 7, 'Sports': {'Jouer': 'Basket ball', 'Arbitrer': 'Basket ball', 'Entrainer': 'Basket ball'}}\n{'_id': '566eec60662b388eba464297', 'IdSportif': 150, 'Nom': 'BELZ', 'Prenom': 'Paul', 'Sexe': 'M', 'Age': 25, 'IdSportifConseiller': 2}\n{'_id': '566eec60662b388eba464298', 'IdSportif': 151, 'Nom': 'HENRY', 'Prenom': 'Maël', 'Sexe': 'M', 'Age': 25, 'IdSportifConseiller': 2, 'Sports': {'Jouer': ['Basket ball', 'Hand ball'], 'Arbitrer': ['Basket ball', 'Hand ball'], 'Entrainer': ['Basket ball', 'Hand ball']}}\n"
     ]
    }
   ],
   "source": [
    "request = sp.find()\n",
    "\n",
    "for element in request :\n",
    "    print(element)"
   ]
  },
  {
   "source": [
    "20) 1 point offert"
   ],
   "cell_type": "markdown",
   "metadata": {}
  },
  {
   "cell_type": "code",
   "execution_count": null,
   "metadata": {},
   "outputs": [],
   "source": [
    "print(\"Merci\")"
   ]
  }
 ]
}