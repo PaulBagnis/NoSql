{
 "metadata": {
  "language_info": {
   "codemirror_mode": {
    "name": "ipython",
    "version": 3
   },
   "file_extension": ".py",
   "mimetype": "text/x-python",
   "name": "python",
   "nbconvert_exporter": "python",
   "pygments_lexer": "ipython3",
   "version": "3.8.5-final"
  },
  "orig_nbformat": 2,
  "kernelspec": {
   "name": "python3",
   "display_name": "Python 3",
   "language": "python"
  }
 },
 "nbformat": 4,
 "nbformat_minor": 2,
 "cells": [
  {
   "source": [
    "<h1>#####      insertOne() avec MongoDB & Python (pymongo)              #####</h1>"
   ],
   "cell_type": "markdown",
   "metadata": {}
  },
  {
   "cell_type": "code",
   "execution_count": 61,
   "metadata": {},
   "outputs": [],
   "source": [
    "import pymongo\n",
    "import time\n",
    "import json"
   ]
  },
  {
   "cell_type": "code",
   "execution_count": 62,
   "metadata": {},
   "outputs": [
    {
     "output_type": "stream",
     "name": "stdout",
     "text": [
      "0.0239713191986084\n"
     ]
    }
   ],
   "source": [
    "start = time.time()\n",
    "\n",
    "try:\n",
    "    client = pymongo.MongoClient('mongodb://localhost:27017/')\n",
    "    client.server_info()\n",
    "except:\n",
    "    print('Authentification failed ')\n",
    "\n",
    "print(time.time() - start)"
   ]
  },
  {
   "source": [
    "<h3>Créer 1ère DB \"metflix\" qui contient 1collection \"movies\" dans laquelle vs inserez les documents suivants :</h3>\n",
    "<ul>\n",
    "<li>title = Rocky ; year = 1976</li>\n",
    "<li>title = Rocky ; year = 1976 ; _id = tt0075148</li>\n",
    "<li>title = Rocky ; year = 1976 ; _id = tt0075148</li>\n",
    "<li>title = Rocky ; year = 1976</li>\n",
    "</ul>"
   ],
   "cell_type": "markdown",
   "metadata": {}
  },
  {
   "cell_type": "code",
   "execution_count": 63,
   "metadata": {},
   "outputs": [
    {
     "output_type": "stream",
     "name": "stdout",
     "text": [
      "['users']\n"
     ]
    }
   ],
   "source": [
    "db = client.metflix\n",
    "db.movies.drop()\n",
    "movies = db.movies\n",
    "print(db.list_collection_names())"
   ]
  },
  {
   "cell_type": "code",
   "execution_count": 64,
   "metadata": {},
   "outputs": [
    {
     "output_type": "stream",
     "name": "stdout",
     "text": [
      "{'_id': ObjectId('600477dd95dd1b64a4d1a7c1'), 'title': 'Rocky', 'year': 1976}\n{'_id': ObjectId('600477dd95dd1b64a4d1a7c2'), 'title': 'Rocky', 'year': 1976}\n"
     ]
    }
   ],
   "source": [
    "try :   \n",
    "    movies.insert_one({\"title\": \"Rocky\", \"year\": 1976})\n",
    "    # Erreur car l'id doit être unique \n",
    "    # movies.insert_one({\"title\": \"Rocky\", \"year\": 1976, \"_id\": \"tt0075148\"})\n",
    "    # movies.insert_one({\"title\": \"Rocky\", \"year\": 1976, \"_id\": \"tt0075148\"})\n",
    "    movies.insert_one({\"title\": \"Rocky\", \"year\": 1976})\n",
    "except :\n",
    "    print(\"Insert failed\")\n",
    "\n",
    "items = movies.find()\n",
    "for item in items :\n",
    "    print(item)"
   ]
  },
  {
   "source": [
    "<h3>Et une autre collection \"users\"</h3>\n",
    "<p>Qui contient un document qui porte votre prénom et NOM</p>"
   ],
   "cell_type": "markdown",
   "metadata": {}
  },
  {
   "cell_type": "code",
   "execution_count": 65,
   "metadata": {},
   "outputs": [],
   "source": [
    "users = db.users\n",
    "\n",
    "try : \n",
    "    users.insert_one({\"firstname\": \"Jérémy\", \"lastname\": \"RICHARD\"})\n",
    "except : \n",
    "    print(\"User insertion failed\")"
   ]
  },
  {
   "source": [
    "<h1>#####                         insertMany()                   #####</h1>"
   ],
   "cell_type": "markdown",
   "metadata": {}
  },
  {
   "source": [
    "<h2>Supp la dernière collection, la recréer en y insérant les documents suivants :</h2>\n",
    "<ul>\n",
    "    <li>title = Rocky, year = 1976, _id = tt0075148</li>\n",
    "    <li>title = Jaws, year = 1975, imdb = tt0073195</li>\n",
    "    <li>title = Mad Max 2 : The Road Warrior, year = 1981, imdb = tt0082694</li>\n",
    "    <li>title = Raiders of the Lost Ark, year = 1981, imdb = tt0082971</li>\n",
    "</ul>"
   ],
   "cell_type": "markdown",
   "metadata": {}
  },
  {
   "cell_type": "code",
   "execution_count": 66,
   "metadata": {},
   "outputs": [],
   "source": [
    "list = [{\n",
    "        \"title\": \"Rocky\", \n",
    "        \"year\": 1976,\n",
    "        \"_id\": \"tt0075148\"\n",
    "    },\n",
    "    {\n",
    "        \"title\": \"Jaws\", \n",
    "        \"year\": 1975,\n",
    "        \"imdb\": \"tt0073195\"\n",
    "    },\n",
    "    {\n",
    "        \"title\": \"Mad Max 2 : The road Warrior\", \n",
    "        \"year\": 1981,\n",
    "        \"imdb\": \"tt0082694\"\n",
    "    },\n",
    "    {\n",
    "        \"title\": \"Test\", \n",
    "        \"year\": 1981,\n",
    "        \"imdb\": \"tt0082971\"\n",
    "    }\n",
    " ]\n",
    "\n",
    "try : \n",
    "    movies.insert_many(list)\n",
    "except :\n",
    "    print(\"Insert many failed\")"
   ]
  },
  {
   "source": [
    "<h2>Afficher ts les documents de la collection movies, le tout 1è document, le(s) document(s) où on trouve les films produits en 1981, le document où on trouve le film qui porte le titre \"Jaws\" ?</h2>"
   ],
   "cell_type": "markdown",
   "metadata": {}
  },
  {
   "cell_type": "code",
   "execution_count": 67,
   "metadata": {},
   "outputs": [
    {
     "output_type": "stream",
     "name": "stdout",
     "text": [
      "{'_id': ObjectId('600477de95dd1b64a4d1a7c4'), 'title': 'Jaws', 'year': 1975, 'imdb': 'tt0073195'}\n"
     ]
    }
   ],
   "source": [
    "movies.find_one()\n",
    "\n",
    "query = {'year': 1981}\n",
    "query = {\"title\": \"Jaws\"}\n",
    "\n",
    "items = movies.find(query)\n",
    "for item in items :\n",
    "    print(item)"
   ]
  },
  {
   "source": [
    "<h1>#####               Import de fichiers .json ?                      #####</h1>"
   ],
   "cell_type": "markdown",
   "metadata": {}
  },
  {
   "source": [
    "<h2>Créer une DB movies_artists avec deux collections : une pour les films et l’autre pour les artistes (voir les fichiers artists.json et movies.json associés) ?</h2>"
   ],
   "cell_type": "markdown",
   "metadata": {}
  },
  {
   "cell_type": "code",
   "execution_count": 68,
   "metadata": {},
   "outputs": [],
   "source": [
    "db = client.movies_artists\n",
    "\n",
    "try :\n",
    "    with open('json/artists.json') as json_data:\n",
    "        data_artists = json.load(json_data)\n",
    "\n",
    "    with open('json/movies.json') as json_data:\n",
    "        data_movies = json.load(json_data)\n",
    "except :\n",
    "    print(\"impossible d'ouvrir les fichiers json\")"
   ]
  },
  {
   "source": [
    "<h3>Supprimer la collection si elle existe (pour qu'elle soit recréer de nouveau et y injecter de la data fraîche).</h3>"
   ],
   "cell_type": "markdown",
   "metadata": {}
  },
  {
   "cell_type": "code",
   "execution_count": 69,
   "metadata": {},
   "outputs": [],
   "source": [
    "if db.artist.find() : \n",
    "    db.artists.drop()\n",
    "\n",
    "if db.movies.find():\n",
    "    db.movies.drop()\n",
    "\n",
    "movies = db.movies\n",
    "artists = db.artists\n",
    "\n",
    "try:\n",
    "    db.artists.insert_many(data_artists)\n",
    "    db.movies.insert_many(data_movies)\n",
    "except:\n",
    "    print(\"Insert many error\")"
   ]
  },
  {
   "source": [
    "<h2>Augmenter la collection movies avec le fichier movies_suite.json</h2>"
   ],
   "cell_type": "markdown",
   "metadata": {}
  },
  {
   "cell_type": "code",
   "execution_count": 70,
   "metadata": {},
   "outputs": [],
   "source": [
    "try :\n",
    "    with open('json/artists_suite.json') as json_data:\n",
    "        data_artists = json.load(json_data)\n",
    "\n",
    "    with open('json/movies_suite.json') as json_data:\n",
    "        data_movies = json.load(json_data)\n",
    "except :\n",
    "    print(\"impossible d'ouvrir les fichiers json\")\n",
    "\n",
    "try:\n",
    "    db.artists.insert_many(data_artists)\n",
    "    db.movies.insert_many(data_movies)\n",
    "except:\n",
    "    print(\"Insert many error\")"
   ]
  },
  {
   "source": [
    "<h1>#####               Pagination des résultats ?                      #####</h1>"
   ],
   "cell_type": "markdown",
   "metadata": {}
  },
  {
   "source": [
    "<h2>Afficher les 12 documents (films) à partir du dixième inclus en se limitant aux title et _id ?</h2>"
   ],
   "cell_type": "markdown",
   "metadata": {}
  },
  {
   "cell_type": "code",
   "execution_count": 71,
   "metadata": {},
   "outputs": [
    {
     "output_type": "stream",
     "name": "stdout",
     "text": [
      "{'_id': 'movie:10', 'title': 'Blade Runner'}\n{'_id': 'movie:11', 'title': 'PiÃ¨ge de cristal'}\n{'_id': 'movie:12', 'title': '58 minutes pour vivre'}\n{'_id': 'movie:13', 'title': 'Van Gogh'}\n{'_id': 'movie:14', 'title': 'Seven'}\n{'_id': 'movie:15', 'title': 'Twelve Monkeys'}\n{'_id': 'movie:16', 'title': 'Le last_name de la rose'}\n{'_id': 'movie:17', 'title': 'Pulp fiction'}\n{'_id': 'movie:18', 'title': 'Mary Ã\\xa0 tout prix'}\n{'_id': 'movie:19', 'title': 'Terminator'}\n{'_id': 'movie:20', 'title': 'Les dents de la mer'}\n{'_id': 'movie:21', 'title': 'Le silence des agneaux'}\n"
     ]
    }
   ],
   "source": [
    "movies = db.movies.find({},{\"title\" : 1}).limit(12).skip(9)\n",
    "for movie in movies:\n",
    "    print(movie)"
   ]
  },
  {
   "source": [
    "<h1>#####                  Trier les resultats ?                        #####</h1>"
   ],
   "cell_type": "markdown",
   "metadata": {}
  },
  {
   "source": [
    "<h2>Trier les documents (de la dernière qry) sur le titre du film ds un ordre croissant (ensuite décroissant) ?</h2>"
   ],
   "cell_type": "markdown",
   "metadata": {}
  },
  {
   "cell_type": "code",
   "execution_count": 72,
   "metadata": {},
   "outputs": [
    {
     "output_type": "stream",
     "name": "stdout",
     "text": [
      "Ordre Croissant\n{'_id': 'movie:12', 'title': '58 minutes pour vivre'}\n{'_id': 'movie:2', 'title': 'Alien'}\n{'_id': 'movie:7', 'title': 'American Beauty'}\n{'_id': 'movie:53', 'title': 'Bad Lieutenant'}\n{'_id': 'movie:88', 'title': 'Batman begins'}\n{'_id': 'movie:10', 'title': 'Blade Runner'}\n{'_id': 'movie:72', 'title': 'Casino'}\n{'_id': 'movie:73', 'title': 'Casino Royale'}\n{'_id': 'movie:51', 'title': 'De bruit et de fureur'}\n{'_id': 'movie:78', 'title': 'Django unchained'}\n{'_id': 'movie:37', 'title': 'Eyes Wide Shut'}\n{'_id': 'movie:77', 'title': 'Fargo'}\n{'_id': 'movie:40', 'title': 'FenÃªtre sur cour'}\n{'_id': 'movie:9', 'title': 'Gladiator'}\n{'_id': 'movie:22', 'title': 'Godzilla'}\n{'_id': 'movie:69', 'title': 'Heat'}\n{'_id': 'movie:8', 'title': 'Impitoyable'}\n{'_id': 'movie:86', 'title': 'Inception'}\n{'_id': 'movie:79', 'title': 'Inglourious Basterds'}\n{'_id': 'movie:80', 'title': 'Inglourious Basterds'}\n{'_id': 'movie:85', 'title': 'Interstellar'}\n{'_id': 'movie:57', 'title': 'Jackie Brown'}\n{'_id': 'movie:42', 'title': \"Jeanne d'Arc\"}\n{'_id': 'movie:25', 'title': 'Kagemusha'}\n{'_id': 'movie:61', 'title': 'Kill Bill'}\n{'_id': 'movie:48', 'title': 'King of New York'}\n{'_id': 'movie:41', 'title': 'La mort aux trousses'}\n{'_id': 'movie:32', 'title': 'Le bon, la brute et le truand'}\n{'_id': 'movie:43', 'title': 'Le cinquiÃ¨me Ã©lÃ©ment'}\n{'_id': 'movie:82', 'title': 'Le dernier mÃ©tro'}\n{'_id': 'movie:27', 'title': 'Le gendarme et les extra-terrestres'}\n{'_id': 'movie:46', 'title': 'Le grand bleu'}\n{'_id': 'movie:16', 'title': 'Le last_name de la rose'}\n{'_id': 'movie:28', 'title': 'Le monde perdu'}\n{'_id': 'movie:54', 'title': 'Le parrain'}\n{'_id': 'movie:55', 'title': 'Le parrain II'}\n{'_id': 'movie:56', 'title': 'Le parrain III'}\n{'_id': 'movie:34', 'title': 'Le retour du Jedi'}\n{'_id': 'movie:21', 'title': 'Le silence des agneaux'}\n{'_id': 'movie:71', 'title': 'Les affranchis'}\n{'_id': 'movie:31', 'title': 'Les bronzÃ©s font du ski'}\n{'_id': 'movie:20', 'title': 'Les dents de la mer'}\n{'_id': 'movie:35', 'title': 'Les oiseaux'}\n{'_id': 'movie:26', 'title': 'Les pleins pouvoirs'}\n{'_id': 'movie:81', 'title': 'Les quatre cents coups'}\n{'_id': 'movie:60', 'title': 'Lost in Translation'}\n{'_id': 'movie:44', 'title': 'LÃ©on'}\n{'_id': 'movie:67', 'title': 'Marie Antoinette'}\n{'_id': 'movie:18', 'title': 'Mary Ã\\xa0 tout prix'}\n{'_id': 'movie:23', 'title': 'Matrix'}\n{'_id': 'movie:87', 'title': 'Memento'}\n{'_id': 'movie:63', 'title': 'Million Dollar Baby'}\n{'_id': 'movie:24', 'title': 'Mission: Impossible'}\n{'_id': 'movie:45', 'title': 'Nikita'}\n{'_id': 'movie:76', 'title': 'No country for old men'}\n{'_id': 'movie:92', 'title': 'Nous trois ou rien'}\n{'_id': 'movie:39', 'title': 'Pas de printemps pour Marnie'}\n{'_id': 'movie:11', 'title': 'PiÃ¨ge de cristal'}\n{'_id': 'movie:64', 'title': 'Pour quelques dollars de plus'}\n{'_id': 'movie:33', 'title': 'Psychose'}\n{'_id': 'movie:17', 'title': 'Pulp fiction'}\n{'_id': 'movie:29', 'title': 'Rain Man'}\n{'_id': 'movie:36', 'title': 'Reservoir dogs'}\n{'_id': 'movie:84', 'title': 'Rio Grande'}\n{'_id': 'movie:4', 'title': 'Sacrifice'}\n{'_id': 'movie:14', 'title': 'Seven'}\n{'_id': 'movie:38', 'title': 'Shining'}\n{'_id': 'movie:59', 'title': 'SixiÃ¨me sens'}\n{'_id': 'movie:74', 'title': 'Skyfall'}\n{'_id': 'movie:6', 'title': 'Sleepy Hollow'}\n{'_id': 'movie:68', 'title': 'Soleil vert'}\n{'_id': 'movie:47', 'title': 'Spider-Man'}\n{'_id': 'movie:62', 'title': 'Stalingrad'}\n{'_id': 'movie:70', 'title': 'Taxi driver'}\n{'_id': 'movie:19', 'title': 'Terminator'}\n{'_id': 'movie:89', 'title': 'The Dark Knight'}\n{'_id': 'movie:90', 'title': 'The Dark Knight Rises'}\n{'_id': 'movie:50', 'title': 'The Matrix Revolutions'}\n{'_id': 'movie:49', 'title': 'The Matrix reloaded'}\n{'_id': 'movie:3', 'title': 'Titanic'}\n{'_id': 'movie:30', 'title': 'Top Gun'}\n{'_id': 'movie:15', 'title': 'Twelve Monkeys'}\n{'_id': 'movie:91', 'title': 'Un prophÃ¨te'}\n{'_id': 'movie:58', 'title': 'Une journÃ©e en enfer'}\n{'_id': 'movie:52', 'title': 'Usual suspects'}\n{'_id': 'movie:13', 'title': 'Van Gogh'}\n{'_id': 'movie:1', 'title': 'Vertigo'}\n{'_id': 'movie:5', 'title': 'Volte/Face'}\nOrdre Décroissant\n{'_id': 'movie:5', 'title': 'Volte/Face'}\n{'_id': 'movie:1', 'title': 'Vertigo'}\n{'_id': 'movie:13', 'title': 'Van Gogh'}\n{'_id': 'movie:52', 'title': 'Usual suspects'}\n{'_id': 'movie:58', 'title': 'Une journÃ©e en enfer'}\n{'_id': 'movie:91', 'title': 'Un prophÃ¨te'}\n{'_id': 'movie:15', 'title': 'Twelve Monkeys'}\n{'_id': 'movie:30', 'title': 'Top Gun'}\n{'_id': 'movie:3', 'title': 'Titanic'}\n{'_id': 'movie:49', 'title': 'The Matrix reloaded'}\n{'_id': 'movie:50', 'title': 'The Matrix Revolutions'}\n{'_id': 'movie:90', 'title': 'The Dark Knight Rises'}\n{'_id': 'movie:89', 'title': 'The Dark Knight'}\n{'_id': 'movie:19', 'title': 'Terminator'}\n{'_id': 'movie:70', 'title': 'Taxi driver'}\n{'_id': 'movie:62', 'title': 'Stalingrad'}\n{'_id': 'movie:47', 'title': 'Spider-Man'}\n{'_id': 'movie:68', 'title': 'Soleil vert'}\n{'_id': 'movie:6', 'title': 'Sleepy Hollow'}\n{'_id': 'movie:74', 'title': 'Skyfall'}\n{'_id': 'movie:59', 'title': 'SixiÃ¨me sens'}\n{'_id': 'movie:38', 'title': 'Shining'}\n{'_id': 'movie:14', 'title': 'Seven'}\n{'_id': 'movie:4', 'title': 'Sacrifice'}\n{'_id': 'movie:84', 'title': 'Rio Grande'}\n{'_id': 'movie:36', 'title': 'Reservoir dogs'}\n{'_id': 'movie:29', 'title': 'Rain Man'}\n{'_id': 'movie:17', 'title': 'Pulp fiction'}\n{'_id': 'movie:33', 'title': 'Psychose'}\n{'_id': 'movie:64', 'title': 'Pour quelques dollars de plus'}\n{'_id': 'movie:11', 'title': 'PiÃ¨ge de cristal'}\n{'_id': 'movie:39', 'title': 'Pas de printemps pour Marnie'}\n{'_id': 'movie:92', 'title': 'Nous trois ou rien'}\n{'_id': 'movie:76', 'title': 'No country for old men'}\n{'_id': 'movie:45', 'title': 'Nikita'}\n{'_id': 'movie:24', 'title': 'Mission: Impossible'}\n{'_id': 'movie:63', 'title': 'Million Dollar Baby'}\n{'_id': 'movie:87', 'title': 'Memento'}\n{'_id': 'movie:23', 'title': 'Matrix'}\n{'_id': 'movie:18', 'title': 'Mary Ã\\xa0 tout prix'}\n{'_id': 'movie:67', 'title': 'Marie Antoinette'}\n{'_id': 'movie:44', 'title': 'LÃ©on'}\n{'_id': 'movie:60', 'title': 'Lost in Translation'}\n{'_id': 'movie:81', 'title': 'Les quatre cents coups'}\n{'_id': 'movie:26', 'title': 'Les pleins pouvoirs'}\n{'_id': 'movie:35', 'title': 'Les oiseaux'}\n{'_id': 'movie:20', 'title': 'Les dents de la mer'}\n{'_id': 'movie:31', 'title': 'Les bronzÃ©s font du ski'}\n{'_id': 'movie:71', 'title': 'Les affranchis'}\n{'_id': 'movie:21', 'title': 'Le silence des agneaux'}\n{'_id': 'movie:34', 'title': 'Le retour du Jedi'}\n{'_id': 'movie:56', 'title': 'Le parrain III'}\n{'_id': 'movie:55', 'title': 'Le parrain II'}\n{'_id': 'movie:54', 'title': 'Le parrain'}\n{'_id': 'movie:28', 'title': 'Le monde perdu'}\n{'_id': 'movie:16', 'title': 'Le last_name de la rose'}\n{'_id': 'movie:46', 'title': 'Le grand bleu'}\n{'_id': 'movie:27', 'title': 'Le gendarme et les extra-terrestres'}\n{'_id': 'movie:82', 'title': 'Le dernier mÃ©tro'}\n{'_id': 'movie:43', 'title': 'Le cinquiÃ¨me Ã©lÃ©ment'}\n{'_id': 'movie:32', 'title': 'Le bon, la brute et le truand'}\n{'_id': 'movie:41', 'title': 'La mort aux trousses'}\n{'_id': 'movie:48', 'title': 'King of New York'}\n{'_id': 'movie:61', 'title': 'Kill Bill'}\n{'_id': 'movie:25', 'title': 'Kagemusha'}\n{'_id': 'movie:42', 'title': \"Jeanne d'Arc\"}\n{'_id': 'movie:57', 'title': 'Jackie Brown'}\n{'_id': 'movie:85', 'title': 'Interstellar'}\n{'_id': 'movie:79', 'title': 'Inglourious Basterds'}\n{'_id': 'movie:80', 'title': 'Inglourious Basterds'}\n{'_id': 'movie:86', 'title': 'Inception'}\n{'_id': 'movie:8', 'title': 'Impitoyable'}\n{'_id': 'movie:69', 'title': 'Heat'}\n{'_id': 'movie:22', 'title': 'Godzilla'}\n{'_id': 'movie:9', 'title': 'Gladiator'}\n{'_id': 'movie:40', 'title': 'FenÃªtre sur cour'}\n{'_id': 'movie:77', 'title': 'Fargo'}\n{'_id': 'movie:37', 'title': 'Eyes Wide Shut'}\n{'_id': 'movie:78', 'title': 'Django unchained'}\n{'_id': 'movie:51', 'title': 'De bruit et de fureur'}\n{'_id': 'movie:73', 'title': 'Casino Royale'}\n{'_id': 'movie:72', 'title': 'Casino'}\n{'_id': 'movie:10', 'title': 'Blade Runner'}\n{'_id': 'movie:88', 'title': 'Batman begins'}\n{'_id': 'movie:53', 'title': 'Bad Lieutenant'}\n{'_id': 'movie:7', 'title': 'American Beauty'}\n{'_id': 'movie:2', 'title': 'Alien'}\n{'_id': 'movie:12', 'title': '58 minutes pour vivre'}\n"
     ]
    }
   ],
   "source": [
    "ascendingTitle = db.movies.find({},{\"title\" : 1}).sort(\"title\", 1)\n",
    "descendingTitle = db.movies.find({},{\"title\" : 1}).sort(\"title\", -1)\n",
    "\n",
    "print(\"Ordre Croissant\")\n",
    "for movie in ascendingTitle:\n",
    "    print(movie)\n",
    "\n",
    "print(\"Ordre Décroissant\")\n",
    "for movie in descendingTitle:\n",
    "    print(movie)\n",
    "\n"
   ]
  },
  {
   "source": [
    "<h1>#####             Critères de recherche simples ?         #####</h1>"
   ],
   "cell_type": "markdown",
   "metadata": {}
  },
  {
   "source": [
    "<h2>Afficher les infos du film dont l'id est 2 ? Se limiter aux infos relatives au titre, au genre et au summary ?</h2>"
   ],
   "cell_type": "markdown",
   "metadata": {}
  },
  {
   "cell_type": "code",
   "execution_count": 73,
   "metadata": {},
   "outputs": [
    {
     "output_type": "stream",
     "name": "stdout",
     "text": [
      "{'_id': 'movie:2', 'title': 'Alien', 'genre': 'Science-fiction', 'summary': 'PrÃ¨s d\\'un vaisseau spatial Ã©chouÃ© sur une lointaine planÃ¨te, des Terriens en mission dÃ©couvrent de bien Ã©tranges \"oeufs\". Ils en ramÃ¨nent un Ã\\xa0 bord, ignorant qu\\'ils viennent d\\'introduire parmi eux un huitiÃ¨me passager particuliÃ¨rement fÃ©roce et meurtrier. '}\n"
     ]
    }
   ],
   "source": [
    "movie1 = db.movies.find_one({\"_id\": \"movie:2\"},{\"title\" : 1, \"genre\": 1, \"summary\": 1 })\n",
    "print(movie1)"
   ]
  },
  {
   "source": [
    "<h2>Combien de films ont été produit en en 1979 et les afficher en se limitant aux infos relatives au titre, à l'année et à la liste des acteurs suivant un ordre alphabétique décroissant sur le titre.</h2>"
   ],
   "cell_type": "markdown",
   "metadata": {}
  },
  {
   "cell_type": "code",
   "execution_count": 74,
   "metadata": {},
   "outputs": [
    {
     "output_type": "stream",
     "name": "stdout",
     "text": [
      "{'_id': 'movie:31', 'title': 'Les bronzÃ©s font du ski', 'year': 1979, 'actors': [{'_id': 'artist:75', 'role': 'Nathalie Morin'}, {'_id': 'artist:76', 'role': 'Christiane'}, {'_id': 'artist:84', 'role': 'Jean-Claude Dus'}, {'_id': 'artist:85', 'role': 'JÃ©rÃ´me'}, {'_id': 'artist:86', 'role': 'Popeye'}]}\n{'_id': 'movie:2', 'title': 'Alien', 'year': 1979, 'actors': [{'_id': 'artist:5', 'role': 'Ripley'}]}\n"
     ]
    }
   ],
   "source": [
    "allMoviesOf1979 = db.movies.find({\"year\": 1979},{\"title\" : 1, \"year\": 1, \"actors\": 1 }).sort(\"title\", -1)\n",
    "for movie in allMoviesOf1979 :\n",
    "    print(movie)"
   ]
  },
  {
   "source": [
    "<h2>Afficher les infos sur le film dont le genre est \"Science-fiction\" et produit en 1979 sans préciser l'_id et le summary ?</h2>"
   ],
   "cell_type": "markdown",
   "metadata": {}
  },
  {
   "cell_type": "code",
   "execution_count": 75,
   "metadata": {},
   "outputs": [
    {
     "output_type": "stream",
     "name": "stdout",
     "text": [
      "{'title': 'Alien', 'year': 1979, 'genre': 'Science-fiction', 'country': 'USA', 'director': {'_id': 'artist:4'}, 'actors': [{'_id': 'artist:5', 'role': 'Ripley'}]}\n"
     ]
    }
   ],
   "source": [
    "scienceMovie = db.movies.find({\"year\": 1979, \"genre\" : \"Science-fiction\"},{\"_id\" : 0, \"summary\": 0})\n",
    "for movie in scienceMovie:\n",
    "    print(movie)"
   ]
  },
  {
   "source": [
    "<h1>#####             Critères de recherche complexes ?                 #####</h1>"
   ],
   "cell_type": "markdown",
   "metadata": {}
  },
  {
   "source": [
    "<h2>Combien de films produits par le director dont l'id est 4 et les afficher de plus récent au moins récent (sans le résumé ni le country ni le genre) ?</h2>"
   ],
   "cell_type": "markdown",
   "metadata": {}
  },
  {
   "cell_type": "code",
   "execution_count": 76,
   "metadata": {},
   "outputs": [
    {
     "output_type": "stream",
     "name": "stdout",
     "text": [
      "{'_id': 'movie:2', 'title': 'Alien', 'year': 1979, 'director': {'_id': 'artist:4'}, 'actors': [{'_id': 'artist:5', 'role': 'Ripley'}]}\n{'_id': 'movie:10', 'title': 'Blade Runner', 'year': 1982, 'director': {'_id': 'artist:4'}, 'actors': [{'_id': 'artist:24', 'role': 'Deckard'}, {'_id': 'artist:25', 'role': 'Batty'}]}\n{'_id': 'movie:9', 'title': 'Gladiator', 'year': 2000, 'director': {'_id': 'artist:4'}, 'actors': [{'_id': 'artist:23', 'role': 'Maximus'}, {'_id': 'artist:147', 'role': 'Commode'}, {'_id': 'artist:148', 'role': 'Lucilla'}, {'_id': 'artist:149', 'role': 'Marc Aurele'}]}\n"
     ]
    }
   ],
   "source": [
    "director4Movies = db.movies.find({\"director\":{\"_id\" : \"artist:4\"}},{\"genre\" : 0, \"summary\": 0, \"country\": 0}).sort(\"year\", 1)\n",
    "for movie in director4Movies:\n",
    "    print(movie)"
   ]
  },
  {
   "source": [
    "<h2>Combien de films produits par le director qui porte l'id 4 et dont l'un des acteurs a joué le rôle de Maximus et les afficher sans le résumé ni le country ni le genre ?</h2>"
   ],
   "cell_type": "markdown",
   "metadata": {}
  },
  {
   "cell_type": "code",
   "execution_count": 77,
   "metadata": {},
   "outputs": [
    {
     "output_type": "stream",
     "name": "stdout",
     "text": [
      "{'_id': 'movie:9', 'title': 'Gladiator', 'year': 2000, 'director': {'_id': 'artist:4'}, 'actors': [{'_id': 'artist:23', 'role': 'Maximus'}, {'_id': 'artist:147', 'role': 'Commode'}, {'_id': 'artist:148', 'role': 'Lucilla'}, {'_id': 'artist:149', 'role': 'Marc Aurele'}]}\n"
     ]
    }
   ],
   "source": [
    "movieByDirector4AndMaximus = db.movies.find({\"director\":{\"_id\" : \"artist:4\"}, \"actors.role\": \"Maximus\"},{\"genre\" : 0, \"summary\": 0, \"country\": 0}).sort(\"year\", 1)\n",
    "for movie in movieByDirector4AndMaximus:\n",
    "    print(movie)"
   ]
  },
  {
   "source": [
    "<h1>#####           Critère de recherche par intervalles                #####</h1>"
   ],
   "cell_type": "markdown",
   "metadata": {}
  },
  {
   "source": [
    "<h2>Ts les films produits après 2000 compris et avant 2005 exlus (dans un ordre chronologique) en se limitant au titre du film et son année de production ?</h2>"
   ],
   "cell_type": "markdown",
   "metadata": {}
  },
  {
   "cell_type": "code",
   "execution_count": 78,
   "metadata": {},
   "outputs": [
    {
     "output_type": "stream",
     "name": "stdout",
     "text": [
      "{'_id': 'movie:9', 'title': 'Gladiator', 'year': 2000}\n{'_id': 'movie:87', 'title': 'Memento', 'year': 2000}\n{'_id': 'movie:62', 'title': 'Stalingrad', 'year': 2001}\n{'_id': 'movie:47', 'title': 'Spider-Man', 'year': 2002}\n{'_id': 'movie:49', 'title': 'The Matrix reloaded', 'year': 2003}\n{'_id': 'movie:50', 'title': 'The Matrix Revolutions', 'year': 2003}\n{'_id': 'movie:60', 'title': 'Lost in Translation', 'year': 2003}\n{'_id': 'movie:61', 'title': 'Kill Bill', 'year': 2003}\n"
     ]
    }
   ],
   "source": [
    "moviesBetween2000and2005 = db.movies.find({\"year\":{\"$gte\":2000,\"$lt\":2005}},{\"title\" : 1, \"year\": 1}).sort(\"year\", 1)\n",
    "for movie in moviesBetween2000and2005:\n",
    "    print(movie)"
   ]
  },
  {
   "source": [
    "<h1>#####               Opérateurs booléens                             #####</h1>"
   ],
   "cell_type": "markdown",
   "metadata": {}
  },
  {
   "source": [
    "<h2>Lister les films parus en 1997 ou avec l'acteur id = 147 ?</h2>"
   ],
   "cell_type": "markdown",
   "metadata": {}
  },
  {
   "cell_type": "code",
   "execution_count": 79,
   "metadata": {},
   "outputs": [
    {
     "output_type": "stream",
     "name": "stdout",
     "text": [
      "{'_id': 'movie:3', 'title': 'Titanic', 'year': 1997, 'actors': [{'_id': 'artist:109', 'role': 'Rose DeWitt Bukater'}, {'_id': 'artist:110', 'role': 'Jack Dawson'}]}\n{'_id': 'movie:5', 'title': 'Volte/Face', 'year': 1997, 'actors': [{'_id': 'artist:11', 'role': 'Sean Archer/Castor Troy'}, {'_id': 'artist:12', 'role': 'Castor Troy/Sean Archer'}]}\n{'_id': 'movie:9', 'title': 'Gladiator', 'year': 2000, 'actors': [{'_id': 'artist:23', 'role': 'Maximus'}, {'_id': 'artist:147', 'role': 'Commode'}, {'_id': 'artist:148', 'role': 'Lucilla'}, {'_id': 'artist:149', 'role': 'Marc Aurele'}]}\n{'_id': 'movie:26', 'title': 'Les pleins pouvoirs', 'year': 1997, 'actors': [{'_id': 'artist:20', 'role': 'Luther Whitney'}, {'_id': 'artist:21', 'role': 'Le prÃ©sident Richmond'}, {'_id': 'artist:69', 'role': 'Seth Frank'}]}\n{'_id': 'movie:28', 'title': 'Le monde perdu', 'year': 1997, 'actors': [{'_id': 'artist:57', 'role': 'Dr. Ian Malcolm'}]}\n{'_id': 'movie:43', 'title': 'Le cinquiÃ¨me Ã©lÃ©ment', 'year': 1997, 'actors': [{'_id': 'artist:27', 'role': 'Major Korben Dalla'}, {'_id': 'artist:112', 'role': 'Leeloo'}, {'_id': 'artist:116', 'role': 'Jean-Baptiste Emmanuel Zorg'}, {'_id': 'artist:117', 'role': 'Vito Cornelius'}]}\n{'_id': 'movie:57', 'title': 'Jackie Brown', 'year': 1997, 'actors': [{'_id': 'artist:167', 'role': 'Luis Gara'}, {'_id': 'artist:168', 'role': 'Jackie Brown'}, {'_id': 'artist:169', 'role': 'Melanie'}, {'_id': 'artist:170', 'role': 'Ray Nicolette'}, {'_id': 'artist:212', 'role': 'Ordell Robbie'}]}\n"
     ]
    }
   ],
   "source": [
    "moviesWithActor147In1997 = db.movies.find({\"$or\" : [{\"year\": 1997}, {\"actors._id\": \"artist:147\"}] },{\"title\" : 1, \"year\": 1, \"actors\":1})\n",
    "\n",
    "for movie in moviesWithActor147In1997:\n",
    "    print(movie)"
   ]
  },
  {
   "source": [
    "<h1>#####       Opérateurs ensemblistes : in, not in, any, all, exists  #####</h1>"
   ],
   "cell_type": "markdown",
   "metadata": {}
  },
  {
   "source": [
    "<h2>Q : Combien de films dans lesquels ont joué au moins un des artistes suivants : 34, 98 et 1 et afficher leur titre et la liste des actors ; sens du tri : chronologique et alphabétique croissant sur les noms des artistes ?</h2>"
   ],
   "cell_type": "markdown",
   "metadata": {}
  },
  {
   "cell_type": "code",
   "execution_count": 80,
   "metadata": {},
   "outputs": [
    {
     "output_type": "stream",
     "name": "stdout",
     "text": [
      "{'_id': 'movie:56', 'title': 'Le parrain III', 'actors': [{'_id': 'artist:1', 'role': 'Mary Corleone'}, {'_id': 'artist:176', 'role': 'Michael Corleone'}, {'_id': 'artist:183', 'role': 'Kay Adams'}, {'_id': 'artist:186', 'role': 'Vincent Mancini'}]}\n\n\n{'_id': 'movie:36', 'title': 'Reservoir dogs', 'actors': [{'_id': 'artist:37', 'role': 'Mr. Brown'}, {'_id': 'artist:98', 'role': 'Mr. White/Larry'}, {'_id': 'artist:99', 'role': 'Freddy Newendyke/Mr. Orange'}, {'_id': 'artist:100', 'role': 'Nice Guy Eddie'}, {'_id': 'artist:215', 'role': 'Mr Blonde'}, {'_id': 'artist:217', 'role': 'Mr Pink'}, {'_id': 'artist:218', 'role': 'Mr Blue'}]}\n\n\n{'_id': 'movie:17', 'title': 'Pulp fiction', 'actors': [{'_id': 'artist:11', 'role': 'Vincent Vega'}, {'_id': 'artist:27', 'role': 'Butch Coolidge'}, {'_id': 'artist:37', 'role': 'Jimmy Dimmick'}, {'_id': 'artist:38', 'role': 'Jules Winnfield'}, {'_id': 'artist:39', 'role': 'Jody'}, {'_id': 'artist:40', 'role': 'Mia Wallace'}, {'_id': 'artist:97', 'role': 'Capt. Koons'}, {'_id': 'artist:98', 'role': 'Winston \"The Wolf\" Wolfe'}, {'_id': 'artist:99', 'role': 'Pumpkin (Ringo)'}]}\n\n\n{'_id': 'movie:53', 'title': 'Bad Lieutenant', 'actors': [{'_id': 'artist:98', 'role': 'Le lieutenant'}]}\n\n\n"
     ]
    }
   ],
   "source": [
    "moviesWithSpecifiedActors = db.movies.find({\"actors._id\":{\"$in\":[\"artist:34\",\"artist:98\",\"artist:1\"]}},{\"title\" : 1, \"actors\": 1}).sort(\"year\", 1).sort(\"actors\",1)\n",
    "\n",
    "for movie in moviesWithSpecifiedActors:\n",
    "    print(movie)\n",
    "    print(\"\\n\")"
   ]
  },
  {
   "source": [
    "<h2>Q : Chercher les films dans lesquels ont joué ensemble les actors 23 et 147 ?</h2>\n"
   ],
   "cell_type": "markdown",
   "metadata": {}
  },
  {
   "cell_type": "code",
   "execution_count": 81,
   "metadata": {},
   "outputs": [
    {
     "output_type": "stream",
     "name": "stdout",
     "text": [
      "{'_id': 'movie:9', 'title': 'Gladiator', 'actors': [{'_id': 'artist:23', 'role': 'Maximus'}, {'_id': 'artist:147', 'role': 'Commode'}, {'_id': 'artist:148', 'role': 'Lucilla'}, {'_id': 'artist:149', 'role': 'Marc Aurele'}]}\n\n\n"
     ]
    }
   ],
   "source": [
    "moviesWithSpecifiedActors2 = db.movies.find({\"actors._id\":{\"$all\":[\"artist:23\",\"artist:147\"]}},{\"title\" : 1, \"actors\": 1}).sort(\"title\",1)\n",
    "\n",
    "for movie in moviesWithSpecifiedActors2:\n",
    "    print(movie)\n",
    "    print(\"\\n\")"
   ]
  },
  {
   "source": [
    "<h2>Q : Combien de films dans lesquels ont joué ni l'acteur 34, ni 98, ni 1 et afficher leur titre et la liste des actors ; sens du tri : chronologique décroissant et alphabétique croissant sur les titres des films ?</h2>"
   ],
   "cell_type": "markdown",
   "metadata": {}
  },
  {
   "cell_type": "code",
   "execution_count": 82,
   "metadata": {},
   "outputs": [
    {
     "output_type": "stream",
     "name": "stdout",
     "text": [
      "=====1=====\n{'_id': 'movie:4', 'title': 'Sacrifice', 'actors': []}\n\n\n=====2=====\n{'_id': 'movie:25', 'title': 'Kagemusha', 'actors': []}\n\n\n=====3=====\n{'_id': 'movie:40', 'title': 'FenÃªtre sur cour', 'actors': []}\n\n\n=====4=====\n{'_id': 'movie:64', 'title': 'Pour quelques dollars de plus', 'actors': []}\n\n\n=====5=====\n{'_id': 'movie:79', 'title': 'Inglourious Basterds', 'actors': []}\n\n\n=====6=====\n{'_id': 'movie:92', 'title': 'Nous trois ou rien', 'actors': []}\n\n\n=====7=====\n{'_id': 'movie:37', 'title': 'Eyes Wide Shut', 'actors': [{'_id': 'artist:65', 'role': 'Docteur William \"Bill\" Harford'}, {'_id': 'artist:102', 'role': 'Alice Harford'}]}\n\n\n=====8=====\n{'_id': 'movie:38', 'title': 'Shining', 'actors': [{'_id': 'artist:103', 'role': 'Jack Torrance'}]}\n\n\n=====9=====\n{'_id': 'movie:41', 'title': 'La mort aux trousses', 'actors': [{'_id': 'artist:105', 'role': 'Roger O. Thornhill'}, {'_id': 'artist:106', 'role': 'Eve Kendall'}, {'_id': 'artist:107', 'role': 'Philipp Vandamm'}]}\n\n\n=====10=====\n{'_id': 'movie:3', 'title': 'Titanic', 'actors': [{'_id': 'artist:109', 'role': 'Rose DeWitt Bukater'}, {'_id': 'artist:110', 'role': 'Jack Dawson'}]}\n\n\n=====11=====\n{'_id': 'movie:5', 'title': 'Volte/Face', 'actors': [{'_id': 'artist:11', 'role': 'Sean Archer/Castor Troy'}, {'_id': 'artist:12', 'role': 'Castor Troy/Sean Archer'}]}\n\n\n=====12=====\n{'_id': 'movie:78', 'title': 'Django unchained', 'actors': [{'_id': 'artist:110', 'role': 'Calvin Candie'}, {'_id': 'artist:212', 'role': 'Stephen'}, {'_id': 'artist:255', 'role': 'Django'}, {'_id': 'artist:256', 'role': 'Dr. King Schultz'}]}\n\n\n=====13=====\n{'_id': 'movie:86', 'title': 'Inception', 'actors': [{'_id': 'artist:110', 'role': 'Cobb'}, {'_id': 'artist:269', 'role': 'Miles'}, {'_id': 'artist:270', 'role': 'Ariadne'}, {'_id': 'artist:271', 'role': 'Mal'}]}\n\n\n=====14=====\n{'_id': 'movie:42', 'title': \"Jeanne d'Arc\", 'actors': [{'_id': 'artist:80', 'role': None}, {'_id': 'artist:112', 'role': \"Jeanne d'Arc\"}, {'_id': 'artist:113', 'role': \"Yolande d'Aragon\"}, {'_id': 'artist:114', 'role': 'Charles VII'}, {'_id': 'artist:115', 'role': 'Dunois'}]}\n\n\n=====15=====\n{'_id': 'movie:43', 'title': 'Le cinquiÃ¨me Ã©lÃ©ment', 'actors': [{'_id': 'artist:27', 'role': 'Major Korben Dalla'}, {'_id': 'artist:112', 'role': 'Leeloo'}, {'_id': 'artist:116', 'role': 'Jean-Baptiste Emmanuel Zorg'}, {'_id': 'artist:117', 'role': 'Vito Cornelius'}]}\n\n\n=====16=====\n{'_id': 'movie:45', 'title': 'Nikita', 'actors': [{'_id': 'artist:115', 'role': 'Bob'}, {'_id': 'artist:119', 'role': 'Nikita'}, {'_id': 'artist:120', 'role': 'Marco'}]}\n\n\n=====17=====\n{'_id': 'movie:88', 'title': 'Batman begins', 'actors': [{'_id': 'artist:22', 'role': 'Lucius Fox '}, {'_id': 'artist:116', 'role': ' Jim Gordon '}, {'_id': 'artist:269', 'role': 'Alfred'}, {'_id': 'artist:274', 'role': ' Bruce Wayne / Batman '}, {'_id': 'artist:275', 'role': 'Ducard'}]}\n\n\n=====18=====\n{'_id': 'movie:90', 'title': 'The Dark Knight Rises', 'actors': [{'_id': 'artist:22', 'role': 'Lucius Fox'}, {'_id': 'artist:116', 'role': 'Commissioner Gordon'}, {'_id': 'artist:268', 'role': 'Selina'}, {'_id': 'artist:269', 'role': 'Alfred'}, {'_id': 'artist:271', 'role': 'Miranda'}, {'_id': 'artist:274', 'role': 'Bruce Wayne / Batman'}]}\n\n\n=====19=====\n{'_id': 'movie:89', 'title': 'The Dark Knight', 'actors': [{'_id': 'artist:22', 'role': 'Lucius Fox'}, {'_id': 'artist:116', 'role': 'Gordon'}, {'_id': 'artist:269', 'role': 'Alfred'}, {'_id': 'artist:274', 'role': 'Bruce Wayne / Batman'}, {'_id': 'artist:276', 'role': 'Joker'}, {'_id': 'artist:277', 'role': 'Rachel'}]}\n\n\n=====20=====\n{'_id': 'movie:44', 'title': 'LÃ©on', 'actors': [{'_id': 'artist:60', 'role': 'LÃ©on'}, {'_id': 'artist:116', 'role': 'Norman Stansfield'}, {'_id': 'artist:118', 'role': 'Mathilda'}]}\n\n\n=====21=====\n{'_id': 'movie:46', 'title': 'Le grand bleu', 'actors': [{'_id': 'artist:39', 'role': 'Johanna'}, {'_id': 'artist:60', 'role': 'Enzo Molinari'}, {'_id': 'artist:121', 'role': 'Jacques Mayol'}]}\n\n\n=====22=====\n{'_id': 'movie:47', 'title': 'Spider-Man', 'actors': [{'_id': 'artist:124', 'role': 'Spider-Man'}, {'_id': 'artist:125', 'role': 'Norman Osborn'}, {'_id': 'artist:126', 'role': 'Mary Jane Watson'}, {'_id': 'artist:127', 'role': 'Oncle Ben'}, {'_id': 'artist:128', 'role': 'Tante May'}]}\n\n\n=====23=====\n{'_id': 'movie:48', 'title': 'King of New York', 'actors': [{'_id': 'artist:63', 'role': 'Jimmy Jump'}, {'_id': 'artist:97', 'role': 'Frank White'}, {'_id': 'artist:124', 'role': 'Thomas Flanigan'}, {'_id': 'artist:131', 'role': 'Dennis Gilley'}, {'_id': 'artist:132', 'role': 'Thomas Flanigan'}, {'_id': 'artist:217', 'role': 'Test tube'}]}\n\n\n=====24=====\n{'_id': 'movie:82', 'title': 'Le dernier mÃ©tro', 'actors': [{'_id': 'artist:130', 'role': 'Marion Steiner'}, {'_id': 'artist:261', 'role': 'Bernard Granger'}, {'_id': 'artist:262', 'role': 'Jean-Loup Cottins'}]}\n\n\n=====25=====\n{'_id': 'movie:50', 'title': 'The Matrix Revolutions', 'actors': [{'_id': 'artist:62', 'role': 'Neo'}, {'_id': 'artist:63', 'role': 'Morpheus'}, {'_id': 'artist:134', 'role': 'Agent Smith'}, {'_id': 'artist:136', 'role': 'Trinity'}, {'_id': 'artist:137', 'role': \"L'Oracle\"}]}\n\n\n=====26=====\n{'_id': 'movie:54', 'title': 'Le parrain', 'actors': [{'_id': 'artist:137', 'role': 'Sonny Corleone'}, {'_id': 'artist:155', 'role': 'Capt. McCluskey'}, {'_id': 'artist:176', 'role': 'Michael Corleone'}, {'_id': 'artist:182', 'role': 'Do Vito Corleone'}, {'_id': 'artist:183', 'role': 'Kay Adams'}, {'_id': 'artist:184', 'role': 'Tom Hagen'}]}\n\n\n=====27=====\n{'_id': 'movie:51', 'title': 'De bruit et de fureur', 'actors': [{'_id': 'artist:139', 'role': 'Marcel'}, {'_id': 'artist:140', 'role': 'Enseignante'}, {'_id': 'artist:141', 'role': 'Bruno'}]}\n\n\n=====28=====\n{'_id': 'movie:6', 'title': 'Sleepy Hollow', 'actors': [{'_id': 'artist:14', 'role': 'Constable Ichabod Crane'}, {'_id': 'artist:96', 'role': 'Katrina Anne Van Tassel'}, {'_id': 'artist:97', 'role': 'Le cavalier'}]}\n\n\n=====29=====\n{'_id': 'movie:52', 'title': 'Usual suspects', 'actors': [{'_id': 'artist:18', 'role': 'Roger \"Verbal\" Kint'}, {'_id': 'artist:143', 'role': 'Micheal McManus'}, {'_id': 'artist:144', 'role': 'Dean Keaton'}, {'_id': 'artist:145', 'role': 'Fred Fenster'}, {'_id': 'artist:146', 'role': 'Todd Hockney'}]}\n\n\n=====30=====\n{'_id': 'movie:9', 'title': 'Gladiator', 'actors': [{'_id': 'artist:23', 'role': 'Maximus'}, {'_id': 'artist:147', 'role': 'Commode'}, {'_id': 'artist:148', 'role': 'Lucilla'}, {'_id': 'artist:149', 'role': 'Marc Aurele'}]}\n\n\n=====31=====\n{'_id': 'movie:1', 'title': 'Vertigo', 'actors': [{'_id': 'artist:15', 'role': 'John Ferguson'}, {'_id': 'artist:16', 'role': 'Madeleine Elster'}, {'_id': 'artist:282', 'role': None}]}\n\n\n=====32=====\n{'_id': 'movie:69', 'title': 'Heat', 'actors': [{'_id': 'artist:167', 'role': None}]}\n\n\n=====33=====\n{'_id': 'movie:55', 'title': 'Le parrain II', 'actors': [{'_id': 'artist:167', 'role': 'Don Vito Corleone'}, {'_id': 'artist:176', 'role': 'Michael Corleone'}, {'_id': 'artist:183', 'role': 'Kay Adams'}, {'_id': 'artist:184', 'role': 'Tom Hagen'}]}\n\n\n=====34=====\n{'_id': 'movie:71', 'title': 'Les affranchis', 'actors': [{'_id': 'artist:167', 'role': 'James Conway'}, {'_id': 'artist:242', 'role': 'Henry Hill'}, {'_id': 'artist:243', 'role': 'Tommy DeVito'}, {'_id': 'artist:244', 'role': 'Karen Hill'}]}\n\n\n=====35=====\n{'_id': 'movie:57', 'title': 'Jackie Brown', 'actors': [{'_id': 'artist:167', 'role': 'Luis Gara'}, {'_id': 'artist:168', 'role': 'Jackie Brown'}, {'_id': 'artist:169', 'role': 'Melanie'}, {'_id': 'artist:170', 'role': 'Ray Nicolette'}, {'_id': 'artist:212', 'role': 'Ordell Robbie'}]}\n\n\n=====36=====\n{'_id': 'movie:72', 'title': 'Casino', 'actors': [{'_id': 'artist:167', 'role': \"Sam 'Ace' Rothstein\"}, {'_id': 'artist:243', 'role': '  Nicky Santoro '}, {'_id': 'artist:245', 'role': 'Ginger McKenna'}]}\n\n\n=====37=====\n{'_id': 'movie:70', 'title': 'Taxi driver', 'actors': [{'_id': 'artist:51', 'role': '1962'}, {'_id': 'artist:167', 'role': 'Travis Bickle '}]}\n\n\n=====38=====\n{'_id': 'movie:58', 'title': 'Une journÃ©e en enfer', 'actors': [{'_id': 'artist:27', 'role': 'McClane'}, {'_id': 'artist:38', 'role': 'Zeus Carver'}, {'_id': 'artist:169', 'role': 'Simon Gruber'}]}\n\n\n=====39=====\n{'_id': 'movie:59', 'title': 'SixiÃ¨me sens', 'actors': [{'_id': 'artist:27', 'role': 'Malcom Crowe'}, {'_id': 'artist:171', 'role': 'Cole Sear'}]}\n\n\n=====40=====\n{'_id': 'movie:60', 'title': 'Lost in Translation', 'actors': [{'_id': 'artist:173', 'role': 'Bob Harris'}, {'_id': 'artist:174', 'role': 'Charlotte'}, {'_id': 'artist:175', 'role': 'John'}, {'_id': 'artist:176', 'role': 'Kelly'}, {'_id': 'artist:177', 'role': 'Patron Nightclub'}]}\n\n\n=====41=====\n{'_id': 'movie:14', 'title': 'Seven', 'actors': [{'_id': 'artist:18', 'role': 'Doe'}, {'_id': 'artist:22', 'role': 'Somerset'}, {'_id': 'artist:32', 'role': 'Mills'}]}\n\n\n=====42=====\n{'_id': 'movie:7', 'title': 'American Beauty', 'actors': [{'_id': 'artist:18', 'role': 'Lester Burnham'}, {'_id': 'artist:19', 'role': 'Carolyn Burnham'}]}\n\n\n=====43=====\n{'_id': 'movie:62', 'title': 'Stalingrad', 'actors': [{'_id': 'artist:182', 'role': 'Vassili ZaÃ¯tzev'}, {'_id': 'artist:183', 'role': 'major KÃ¶nig'}]}\n\n\n=====44=====\n{'_id': 'movie:67', 'title': 'Marie Antoinette', 'actors': [{'_id': 'artist:2', 'role': 'Marie Antoinette'}]}\n\n\n=====45=====\n{'_id': 'movie:32', 'title': 'Le bon, la brute et le truand', 'actors': [{'_id': 'artist:20', 'role': None}]}\n\n\n=====46=====\n{'_id': 'movie:63', 'title': 'Million Dollar Baby', 'actors': [{'_id': 'artist:20', 'role': 'Frankie Dunn'}, {'_id': 'artist:22', 'role': 'Eddie Scrap-Iron Dupris'}, {'_id': 'artist:224', 'role': 'Maggie Fitzerald'}]}\n\n\n=====47=====\n{'_id': 'movie:26', 'title': 'Les pleins pouvoirs', 'actors': [{'_id': 'artist:20', 'role': 'Luther Whitney'}, {'_id': 'artist:21', 'role': 'Le prÃ©sident Richmond'}, {'_id': 'artist:69', 'role': 'Seth Frank'}]}\n\n\n=====48=====\n{'_id': 'movie:8', 'title': 'Impitoyable', 'actors': [{'_id': 'artist:20', 'role': 'William Munny'}, {'_id': 'artist:21', 'role': 'Little Bill Dagget'}, {'_id': 'artist:22', 'role': 'Ned Logan'}]}\n\n\n=====49=====\n{'_id': 'movie:49', 'title': 'The Matrix reloaded', 'actors': [{'_id': 'artist:62', 'role': 'Neo'}, {'_id': 'artist:63', 'role': 'Morpheus'}, {'_id': 'artist:210', 'role': 'Trinity'}, {'_id': 'artist:211', 'role': 'Agent Smith'}]}\n\n\n=====50=====\n{'_id': 'movie:61', 'title': 'Kill Bill', 'actors': [{'_id': 'artist:40', 'role': 'La mariÃ©e, alias \"Black Mamba\"'}, {'_id': 'artist:213', 'role': 'O-Ren Ishii'}, {'_id': 'artist:214', 'role': 'Bill'}, {'_id': 'artist:215', 'role': 'Budd / Sidewinder'}, {'_id': 'artist:216', 'role': 'Elle Driver'}]}\n\n\n=====51=====\n{'_id': 'movie:77', 'title': 'Fargo', 'actors': [{'_id': 'artist:217', 'role': 'Carl Showalter'}, {'_id': 'artist:254', 'role': ' Jerry Lundegaard '}]}\n\n\n=====52=====\n{'_id': 'movie:10', 'title': 'Blade Runner', 'actors': [{'_id': 'artist:24', 'role': 'Deckard'}, {'_id': 'artist:25', 'role': 'Batty'}]}\n\n\n=====53=====\n{'_id': 'movie:34', 'title': 'Le retour du Jedi', 'actors': [{'_id': 'artist:24', 'role': 'Han Solo'}, {'_id': 'artist:92', 'role': 'Luke Skywalker'}, {'_id': 'artist:93', 'role': 'Princesse Leia'}]}\n\n\n=====54=====\n{'_id': 'movie:73', 'title': 'Casino Royale', 'actors': [{'_id': 'artist:247', 'role': 'James Bond'}, {'_id': 'artist:248', 'role': 'Vesper Lynd'}]}\n\n\n=====55=====\n{'_id': 'movie:74', 'title': 'Skyfall', 'actors': [{'_id': 'artist:247', 'role': 'James Bond'}, {'_id': 'artist:249', 'role': 'M'}, {'_id': 'artist:250', 'role': 'Silva'}]}\n\n\n=====56=====\n{'_id': 'movie:76', 'title': 'No country for old men', 'actors': [{'_id': 'artist:250', 'role': 'Anton Chigurh'}, {'_id': 'artist:252', 'role': 'Ed Tom Bell'}, {'_id': 'artist:253', 'role': 'Llewelyn Moss'}]}\n\n\n=====57=====\n{'_id': 'movie:80', 'title': 'Inglourious Basterds', 'actors': [{'_id': 'artist:32', 'role': 'Lt. Aldo Raine'}, {'_id': 'artist:256', 'role': 'Col. Hans Landa'}, {'_id': 'artist:257', 'role': 'Shoshana'}, {'_id': 'artist:258', 'role': 'Lt. Archie Hicox'}]}\n\n\n=====58=====\n{'_id': 'movie:81', 'title': 'Les quatre cents coups', 'actors': [{'_id': 'artist:260', 'role': 'Antoine Doinel'}]}\n\n\n=====59=====\n{'_id': 'movie:84', 'title': 'Rio Grande', 'actors': [{'_id': 'artist:264', 'role': 'Lt. Col. Kirby Yorke'}, {'_id': 'artist:265', 'role': 'Mrs. Kathleen Yorke'}]}\n\n\n=====60=====\n{'_id': 'movie:85', 'title': 'Interstellar', 'actors': [{'_id': 'artist:267', 'role': 'Cooper'}, {'_id': 'artist:268', 'role': '   Brand '}, {'_id': 'artist:269', 'role': 'Professor Brand'}]}\n\n\n=====61=====\n{'_id': 'movie:15', 'title': 'Twelve Monkeys', 'actors': [{'_id': 'artist:27', 'role': 'Cole'}]}\n\n\n=====62=====\n{'_id': 'movie:11', 'title': 'PiÃ¨ge de cristal', 'actors': [{'_id': 'artist:27', 'role': 'McClane'}]}\n\n\n=====63=====\n{'_id': 'movie:12', 'title': '58 minutes pour vivre', 'actors': [{'_id': 'artist:27', 'role': 'McClane'}]}\n\n\n=====64=====\n{'_id': 'movie:87', 'title': 'Memento', 'actors': [{'_id': 'artist:272', 'role': 'Leonard'}, {'_id': 'artist:273', 'role': 'Natalie'}]}\n\n\n=====65=====\n{'_id': 'movie:91', 'title': 'Un prophÃ¨te', 'actors': [{'_id': 'artist:279', 'role': 'Malik El Djebena '}, {'_id': 'artist:280', 'role': 'CÃ©sar Luciani'}]}\n\n\n=====66=====\n{'_id': 'movie:13', 'title': 'Van Gogh', 'actors': [{'_id': 'artist:30', 'role': 'Van Gogh'}]}\n\n\n=====67=====\n{'_id': 'movie:39', 'title': 'Pas de printemps pour Marnie', 'actors': [{'_id': 'artist:35', 'role': '\\n                       Mark R'}, {'_id': 'artist:95', 'role': 'Marnie Edgar'}]}\n\n\n=====68=====\n{'_id': 'movie:16', 'title': 'Le last_name de la rose', 'actors': [{'_id': 'artist:35', 'role': 'Baskerville'}, {'_id': 'artist:36', 'role': 'de Melk'}]}\n\n\n=====69=====\n{'_id': 'movie:18', 'title': 'Mary Ã\\xa0 tout prix', 'actors': [{'_id': 'artist:42', 'role': 'Mary Jensen Matthews'}, {'_id': 'artist:43', 'role': 'Pat Healy'}]}\n\n\n=====70=====\n{'_id': 'movie:19', 'title': 'Terminator', 'actors': [{'_id': 'artist:44', 'role': 'Terminator'}]}\n\n\n=====71=====\n{'_id': 'movie:20', 'title': 'Les dents de la mer', 'actors': [{'_id': 'artist:46', 'role': 'Martin Brody'}, {'_id': 'artist:47', 'role': 'Quint'}, {'_id': 'artist:48', 'role': 'Matt Hooper'}]}\n\n\n=====72=====\n{'_id': 'movie:2', 'title': 'Alien', 'actors': [{'_id': 'artist:5', 'role': 'Ripley'}]}\n\n\n=====73=====\n{'_id': 'movie:21', 'title': 'Le silence des agneaux', 'actors': [{'_id': 'artist:50', 'role': 'Dr. Hannibal Lecter'}, {'_id': 'artist:51', 'role': 'Clarice Starling'}]}\n\n\n=====74=====\n{'_id': 'movie:30', 'title': 'Top Gun', 'actors': [{'_id': 'artist:53', 'role': 'Iceman'}, {'_id': 'artist:65', 'role': 'Lt. Pete Maverick Mitchell'}, {'_id': 'artist:82', 'role': 'Charlotte Blackwood'}]}\n\n\n=====75=====\n{'_id': 'movie:28', 'title': 'Le monde perdu', 'actors': [{'_id': 'artist:57', 'role': 'Dr. Ian Malcolm'}]}\n\n\n=====76=====\n{'_id': 'movie:22', 'title': 'Godzilla', 'actors': [{'_id': 'artist:59', 'role': 'Dr. Nikos Tatopoulos'}, {'_id': 'artist:60', 'role': 'Philippe RoachÃ©'}]}\n\n\n=====77=====\n{'_id': 'movie:24', 'title': 'Mission: Impossible', 'actors': [{'_id': 'artist:60', 'role': 'Franz Krieger'}, {'_id': 'artist:65', 'role': 'Ethan Hunt'}, {'_id': 'artist:66', 'role': 'Jim Phelps'}, {'_id': 'artist:67', 'role': 'Claire Phelps'}]}\n\n\n=====78=====\n{'_id': 'movie:23', 'title': 'Matrix', 'actors': [{'_id': 'artist:62', 'role': 'Neo'}, {'_id': 'artist:63', 'role': 'Morpheus'}]}\n\n\n=====79=====\n{'_id': 'movie:29', 'title': 'Rain Man', 'actors': [{'_id': 'artist:65', 'role': 'Charlie Babbitt'}, {'_id': 'artist:80', 'role': 'Raymond Babbitt'}]}\n\n\n=====80=====\n{'_id': 'movie:27', 'title': 'Le gendarme et les extra-terrestres', 'actors': [{'_id': 'artist:72', 'role': 'Inspecteur Cruchot'}, {'_id': 'artist:73', 'role': 'Adjudant Gerber'}]}\n\n\n=====81=====\n{'_id': 'movie:31', 'title': 'Les bronzÃ©s font du ski', 'actors': [{'_id': 'artist:75', 'role': 'Nathalie Morin'}, {'_id': 'artist:76', 'role': 'Christiane'}, {'_id': 'artist:84', 'role': 'Jean-Claude Dus'}, {'_id': 'artist:85', 'role': 'JÃ©rÃ´me'}, {'_id': 'artist:86', 'role': 'Popeye'}]}\n\n\n=====82=====\n{'_id': 'movie:68', 'title': 'Soleil vert', 'actors': [{'_id': 'artist:8', 'role': 'sol'}]}\n\n\n=====83=====\n{'_id': 'movie:33', 'title': 'Psychose', 'actors': [{'_id': 'artist:88', 'role': 'Bates'}, {'_id': 'artist:89', 'role': 'Lila Crane'}, {'_id': 'artist:90', 'role': 'Marion Crane'}]}\n\n\n=====84=====\n{'_id': 'movie:35', 'title': 'Les oiseaux', 'actors': [{'_id': 'artist:94', 'role': 'Mitch Brenner'}, {'_id': 'artist:95', 'role': 'Melanie Daniels'}]}\n\n\n"
     ]
    }
   ],
   "source": [
    "moviesWithoutSpecifiedActors = db.movies.find({\"actors._id\":{\"$nin\":[\"artist:34\",\"artist:98\",\"artist:1\"]}},{\"title\" : 1, \"actors\": 1}).sort(\"year\", 1).sort(\"actors\",1)\n",
    "count = 0 \n",
    "for movie in moviesWithoutSpecifiedActors:\n",
    "    count+=1;\n",
    "    print(\"=====\"+str(count)+\"=====\")\n",
    "    print(movie)\n",
    "    print(\"\\n\")"
   ]
  },
  {
   "source": [
    "<h2>Q : Combien de films qui n’ont pas d’attribut actors ? Combien de films dont l'attribut actors n'est pas renseigné et les afficher ?</h2>"
   ],
   "cell_type": "markdown",
   "metadata": {}
  },
  {
   "cell_type": "code",
   "execution_count": 89,
   "metadata": {
    "tags": []
   },
   "outputs": [
    {
     "output_type": "stream",
     "name": "stdout",
     "text": [
      "0\n=====1=====\n{'_id': 'movie:4', 'title': 'Sacrifice', 'actors': []}\n\n\n=====2=====\n{'_id': 'movie:25', 'title': 'Kagemusha', 'actors': []}\n\n\n=====3=====\n{'_id': 'movie:40', 'title': 'FenÃªtre sur cour', 'actors': []}\n\n\n=====4=====\n{'_id': 'movie:64', 'title': 'Pour quelques dollars de plus', 'actors': []}\n\n\n=====5=====\n{'_id': 'movie:79', 'title': 'Inglourious Basterds', 'actors': []}\n\n\n=====6=====\n{'_id': 'movie:92', 'title': 'Nous trois ou rien', 'actors': []}\n\n\n"
     ]
    }
   ],
   "source": [
    "movieWithoutActors =  db.movies.find({\"actors\" : { \"$exists\": False}}).count()\n",
    "print(movieWithoutActors)\n",
    "\n",
    "movieWithEmptyActors =  db.movies.find({\"actors\" :{\"$exists\":True,\"$lte\":[]}},{\"title\" : 1, \"actors\": 1})\n",
    "count = 0\n",
    "for movie in movieWithEmptyActors:\n",
    "    count+=1;\n",
    "    print(\"=====\"+str(count)+\"=====\")\n",
    "    print(movie)\n",
    "    print(\"\\n\")"
   ]
  },
  {
   "source": [
    "<h2>Q : Donnez tous les films dont le directeur est Clint Eastwood ?</h2>"
   ],
   "cell_type": "markdown",
   "metadata": {}
  },
  {
   "cell_type": "code",
   "execution_count": 84,
   "metadata": {},
   "outputs": [
    {
     "output_type": "stream",
     "name": "stdout",
     "text": [
      "{'_id': 'movie:8', 'title': 'Impitoyable', 'director': {'_id': 'artist:20'}}\n\n\n{'_id': 'movie:26', 'title': 'Les pleins pouvoirs', 'director': {'_id': 'artist:20'}}\n\n\n{'_id': 'movie:63', 'title': 'Million Dollar Baby', 'director': {'_id': 'artist:20'}}\n\n\n"
     ]
    }
   ],
   "source": [
    "eastwood = db.artists.find_one({\"first_name\": \"Clint\", \"last_name\": \"Eastwood\"}) \n",
    "eastwoodMovies = db.movies.find({\"director._id\": eastwood['_id']}, {\"title\": 1, \"director._id\" : 1})\n",
    "db.artists.fin\n",
    "\n",
    "for movie in eastwoodMovies:\n",
    "    print(movie)\n",
    "    print(\"\\n\")\n"
   ]
  },
  {
   "source": [
    "<h1>#####                  Expressions régulières ?                     #####</h1>"
   ],
   "cell_type": "markdown",
   "metadata": {}
  },
  {
   "source": [
    "<h2>Q : Tous les films dont le titre commence par 'Re' ?</h2>"
   ],
   "cell_type": "markdown",
   "metadata": {}
  },
  {
   "cell_type": "code",
   "execution_count": 85,
   "metadata": {},
   "outputs": [
    {
     "output_type": "stream",
     "name": "stdout",
     "text": [
      "{'_id': 'movie:36', 'title': 'Reservoir dogs', 'year': 1992, 'genre': 'crime', 'country': 'USA', 'director': {'_id': 'artist:37'}}\n"
     ]
    }
   ],
   "source": [
    "moviesBeginByRe = db.movies.find({\"title\": {\"$regex\" :'^Re'}}, {\"actors\": 0, \"summary\": 0})\n",
    "\n",
    "for movie in moviesBeginByRe : \n",
    "    print(movie)\n",
    "\n"
   ]
  },
  {
   "source": [
    "<h2>Q : Tous les films dont le titre finit par 'la' ?</h2>"
   ],
   "cell_type": "markdown",
   "metadata": {}
  },
  {
   "cell_type": "code",
   "execution_count": 86,
   "metadata": {},
   "outputs": [
    {
     "output_type": "stream",
     "name": "stdout",
     "text": [
      "{'_id': 'movie:22', 'title': 'Godzilla', 'year': 1998, 'genre': 'Action', 'country': 'USA', 'director': {'_id': 'artist:58'}}\n"
     ]
    }
   ],
   "source": [
    "moviesFinishByLa = db.movies.find({\"title\": {\"$regex\" :'la$'}}, {\"actors\": 0, \"summary\": 0})\n",
    "\n",
    "for movie in moviesFinishByLa : \n",
    "    print(movie)\n"
   ]
  },
  {
   "source": [
    "<h2>Q : Combien de films ont été joués par l'acteur dont l'id est 147 et les afficher en se limitant au titre du film et la liste des acteurs ?</h2>"
   ],
   "cell_type": "markdown",
   "metadata": {}
  },
  {
   "cell_type": "code",
   "execution_count": 95,
   "metadata": {},
   "outputs": [
    {
     "output_type": "stream",
     "name": "stdout",
     "text": [
      "{'_id': 'movie:9', 'title': 'Gladiator', 'actors': [{'_id': 'artist:23', 'role': 'Maximus'}, {'_id': 'artist:147', 'role': 'Commode'}, {'_id': 'artist:148', 'role': 'Lucilla'}, {'_id': 'artist:149', 'role': 'Marc Aurele'}]}\n"
     ]
    }
   ],
   "source": [
    "moviesWithSpecifiedActor = db.movies.find({\"actors._id\":{\"$all\":[\"artist:147\"]}},{\"title\" : 1, \"actors\": 1}).sort(\"title\",1)\n",
    "\n",
    "for movie in moviesWithSpecifiedActor : \n",
    "    print(movie)\n",
    "\n"
   ]
  },
  {
   "source": [
    "<h2>Q : Retourner les films joués par l'acteur 147 sans les acteurs et sans le résumé ?</h2>"
   ],
   "cell_type": "markdown",
   "metadata": {}
  },
  {
   "cell_type": "code",
   "execution_count": 97,
   "metadata": {},
   "outputs": [
    {
     "output_type": "stream",
     "name": "stdout",
     "text": [
      "{'_id': 'movie:9', 'title': 'Gladiator', 'year': 2000, 'genre': 'drama', 'country': 'USA', 'director': {'_id': 'artist:4'}}\n"
     ]
    }
   ],
   "source": [
    "moviesWithSpecifiedActor = db.movies.find({\"actors._id\":{\"$all\":[\"artist:147\"]}},{\"summary\" : 0, \"actors\": 0}).sort(\"title\",1)\n",
    "\n",
    "for movie in moviesWithSpecifiedActor : \n",
    "    print(movie)"
   ]
  },
  {
   "cell_type": "code",
   "execution_count": null,
   "metadata": {},
   "outputs": [],
   "source": []
  }
 ]
}